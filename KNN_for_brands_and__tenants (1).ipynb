{
  "nbformat": 4,
  "nbformat_minor": 0,
  "metadata": {
    "colab": {
      "name": "KNN_for_brands_and _tenants.ipynb",
      "provenance": [],
      "collapsed_sections": []
    },
    "kernelspec": {
      "name": "python3",
      "display_name": "Python 3"
    },
    "language_info": {
      "name": "python"
    }
  },
  "cells": [
    {
      "cell_type": "code",
      "source": [
        "from google.colab import drive\n",
        "drive.mount('/content/drive')"
      ],
      "metadata": {
        "id": "i3S3bzTP6QQD",
        "colab": {
          "base_uri": "https://localhost:8080/"
        },
        "outputId": "47cf2227-7841-42f0-e796-522035b0d8e9"
      },
      "execution_count": 1,
      "outputs": [
        {
          "output_type": "stream",
          "name": "stdout",
          "text": [
            "Drive already mounted at /content/drive; to attempt to forcibly remount, call drive.mount(\"/content/drive\", force_remount=True).\n"
          ]
        }
      ]
    },
    {
      "cell_type": "code",
      "execution_count": 2,
      "metadata": {
        "id": "bWMWXcQ7N0IX"
      },
      "outputs": [],
      "source": [
        "import numpy as np\n",
        "import pandas as pd\n",
        "import matplotlib.pyplot as plt"
      ]
    },
    {
      "cell_type": "code",
      "source": [
        "# from google.colab import drive\n",
        "# drive.mount('/content/drive')"
      ],
      "metadata": {
        "id": "BiYf5RcdwRJc"
      },
      "execution_count": 3,
      "outputs": []
    },
    {
      "cell_type": "code",
      "source": [
        "df=pd.read_csv('/content/drive/MyDrive/quit1.csv')\n",
        "df.columns"
      ],
      "metadata": {
        "colab": {
          "base_uri": "https://localhost:8080/"
        },
        "id": "OP-MfLC-TBMh",
        "outputId": "17ac0894-22cd-4e24-e372-d8be619f1883"
      },
      "execution_count": 4,
      "outputs": [
        {
          "output_type": "execute_result",
          "data": {
            "text/plain": [
              "Index(['Unnamed: 0', 'clients', 'First_name', 'Last_Name', 'gender_details',\n",
              "       'marital_status', 'users_age', 'user_study', 'birth_day', 'user_city',\n",
              "       'users_county', 'users_country', 'users_income', 'tenants', 'views',\n",
              "       'brand', 'brand2'],\n",
              "      dtype='object')"
            ]
          },
          "metadata": {},
          "execution_count": 4
        }
      ]
    },
    {
      "cell_type": "code",
      "source": [
        "df=df[:10000]"
      ],
      "metadata": {
        "id": "hCgo9N_u8gqM"
      },
      "execution_count": 5,
      "outputs": []
    },
    {
      "cell_type": "code",
      "source": [
        "df.drop(['Unnamed: 0'],axis=1,inplace=True)\n",
        "df.head()"
      ],
      "metadata": {
        "colab": {
          "base_uri": "https://localhost:8080/",
          "height": 444
        },
        "id": "-CeFKKG9Tvss",
        "outputId": "3a1018a1-8f2a-4d30-cb79-8b294092cd1b"
      },
      "execution_count": 6,
      "outputs": [
        {
          "output_type": "execute_result",
          "data": {
            "text/plain": [
              "                    clients First_name Last_Name gender_details  \\\n",
              "0  5dcd9af338a50560dc9cdaf2      Keith     Hagly           male   \n",
              "1  5dcd3c2fadfef4341ce48fbb      Keith     Brown           male   \n",
              "2  5dcd911338a50560dc99bdce     Donnie      Pres           male   \n",
              "3  5dcd968938a50560dc9b76bd      Randy      Pete           male   \n",
              "4  5dcd911238a50560dc99bd7a      Robin    Rhodes         female   \n",
              "\n",
              "  marital_status  users_age user_study         birth_day user_city  \\\n",
              "0   relationship         27        NaN  08-03-1982 01:12       NaN   \n",
              "1        married         31        NaN  20-02-1973 01:29       NaN   \n",
              "2   relationship         27        NaN  12-10-1965 06:35       NaN   \n",
              "3        married         66        NaN  18-05-1969 12:42       NaN   \n",
              "4        married         51        NaN  26-12-1981 21:13       NaN   \n",
              "\n",
              "  users_county users_country  users_income  \\\n",
              "0          NaN           NaN        2563.0   \n",
              "1          NaN           NaN        7724.0   \n",
              "2          NaN           NaN        3359.0   \n",
              "3          NaN           NaN        8636.0   \n",
              "4          NaN           NaN        2064.0   \n",
              "\n",
              "                                             tenants       views  \\\n",
              "0  Gentle Monster,John Lobb,Karam Beirut,Louis Fe...  25-10-2021   \n",
              "1  Gentle Monster,IRO,Cartier,Asian Wok,KOI THE,L...  03-12-2021   \n",
              "2  Carolina Herrera,Sharief,Dior Beauty,Centrepoi...  25-11-2021   \n",
              "3  Jo Malone,Abercrombie & Fitch,Occhiali Optics,...  15-12-2021   \n",
              "4  New York Fries,Rivoli Watches,Läderach Chocola...  02-10-2021   \n",
              "\n",
              "                                               brand  \\\n",
              "0                John Lobb,Karam Beirut,Louis Feraud   \n",
              "1                                Cartier,IRO,KOI THE   \n",
              "2  Zero Halliburton,Sheraton Hotel,Fogarty,Naf Na...   \n",
              "3  Tag  Heuer,Jo Malone,Vogue,Abercrombie & Fitch...   \n",
              "4  Jaquet Droz,Sharjah Islamic Bank,Läderach Choc...   \n",
              "\n",
              "                                              brand2  \n",
              "0  John Lobb,Louis Feraud,Gentle Monster,Karam Be...  \n",
              "1  Asian Wok,KOI THE,Roger Vivier,Cartier,Levi's,...  \n",
              "2  Canningvale,Fogarty,Dior,Carolina Herrera,Chri...  \n",
              "3  Birkenstock,Vogue,Abercrombie & Fitch,Abercrom...  \n",
              "4  Apple,Sharjah Islamic Bank,Jaquet Droz,Carl F....  "
            ],
            "text/html": [
              "\n",
              "  <div id=\"df-1b0cc73b-dcfa-4d23-bc4a-90f1ac4ec76f\">\n",
              "    <div class=\"colab-df-container\">\n",
              "      <div>\n",
              "<style scoped>\n",
              "    .dataframe tbody tr th:only-of-type {\n",
              "        vertical-align: middle;\n",
              "    }\n",
              "\n",
              "    .dataframe tbody tr th {\n",
              "        vertical-align: top;\n",
              "    }\n",
              "\n",
              "    .dataframe thead th {\n",
              "        text-align: right;\n",
              "    }\n",
              "</style>\n",
              "<table border=\"1\" class=\"dataframe\">\n",
              "  <thead>\n",
              "    <tr style=\"text-align: right;\">\n",
              "      <th></th>\n",
              "      <th>clients</th>\n",
              "      <th>First_name</th>\n",
              "      <th>Last_Name</th>\n",
              "      <th>gender_details</th>\n",
              "      <th>marital_status</th>\n",
              "      <th>users_age</th>\n",
              "      <th>user_study</th>\n",
              "      <th>birth_day</th>\n",
              "      <th>user_city</th>\n",
              "      <th>users_county</th>\n",
              "      <th>users_country</th>\n",
              "      <th>users_income</th>\n",
              "      <th>tenants</th>\n",
              "      <th>views</th>\n",
              "      <th>brand</th>\n",
              "      <th>brand2</th>\n",
              "    </tr>\n",
              "  </thead>\n",
              "  <tbody>\n",
              "    <tr>\n",
              "      <th>0</th>\n",
              "      <td>5dcd9af338a50560dc9cdaf2</td>\n",
              "      <td>Keith</td>\n",
              "      <td>Hagly</td>\n",
              "      <td>male</td>\n",
              "      <td>relationship</td>\n",
              "      <td>27</td>\n",
              "      <td>NaN</td>\n",
              "      <td>08-03-1982 01:12</td>\n",
              "      <td>NaN</td>\n",
              "      <td>NaN</td>\n",
              "      <td>NaN</td>\n",
              "      <td>2563.0</td>\n",
              "      <td>Gentle Monster,John Lobb,Karam Beirut,Louis Fe...</td>\n",
              "      <td>25-10-2021</td>\n",
              "      <td>John Lobb,Karam Beirut,Louis Feraud</td>\n",
              "      <td>John Lobb,Louis Feraud,Gentle Monster,Karam Be...</td>\n",
              "    </tr>\n",
              "    <tr>\n",
              "      <th>1</th>\n",
              "      <td>5dcd3c2fadfef4341ce48fbb</td>\n",
              "      <td>Keith</td>\n",
              "      <td>Brown</td>\n",
              "      <td>male</td>\n",
              "      <td>married</td>\n",
              "      <td>31</td>\n",
              "      <td>NaN</td>\n",
              "      <td>20-02-1973 01:29</td>\n",
              "      <td>NaN</td>\n",
              "      <td>NaN</td>\n",
              "      <td>NaN</td>\n",
              "      <td>7724.0</td>\n",
              "      <td>Gentle Monster,IRO,Cartier,Asian Wok,KOI THE,L...</td>\n",
              "      <td>03-12-2021</td>\n",
              "      <td>Cartier,IRO,KOI THE</td>\n",
              "      <td>Asian Wok,KOI THE,Roger Vivier,Cartier,Levi's,...</td>\n",
              "    </tr>\n",
              "    <tr>\n",
              "      <th>2</th>\n",
              "      <td>5dcd911338a50560dc99bdce</td>\n",
              "      <td>Donnie</td>\n",
              "      <td>Pres</td>\n",
              "      <td>male</td>\n",
              "      <td>relationship</td>\n",
              "      <td>27</td>\n",
              "      <td>NaN</td>\n",
              "      <td>12-10-1965 06:35</td>\n",
              "      <td>NaN</td>\n",
              "      <td>NaN</td>\n",
              "      <td>NaN</td>\n",
              "      <td>3359.0</td>\n",
              "      <td>Carolina Herrera,Sharief,Dior Beauty,Centrepoi...</td>\n",
              "      <td>25-11-2021</td>\n",
              "      <td>Zero Halliburton,Sheraton Hotel,Fogarty,Naf Na...</td>\n",
              "      <td>Canningvale,Fogarty,Dior,Carolina Herrera,Chri...</td>\n",
              "    </tr>\n",
              "    <tr>\n",
              "      <th>3</th>\n",
              "      <td>5dcd968938a50560dc9b76bd</td>\n",
              "      <td>Randy</td>\n",
              "      <td>Pete</td>\n",
              "      <td>male</td>\n",
              "      <td>married</td>\n",
              "      <td>66</td>\n",
              "      <td>NaN</td>\n",
              "      <td>18-05-1969 12:42</td>\n",
              "      <td>NaN</td>\n",
              "      <td>NaN</td>\n",
              "      <td>NaN</td>\n",
              "      <td>8636.0</td>\n",
              "      <td>Jo Malone,Abercrombie &amp; Fitch,Occhiali Optics,...</td>\n",
              "      <td>15-12-2021</td>\n",
              "      <td>Tag  Heuer,Jo Malone,Vogue,Abercrombie &amp; Fitch...</td>\n",
              "      <td>Birkenstock,Vogue,Abercrombie &amp; Fitch,Abercrom...</td>\n",
              "    </tr>\n",
              "    <tr>\n",
              "      <th>4</th>\n",
              "      <td>5dcd911238a50560dc99bd7a</td>\n",
              "      <td>Robin</td>\n",
              "      <td>Rhodes</td>\n",
              "      <td>female</td>\n",
              "      <td>married</td>\n",
              "      <td>51</td>\n",
              "      <td>NaN</td>\n",
              "      <td>26-12-1981 21:13</td>\n",
              "      <td>NaN</td>\n",
              "      <td>NaN</td>\n",
              "      <td>NaN</td>\n",
              "      <td>2064.0</td>\n",
              "      <td>New York Fries,Rivoli Watches,Läderach Chocola...</td>\n",
              "      <td>02-10-2021</td>\n",
              "      <td>Jaquet Droz,Sharjah Islamic Bank,Läderach Choc...</td>\n",
              "      <td>Apple,Sharjah Islamic Bank,Jaquet Droz,Carl F....</td>\n",
              "    </tr>\n",
              "  </tbody>\n",
              "</table>\n",
              "</div>\n",
              "      <button class=\"colab-df-convert\" onclick=\"convertToInteractive('df-1b0cc73b-dcfa-4d23-bc4a-90f1ac4ec76f')\"\n",
              "              title=\"Convert this dataframe to an interactive table.\"\n",
              "              style=\"display:none;\">\n",
              "        \n",
              "  <svg xmlns=\"http://www.w3.org/2000/svg\" height=\"24px\"viewBox=\"0 0 24 24\"\n",
              "       width=\"24px\">\n",
              "    <path d=\"M0 0h24v24H0V0z\" fill=\"none\"/>\n",
              "    <path d=\"M18.56 5.44l.94 2.06.94-2.06 2.06-.94-2.06-.94-.94-2.06-.94 2.06-2.06.94zm-11 1L8.5 8.5l.94-2.06 2.06-.94-2.06-.94L8.5 2.5l-.94 2.06-2.06.94zm10 10l.94 2.06.94-2.06 2.06-.94-2.06-.94-.94-2.06-.94 2.06-2.06.94z\"/><path d=\"M17.41 7.96l-1.37-1.37c-.4-.4-.92-.59-1.43-.59-.52 0-1.04.2-1.43.59L10.3 9.45l-7.72 7.72c-.78.78-.78 2.05 0 2.83L4 21.41c.39.39.9.59 1.41.59.51 0 1.02-.2 1.41-.59l7.78-7.78 2.81-2.81c.8-.78.8-2.07 0-2.86zM5.41 20L4 18.59l7.72-7.72 1.47 1.35L5.41 20z\"/>\n",
              "  </svg>\n",
              "      </button>\n",
              "      \n",
              "  <style>\n",
              "    .colab-df-container {\n",
              "      display:flex;\n",
              "      flex-wrap:wrap;\n",
              "      gap: 12px;\n",
              "    }\n",
              "\n",
              "    .colab-df-convert {\n",
              "      background-color: #E8F0FE;\n",
              "      border: none;\n",
              "      border-radius: 50%;\n",
              "      cursor: pointer;\n",
              "      display: none;\n",
              "      fill: #1967D2;\n",
              "      height: 32px;\n",
              "      padding: 0 0 0 0;\n",
              "      width: 32px;\n",
              "    }\n",
              "\n",
              "    .colab-df-convert:hover {\n",
              "      background-color: #E2EBFA;\n",
              "      box-shadow: 0px 1px 2px rgba(60, 64, 67, 0.3), 0px 1px 3px 1px rgba(60, 64, 67, 0.15);\n",
              "      fill: #174EA6;\n",
              "    }\n",
              "\n",
              "    [theme=dark] .colab-df-convert {\n",
              "      background-color: #3B4455;\n",
              "      fill: #D2E3FC;\n",
              "    }\n",
              "\n",
              "    [theme=dark] .colab-df-convert:hover {\n",
              "      background-color: #434B5C;\n",
              "      box-shadow: 0px 1px 3px 1px rgba(0, 0, 0, 0.15);\n",
              "      filter: drop-shadow(0px 1px 2px rgba(0, 0, 0, 0.3));\n",
              "      fill: #FFFFFF;\n",
              "    }\n",
              "  </style>\n",
              "\n",
              "      <script>\n",
              "        const buttonEl =\n",
              "          document.querySelector('#df-1b0cc73b-dcfa-4d23-bc4a-90f1ac4ec76f button.colab-df-convert');\n",
              "        buttonEl.style.display =\n",
              "          google.colab.kernel.accessAllowed ? 'block' : 'none';\n",
              "\n",
              "        async function convertToInteractive(key) {\n",
              "          const element = document.querySelector('#df-1b0cc73b-dcfa-4d23-bc4a-90f1ac4ec76f');\n",
              "          const dataTable =\n",
              "            await google.colab.kernel.invokeFunction('convertToInteractive',\n",
              "                                                     [key], {});\n",
              "          if (!dataTable) return;\n",
              "\n",
              "          const docLinkHtml = 'Like what you see? Visit the ' +\n",
              "            '<a target=\"_blank\" href=https://colab.research.google.com/notebooks/data_table.ipynb>data table notebook</a>'\n",
              "            + ' to learn more about interactive tables.';\n",
              "          element.innerHTML = '';\n",
              "          dataTable['output_type'] = 'display_data';\n",
              "          await google.colab.output.renderOutput(dataTable, element);\n",
              "          const docLink = document.createElement('div');\n",
              "          docLink.innerHTML = docLinkHtml;\n",
              "          element.appendChild(docLink);\n",
              "        }\n",
              "      </script>\n",
              "    </div>\n",
              "  </div>\n",
              "  "
            ]
          },
          "metadata": {},
          "execution_count": 6
        }
      ]
    },
    {
      "cell_type": "code",
      "source": [
        "df['brand2'].isnull().value_counts()"
      ],
      "metadata": {
        "colab": {
          "base_uri": "https://localhost:8080/"
        },
        "id": "aEuGgQI3UxUI",
        "outputId": "9674ad98-7924-486e-9077-657cf7752621"
      },
      "execution_count": 7,
      "outputs": [
        {
          "output_type": "execute_result",
          "data": {
            "text/plain": [
              "False    9797\n",
              "True      203\n",
              "Name: brand2, dtype: int64"
            ]
          },
          "metadata": {},
          "execution_count": 7
        }
      ]
    },
    {
      "cell_type": "code",
      "source": [
        "df.loc[df['brand2'].duplicated(),'brand']"
      ],
      "metadata": {
        "colab": {
          "base_uri": "https://localhost:8080/"
        },
        "id": "dPb4-N5giS89",
        "outputId": "17bdb02d-1f5e-47e1-c8af-d546403c5c18"
      },
      "execution_count": 8,
      "outputs": [
        {
          "output_type": "execute_result",
          "data": {
            "text/plain": [
              "74      NaN\n",
              "110     NaN\n",
              "165     NaN\n",
              "217     NaN\n",
              "283     NaN\n",
              "       ... \n",
              "9806    NaN\n",
              "9813    NaN\n",
              "9877    NaN\n",
              "9931    NaN\n",
              "9968    NaN\n",
              "Name: brand, Length: 202, dtype: object"
            ]
          },
          "metadata": {},
          "execution_count": 8
        }
      ]
    },
    {
      "cell_type": "code",
      "source": [
        "df.loc[df['brand2'].isnull(),'brand2']"
      ],
      "metadata": {
        "colab": {
          "base_uri": "https://localhost:8080/"
        },
        "id": "RfTq7Ap-VQLX",
        "outputId": "283aa9db-cabd-4cbd-b507-4b801567d4a2"
      },
      "execution_count": 9,
      "outputs": [
        {
          "output_type": "execute_result",
          "data": {
            "text/plain": [
              "40      NaN\n",
              "74      NaN\n",
              "110     NaN\n",
              "165     NaN\n",
              "217     NaN\n",
              "       ... \n",
              "9806    NaN\n",
              "9813    NaN\n",
              "9877    NaN\n",
              "9931    NaN\n",
              "9968    NaN\n",
              "Name: brand2, Length: 203, dtype: object"
            ]
          },
          "metadata": {},
          "execution_count": 9
        }
      ]
    },
    {
      "cell_type": "code",
      "source": [
        "df['brand2'].isnull().value_counts()"
      ],
      "metadata": {
        "id": "_E-AmuzqVglw",
        "colab": {
          "base_uri": "https://localhost:8080/"
        },
        "outputId": "d69ec8e5-844f-41d6-c5ba-51514306e050"
      },
      "execution_count": 10,
      "outputs": [
        {
          "output_type": "execute_result",
          "data": {
            "text/plain": [
              "False    9797\n",
              "True      203\n",
              "Name: brand2, dtype: int64"
            ]
          },
          "metadata": {},
          "execution_count": 10
        }
      ]
    },
    {
      "cell_type": "code",
      "source": [
        "df2=df[df['brand2'].notnull()]"
      ],
      "metadata": {
        "id": "5CJWJF88jrqe"
      },
      "execution_count": 11,
      "outputs": []
    },
    {
      "cell_type": "code",
      "source": [
        "df2.shape"
      ],
      "metadata": {
        "colab": {
          "base_uri": "https://localhost:8080/"
        },
        "id": "DOaP96mrj6gT",
        "outputId": "312a12d8-de52-43a8-d3d2-b900657f41df"
      },
      "execution_count": 12,
      "outputs": [
        {
          "output_type": "execute_result",
          "data": {
            "text/plain": [
              "(9797, 16)"
            ]
          },
          "metadata": {},
          "execution_count": 12
        }
      ]
    },
    {
      "cell_type": "code",
      "source": [
        "df2['brand2'].isnull().value_counts()"
      ],
      "metadata": {
        "colab": {
          "base_uri": "https://localhost:8080/"
        },
        "id": "YOJ2TOoqj7tz",
        "outputId": "f4625dd6-08d9-44a2-a896-02787520ded8"
      },
      "execution_count": 13,
      "outputs": [
        {
          "output_type": "execute_result",
          "data": {
            "text/plain": [
              "False    9797\n",
              "Name: brand2, dtype: int64"
            ]
          },
          "metadata": {},
          "execution_count": 13
        }
      ]
    },
    {
      "cell_type": "code",
      "source": [
        "# df2.loc[df2['users_income'].isnull(),'users_income'].fillna(df2['users_income'].mean())"
      ],
      "metadata": {
        "id": "iZgIQC1KxHrY"
      },
      "execution_count": 14,
      "outputs": []
    },
    {
      "cell_type": "code",
      "source": [
        "df2['users_income'].fillna(df2['users_income'].mean(),inplace=True)"
      ],
      "metadata": {
        "colab": {
          "base_uri": "https://localhost:8080/"
        },
        "id": "RpHUTvNvxfwr",
        "outputId": "ea35b0f6-b9fc-4b6d-e082-5c1edb18fd2f"
      },
      "execution_count": 15,
      "outputs": [
        {
          "output_type": "stream",
          "name": "stderr",
          "text": [
            "/usr/local/lib/python3.7/dist-packages/pandas/core/generic.py:6392: SettingWithCopyWarning: \n",
            "A value is trying to be set on a copy of a slice from a DataFrame\n",
            "\n",
            "See the caveats in the documentation: https://pandas.pydata.org/pandas-docs/stable/user_guide/indexing.html#returning-a-view-versus-a-copy\n",
            "  return self._update_inplace(result)\n"
          ]
        }
      ]
    },
    {
      "cell_type": "code",
      "source": [
        "df2['users_income'].fillna(df2['users_income'].mean(),inplace=True)\n",
        "df2['users_income'].isnull().value_counts()"
      ],
      "metadata": {
        "colab": {
          "base_uri": "https://localhost:8080/"
        },
        "id": "-hlR8QJmyDu_",
        "outputId": "e1bc0a86-01b0-4767-d492-7b777389e2b4"
      },
      "execution_count": 16,
      "outputs": [
        {
          "output_type": "stream",
          "name": "stderr",
          "text": [
            "/usr/local/lib/python3.7/dist-packages/pandas/core/generic.py:6392: SettingWithCopyWarning: \n",
            "A value is trying to be set on a copy of a slice from a DataFrame\n",
            "\n",
            "See the caveats in the documentation: https://pandas.pydata.org/pandas-docs/stable/user_guide/indexing.html#returning-a-view-versus-a-copy\n",
            "  return self._update_inplace(result)\n"
          ]
        },
        {
          "output_type": "execute_result",
          "data": {
            "text/plain": [
              "False    9797\n",
              "Name: users_income, dtype: int64"
            ]
          },
          "metadata": {},
          "execution_count": 16
        }
      ]
    },
    {
      "cell_type": "code",
      "source": [
        "df2['users_age'].isnull().value_counts()"
      ],
      "metadata": {
        "colab": {
          "base_uri": "https://localhost:8080/"
        },
        "id": "Ig1SZIrpyYKw",
        "outputId": "213e8208-3ac5-43f9-ad0c-20ed733d0c7f"
      },
      "execution_count": 17,
      "outputs": [
        {
          "output_type": "execute_result",
          "data": {
            "text/plain": [
              "False    9797\n",
              "Name: users_age, dtype: int64"
            ]
          },
          "metadata": {},
          "execution_count": 17
        }
      ]
    },
    {
      "cell_type": "code",
      "source": [
        "df2['marital_status'].isnull().value_counts()"
      ],
      "metadata": {
        "colab": {
          "base_uri": "https://localhost:8080/"
        },
        "id": "bOEUZax7ydEv",
        "outputId": "eadfbff9-3786-47c2-f09a-af15d10a3e81"
      },
      "execution_count": 18,
      "outputs": [
        {
          "output_type": "execute_result",
          "data": {
            "text/plain": [
              "False    9797\n",
              "Name: marital_status, dtype: int64"
            ]
          },
          "metadata": {},
          "execution_count": 18
        }
      ]
    },
    {
      "cell_type": "code",
      "source": [
        "df2['gender_details'].isnull().value_counts()"
      ],
      "metadata": {
        "colab": {
          "base_uri": "https://localhost:8080/"
        },
        "id": "OjbJlE9MyhFn",
        "outputId": "85230345-9b06-410a-e230-de3ac1561693"
      },
      "execution_count": 19,
      "outputs": [
        {
          "output_type": "execute_result",
          "data": {
            "text/plain": [
              "False    9797\n",
              "Name: gender_details, dtype: int64"
            ]
          },
          "metadata": {},
          "execution_count": 19
        }
      ]
    },
    {
      "cell_type": "code",
      "source": [
        "df2['tenants'].isnull().value_counts()"
      ],
      "metadata": {
        "colab": {
          "base_uri": "https://localhost:8080/"
        },
        "id": "p8nQ2oMUyl2P",
        "outputId": "23751af9-b3e3-4577-9da1-508b6fb89e33"
      },
      "execution_count": 20,
      "outputs": [
        {
          "output_type": "execute_result",
          "data": {
            "text/plain": [
              "False    9797\n",
              "Name: tenants, dtype: int64"
            ]
          },
          "metadata": {},
          "execution_count": 20
        }
      ]
    },
    {
      "cell_type": "code",
      "source": [
        "df2['user_study'].isnull().value_counts()"
      ],
      "metadata": {
        "colab": {
          "base_uri": "https://localhost:8080/"
        },
        "id": "uEn413pQysI_",
        "outputId": "e716f23b-0f05-40c3-94d3-d73b714b3f5e"
      },
      "execution_count": 21,
      "outputs": [
        {
          "output_type": "execute_result",
          "data": {
            "text/plain": [
              "True     7446\n",
              "False    2351\n",
              "Name: user_study, dtype: int64"
            ]
          },
          "metadata": {},
          "execution_count": 21
        }
      ]
    },
    {
      "cell_type": "code",
      "source": [
        "df2.loc[df2['users_age']==0,'users_age']=df2['users_age'].mean()\n",
        "df2['users_age']\n"
      ],
      "metadata": {
        "colab": {
          "base_uri": "https://localhost:8080/"
        },
        "id": "ljeFmyUVyyTH",
        "outputId": "1764f675-7434-40fe-d3df-1b68aa8cc542"
      },
      "execution_count": 22,
      "outputs": [
        {
          "output_type": "stream",
          "name": "stderr",
          "text": [
            "/usr/local/lib/python3.7/dist-packages/pandas/core/indexing.py:1817: SettingWithCopyWarning: \n",
            "A value is trying to be set on a copy of a slice from a DataFrame.\n",
            "Try using .loc[row_indexer,col_indexer] = value instead\n",
            "\n",
            "See the caveats in the documentation: https://pandas.pydata.org/pandas-docs/stable/user_guide/indexing.html#returning-a-view-versus-a-copy\n",
            "  self._setitem_single_column(loc, value, pi)\n"
          ]
        },
        {
          "output_type": "execute_result",
          "data": {
            "text/plain": [
              "0       27.0\n",
              "1       31.0\n",
              "2       27.0\n",
              "3       66.0\n",
              "4       51.0\n",
              "        ... \n",
              "9995    45.0\n",
              "9996    70.0\n",
              "9997    71.0\n",
              "9998    67.0\n",
              "9999    51.0\n",
              "Name: users_age, Length: 9797, dtype: float64"
            ]
          },
          "metadata": {},
          "execution_count": 22
        }
      ]
    },
    {
      "cell_type": "code",
      "source": [
        "import plotly.express as px\n",
        "import seaborn as sns\n",
        "Age=df2.users_age[:4000]\n",
        "Salary=df2.users_income[:4000]\n",
        "fig = px.scatter(x=Age,y=Salary)\n",
        "fig.show()"
      ],
      "metadata": {
        "colab": {
          "base_uri": "https://localhost:8080/",
          "height": 542
        },
        "id": "lMoi9eXfzwKg",
        "outputId": "35bfc337-571e-4635-e537-4b19949472e8"
      },
      "execution_count": 23,
      "outputs": [
        {
          "output_type": "display_data",
          "data": {
            "text/html": [
              "<html>\n",
              "<head><meta charset=\"utf-8\" /></head>\n",
              "<body>\n",
              "    <div>            <script src=\"https://cdnjs.cloudflare.com/ajax/libs/mathjax/2.7.5/MathJax.js?config=TeX-AMS-MML_SVG\"></script><script type=\"text/javascript\">if (window.MathJax) {MathJax.Hub.Config({SVG: {font: \"STIX-Web\"}});}</script>                <script type=\"text/javascript\">window.PlotlyConfig = {MathJaxConfig: 'local'};</script>\n",
              "        <script src=\"https://cdn.plot.ly/plotly-2.8.3.min.js\"></script>                <div id=\"e97f8289-53f6-4c5c-983c-8a4ef8796bf4\" class=\"plotly-graph-div\" style=\"height:525px; width:100%;\"></div>            <script type=\"text/javascript\">                                    window.PLOTLYENV=window.PLOTLYENV || {};                                    if (document.getElementById(\"e97f8289-53f6-4c5c-983c-8a4ef8796bf4\")) {                    Plotly.newPlot(                        \"e97f8289-53f6-4c5c-983c-8a4ef8796bf4\",                        [{\"hovertemplate\":\"x=%{x}<br>y=%{y}<extra></extra>\",\"legendgroup\":\"\",\"marker\":{\"color\":\"#636efa\",\"symbol\":\"circle\"},\"mode\":\"markers\",\"name\":\"\",\"showlegend\":false,\"x\":[27.0,31.0,27.0,66.0,51.0,24.0,64.0,42.0,58.0,58.0,60.0,30.0,62.0,35.0,70.0,70.0,43.0,29.0,59.0,65.0,60.0,46.602327243033585,70.0,34.0,46.0,71.0,55.0,36.0,33.0,30.0,49.0,58.0,71.0,24.0,53.0,46.602327243033585,30.0,43.0,34.0,53.0,63.0,66.0,30.0,47.0,29.0,39.0,36.0,65.0,51.0,32.0,32.0,38.0,37.0,24.0,39.0,34.0,68.0,45.0,38.0,33.0,41.0,46.602327243033585,71.0,50.0,41.0,56.0,26.0,66.0,71.0,61.0,50.0,59.0,24.0,60.0,22.0,46.0,60.0,50.0,24.0,59.0,46.0,39.0,48.0,30.0,66.0,46.0,47.0,65.0,53.0,51.0,66.0,33.0,57.0,55.0,43.0,47.0,30.0,39.0,52.0,39.0,25.0,37.0,40.0,69.0,55.0,45.0,58.0,71.0,65.0,47.0,32.0,43.0,36.0,61.0,48.0,39.0,35.0,62.0,46.0,63.0,29.0,70.0,47.0,57.0,58.0,44.0,39.0,44.0,57.0,57.0,47.0,39.0,59.0,55.0,29.0,52.0,51.0,57.0,71.0,31.0,53.0,64.0,56.0,31.0,52.0,64.0,68.0,41.0,51.0,26.0,51.0,48.0,38.0,49.0,46.602327243033585,43.0,44.0,32.0,47.0,69.0,45.0,31.0,34.0,71.0,35.0,62.0,26.0,47.0,58.0,66.0,30.0,70.0,68.0,47.0,24.0,44.0,35.0,43.0,26.0,39.0,63.0,44.0,60.0,59.0,27.0,55.0,45.0,44.0,53.0,60.0,23.0,64.0,66.0,61.0,35.0,26.0,47.0,55.0,60.0,54.0,65.0,69.0,38.0,44.0,69.0,70.0,34.0,67.0,56.0,65.0,31.0,31.0,51.0,38.0,44.0,66.0,30.0,52.0,66.0,42.0,41.0,43.0,40.0,38.0,69.0,33.0,53.0,31.0,59.0,58.0,42.0,45.0,39.0,40.0,59.0,37.0,44.0,25.0,40.0,67.0,67.0,70.0,25.0,47.0,67.0,55.0,70.0,31.0,29.0,55.0,56.0,56.0,34.0,46.602327243033585,49.0,59.0,34.0,33.0,53.0,63.0,26.0,59.0,33.0,58.0,35.0,70.0,30.0,52.0,35.0,24.0,26.0,66.0,53.0,64.0,63.0,60.0,64.0,27.0,51.0,24.0,53.0,40.0,43.0,65.0,30.0,37.0,49.0,66.0,62.0,46.0,23.0,24.0,39.0,72.0,64.0,61.0,41.0,24.0,31.0,50.0,54.0,36.0,53.0,55.0,46.0,57.0,62.0,56.0,37.0,32.0,34.0,56.0,25.0,27.0,27.0,60.0,34.0,64.0,67.0,35.0,55.0,64.0,56.0,38.0,35.0,57.0,25.0,24.0,24.0,71.0,37.0,44.0,32.0,45.0,26.0,37.0,65.0,43.0,28.0,64.0,46.0,52.0,61.0,71.0,38.0,34.0,26.0,61.0,41.0,26.0,60.0,45.0,45.0,54.0,60.0,50.0,26.0,26.0,51.0,58.0,62.0,67.0,38.0,37.0,48.0,67.0,23.0,25.0,53.0,39.0,52.0,40.0,45.0,37.0,44.0,28.0,54.0,69.0,45.0,24.0,57.0,36.0,41.0,43.0,69.0,59.0,46.0,48.0,37.0,27.0,64.0,56.0,33.0,27.0,36.0,40.0,30.0,45.0,61.0,58.0,48.0,51.0,48.0,26.0,64.0,48.0,56.0,24.0,48.0,40.0,50.0,43.0,32.0,64.0,68.0,68.0,68.0,51.0,72.0,43.0,35.0,44.0,35.0,64.0,26.0,72.0,23.0,43.0,51.0,58.0,59.0,39.0,42.0,32.0,25.0,47.0,72.0,50.0,46.0,47.0,60.0,61.0,70.0,42.0,60.0,40.0,26.0,57.0,30.0,57.0,72.0,29.0,38.0,57.0,53.0,52.0,68.0,40.0,26.0,26.0,56.0,47.0,54.0,38.0,66.0,34.0,40.0,40.0,53.0,40.0,62.0,39.0,59.0,46.602327243033585,40.0,60.0,64.0,59.0,25.0,33.0,44.0,29.0,33.0,37.0,48.0,51.0,50.0,49.0,55.0,41.0,36.0,47.0,46.602327243033585,31.0,57.0,60.0,47.0,25.0,67.0,71.0,43.0,31.0,40.0,42.0,27.0,71.0,25.0,30.0,31.0,30.0,39.0,24.0,56.0,45.0,23.0,32.0,30.0,68.0,32.0,48.0,60.0,61.0,57.0,72.0,70.0,60.0,49.0,26.0,43.0,44.0,41.0,51.0,51.0,66.0,47.0,25.0,65.0,49.0,65.0,28.0,66.0,38.0,70.0,31.0,39.0,47.0,71.0,49.0,52.0,45.0,43.0,43.0,57.0,24.0,58.0,38.0,35.0,29.0,35.0,44.0,42.0,64.0,70.0,55.0,72.0,29.0,35.0,69.0,57.0,66.0,37.0,46.602327243033585,48.0,49.0,60.0,66.0,54.0,35.0,47.0,47.0,26.0,34.0,23.0,28.0,54.0,53.0,55.0,70.0,23.0,42.0,44.0,38.0,45.0,54.0,59.0,64.0,31.0,44.0,59.0,35.0,30.0,24.0,36.0,28.0,59.0,48.0,53.0,27.0,30.0,29.0,60.0,67.0,40.0,33.0,32.0,50.0,57.0,29.0,29.0,39.0,64.0,35.0,38.0,38.0,40.0,68.0,71.0,58.0,42.0,47.0,42.0,24.0,49.0,39.0,71.0,48.0,50.0,51.0,46.602327243033585,46.0,71.0,51.0,50.0,57.0,49.0,60.0,71.0,56.0,29.0,58.0,28.0,48.0,42.0,34.0,23.0,34.0,50.0,41.0,25.0,72.0,35.0,67.0,61.0,29.0,28.0,42.0,46.602327243033585,48.0,53.0,59.0,62.0,60.0,48.0,55.0,30.0,50.0,46.0,38.0,68.0,47.0,37.0,44.0,67.0,23.0,25.0,32.0,50.0,39.0,46.0,46.0,43.0,40.0,37.0,40.0,52.0,40.0,39.0,69.0,32.0,56.0,64.0,50.0,60.0,36.0,31.0,29.0,29.0,33.0,60.0,27.0,22.0,51.0,64.0,57.0,42.0,66.0,43.0,44.0,53.0,40.0,46.602327243033585,26.0,34.0,42.0,24.0,31.0,54.0,46.602327243033585,46.0,60.0,35.0,33.0,46.0,43.0,67.0,55.0,52.0,65.0,68.0,54.0,56.0,58.0,68.0,30.0,38.0,44.0,44.0,67.0,23.0,38.0,63.0,51.0,46.0,42.0,56.0,53.0,63.0,49.0,53.0,22.0,43.0,61.0,60.0,37.0,39.0,36.0,47.0,46.0,46.0,47.0,52.0,47.0,41.0,66.0,37.0,70.0,48.0,59.0,50.0,46.602327243033585,43.0,67.0,69.0,24.0,49.0,61.0,44.0,68.0,56.0,47.0,61.0,44.0,64.0,51.0,46.0,25.0,39.0,38.0,24.0,35.0,45.0,29.0,51.0,24.0,36.0,62.0,33.0,37.0,67.0,33.0,49.0,43.0,45.0,27.0,39.0,59.0,47.0,38.0,70.0,59.0,28.0,33.0,56.0,26.0,24.0,68.0,69.0,69.0,29.0,66.0,42.0,24.0,68.0,55.0,36.0,64.0,64.0,53.0,36.0,23.0,35.0,57.0,62.0,51.0,58.0,32.0,72.0,28.0,36.0,26.0,38.0,52.0,33.0,29.0,48.0,63.0,52.0,57.0,30.0,59.0,48.0,57.0,38.0,67.0,38.0,33.0,45.0,24.0,33.0,43.0,30.0,64.0,47.0,58.0,63.0,48.0,40.0,44.0,64.0,69.0,44.0,22.0,33.0,35.0,70.0,38.0,46.0,22.0,31.0,69.0,56.0,27.0,44.0,56.0,46.602327243033585,26.0,25.0,26.0,25.0,38.0,49.0,45.0,27.0,47.0,59.0,37.0,52.0,25.0,53.0,51.0,46.602327243033585,53.0,53.0,32.0,50.0,45.0,51.0,49.0,62.0,35.0,37.0,54.0,63.0,41.0,47.0,48.0,55.0,38.0,31.0,40.0,69.0,34.0,49.0,55.0,61.0,37.0,51.0,64.0,60.0,30.0,42.0,26.0,51.0,71.0,71.0,59.0,46.0,38.0,62.0,70.0,50.0,41.0,56.0,53.0,27.0,69.0,64.0,51.0,27.0,49.0,54.0,60.0,45.0,63.0,68.0,24.0,66.0,49.0,47.0,60.0,50.0,53.0,63.0,70.0,62.0,42.0,46.602327243033585,36.0,23.0,38.0,39.0,22.0,32.0,45.0,44.0,24.0,43.0,70.0,26.0,38.0,23.0,29.0,44.0,35.0,58.0,31.0,71.0,29.0,60.0,67.0,57.0,71.0,66.0,43.0,52.0,48.0,44.0,43.0,31.0,34.0,60.0,65.0,66.0,56.0,37.0,57.0,25.0,62.0,41.0,44.0,59.0,59.0,23.0,50.0,51.0,52.0,37.0,52.0,55.0,37.0,50.0,38.0,72.0,51.0,38.0,48.0,59.0,48.0,40.0,31.0,62.0,52.0,55.0,30.0,66.0,37.0,35.0,62.0,62.0,49.0,54.0,46.0,57.0,40.0,38.0,59.0,28.0,40.0,32.0,26.0,59.0,66.0,71.0,60.0,39.0,71.0,66.0,61.0,70.0,69.0,44.0,66.0,28.0,29.0,31.0,25.0,24.0,24.0,57.0,36.0,67.0,24.0,67.0,30.0,46.0,67.0,41.0,26.0,69.0,31.0,50.0,40.0,55.0,70.0,48.0,58.0,24.0,52.0,49.0,27.0,36.0,33.0,28.0,61.0,56.0,41.0,46.602327243033585,64.0,57.0,34.0,37.0,58.0,28.0,47.0,26.0,27.0,58.0,58.0,57.0,59.0,45.0,31.0,56.0,51.0,40.0,27.0,46.0,51.0,52.0,37.0,63.0,29.0,34.0,66.0,28.0,52.0,70.0,64.0,57.0,35.0,32.0,61.0,41.0,29.0,53.0,72.0,40.0,43.0,47.0,44.0,38.0,54.0,60.0,70.0,65.0,63.0,37.0,37.0,24.0,47.0,51.0,57.0,64.0,38.0,46.602327243033585,67.0,65.0,23.0,27.0,65.0,25.0,62.0,24.0,43.0,53.0,33.0,41.0,67.0,28.0,46.0,40.0,71.0,50.0,33.0,35.0,56.0,60.0,62.0,30.0,50.0,31.0,27.0,46.0,56.0,43.0,49.0,60.0,67.0,30.0,37.0,58.0,36.0,58.0,30.0,53.0,68.0,49.0,60.0,50.0,57.0,37.0,39.0,27.0,52.0,32.0,51.0,44.0,57.0,39.0,66.0,51.0,26.0,46.602327243033585,63.0,33.0,44.0,68.0,36.0,46.0,53.0,51.0,61.0,47.0,47.0,29.0,70.0,37.0,44.0,56.0,67.0,41.0,38.0,61.0,27.0,50.0,52.0,34.0,51.0,26.0,70.0,66.0,70.0,59.0,37.0,67.0,50.0,54.0,39.0,68.0,26.0,40.0,46.602327243033585,44.0,70.0,25.0,46.0,31.0,62.0,40.0,60.0,49.0,24.0,39.0,69.0,56.0,29.0,62.0,51.0,38.0,45.0,52.0,38.0,50.0,70.0,46.0,61.0,26.0,72.0,26.0,61.0,58.0,65.0,25.0,65.0,25.0,56.0,38.0,25.0,47.0,40.0,67.0,69.0,71.0,46.602327243033585,31.0,65.0,48.0,43.0,62.0,43.0,51.0,62.0,38.0,32.0,63.0,27.0,51.0,38.0,33.0,50.0,58.0,58.0,25.0,37.0,32.0,54.0,51.0,68.0,39.0,61.0,53.0,26.0,72.0,51.0,67.0,52.0,69.0,49.0,40.0,47.0,61.0,45.0,44.0,46.0,29.0,59.0,56.0,51.0,68.0,64.0,43.0,25.0,37.0,64.0,24.0,30.0,32.0,57.0,33.0,56.0,68.0,31.0,56.0,54.0,30.0,57.0,37.0,60.0,66.0,35.0,54.0,67.0,50.0,63.0,49.0,69.0,56.0,51.0,64.0,26.0,42.0,37.0,60.0,25.0,69.0,31.0,72.0,65.0,62.0,62.0,46.602327243033585,52.0,51.0,27.0,69.0,56.0,64.0,23.0,24.0,49.0,39.0,29.0,36.0,26.0,36.0,23.0,68.0,50.0,42.0,66.0,63.0,57.0,42.0,44.0,34.0,54.0,30.0,68.0,31.0,41.0,63.0,51.0,55.0,55.0,69.0,40.0,62.0,38.0,33.0,31.0,38.0,40.0,49.0,51.0,60.0,58.0,45.0,55.0,44.0,22.0,55.0,53.0,41.0,46.0,37.0,38.0,46.0,37.0,65.0,35.0,46.602327243033585,33.0,58.0,62.0,37.0,68.0,24.0,39.0,32.0,42.0,28.0,45.0,48.0,27.0,54.0,25.0,22.0,29.0,40.0,42.0,26.0,42.0,36.0,27.0,35.0,38.0,62.0,43.0,30.0,51.0,71.0,30.0,51.0,42.0,42.0,52.0,26.0,56.0,49.0,70.0,36.0,23.0,43.0,62.0,32.0,30.0,58.0,37.0,58.0,58.0,44.0,28.0,31.0,24.0,40.0,29.0,41.0,68.0,56.0,38.0,54.0,30.0,56.0,63.0,27.0,46.0,51.0,45.0,26.0,50.0,40.0,26.0,59.0,29.0,29.0,33.0,60.0,45.0,54.0,56.0,58.0,72.0,66.0,34.0,30.0,23.0,44.0,63.0,51.0,31.0,63.0,34.0,62.0,51.0,31.0,57.0,46.602327243033585,48.0,26.0,45.0,51.0,47.0,50.0,60.0,37.0,57.0,67.0,61.0,66.0,35.0,53.0,26.0,29.0,24.0,63.0,60.0,65.0,38.0,25.0,48.0,32.0,30.0,55.0,46.0,34.0,23.0,34.0,65.0,30.0,52.0,55.0,50.0,68.0,39.0,53.0,36.0,68.0,46.602327243033585,27.0,71.0,33.0,58.0,25.0,61.0,46.602327243033585,45.0,25.0,56.0,31.0,41.0,68.0,49.0,44.0,46.602327243033585,44.0,37.0,29.0,26.0,56.0,71.0,35.0,66.0,71.0,50.0,57.0,50.0,43.0,47.0,50.0,67.0,34.0,44.0,50.0,55.0,72.0,45.0,55.0,51.0,30.0,56.0,39.0,49.0,68.0,56.0,69.0,24.0,33.0,23.0,32.0,28.0,41.0,23.0,65.0,42.0,64.0,33.0,24.0,27.0,48.0,32.0,40.0,62.0,39.0,53.0,29.0,65.0,50.0,55.0,67.0,54.0,50.0,70.0,25.0,36.0,58.0,39.0,60.0,60.0,28.0,68.0,40.0,69.0,55.0,46.602327243033585,38.0,69.0,48.0,36.0,49.0,60.0,31.0,68.0,65.0,31.0,70.0,52.0,48.0,43.0,30.0,55.0,61.0,31.0,60.0,69.0,47.0,70.0,34.0,27.0,43.0,31.0,42.0,72.0,37.0,39.0,26.0,64.0,48.0,38.0,72.0,45.0,36.0,58.0,30.0,60.0,73.0,64.0,35.0,60.0,60.0,66.0,38.0,37.0,58.0,56.0,48.0,53.0,49.0,29.0,58.0,58.0,71.0,44.0,31.0,58.0,58.0,61.0,23.0,71.0,31.0,39.0,36.0,68.0,37.0,25.0,70.0,52.0,61.0,32.0,50.0,64.0,47.0,38.0,44.0,30.0,45.0,46.0,41.0,68.0,51.0,33.0,52.0,44.0,22.0,44.0,29.0,25.0,55.0,40.0,65.0,24.0,39.0,31.0,33.0,48.0,35.0,60.0,32.0,27.0,47.0,59.0,55.0,65.0,35.0,60.0,52.0,26.0,40.0,70.0,48.0,28.0,58.0,48.0,35.0,55.0,45.0,32.0,40.0,27.0,65.0,65.0,42.0,45.0,64.0,59.0,43.0,54.0,62.0,68.0,46.0,28.0,47.0,55.0,64.0,26.0,71.0,32.0,56.0,71.0,43.0,40.0,55.0,28.0,55.0,38.0,35.0,53.0,69.0,25.0,40.0,60.0,42.0,26.0,43.0,42.0,40.0,71.0,58.0,49.0,28.0,57.0,24.0,56.0,61.0,53.0,66.0,58.0,30.0,36.0,45.0,65.0,57.0,66.0,27.0,39.0,44.0,30.0,61.0,34.0,34.0,70.0,66.0,37.0,58.0,70.0,36.0,47.0,47.0,70.0,27.0,34.0,67.0,30.0,59.0,54.0,64.0,36.0,39.0,47.0,64.0,24.0,51.0,25.0,34.0,42.0,70.0,34.0,73.0,57.0,26.0,29.0,52.0,56.0,27.0,48.0,33.0,27.0,32.0,37.0,58.0,66.0,38.0,67.0,31.0,48.0,71.0,50.0,52.0,51.0,35.0,46.602327243033585,55.0,61.0,24.0,31.0,23.0,60.0,72.0,45.0,30.0,71.0,61.0,36.0,29.0,68.0,35.0,41.0,60.0,29.0,34.0,27.0,60.0,37.0,48.0,41.0,33.0,59.0,53.0,30.0,55.0,27.0,36.0,36.0,39.0,25.0,60.0,27.0,68.0,30.0,44.0,71.0,55.0,49.0,70.0,38.0,38.0,31.0,71.0,70.0,47.0,56.0,37.0,23.0,35.0,60.0,37.0,52.0,65.0,50.0,34.0,64.0,69.0,22.0,30.0,31.0,42.0,64.0,54.0,59.0,65.0,46.0,31.0,64.0,47.0,34.0,26.0,46.602327243033585,53.0,38.0,49.0,47.0,66.0,51.0,25.0,29.0,36.0,56.0,53.0,68.0,42.0,64.0,58.0,70.0,58.0,63.0,30.0,48.0,33.0,59.0,48.0,51.0,45.0,40.0,31.0,56.0,39.0,63.0,71.0,46.0,34.0,31.0,51.0,33.0,68.0,65.0,30.0,58.0,63.0,72.0,66.0,36.0,45.0,67.0,60.0,39.0,23.0,47.0,38.0,67.0,62.0,66.0,48.0,53.0,72.0,33.0,36.0,60.0,53.0,64.0,69.0,46.0,63.0,68.0,71.0,48.0,69.0,27.0,59.0,23.0,39.0,53.0,32.0,46.0,51.0,24.0,51.0,43.0,42.0,51.0,24.0,62.0,57.0,31.0,47.0,58.0,35.0,57.0,26.0,51.0,32.0,70.0,69.0,33.0,65.0,61.0,70.0,58.0,55.0,62.0,37.0,24.0,71.0,27.0,73.0,53.0,34.0,23.0,72.0,64.0,32.0,33.0,50.0,50.0,32.0,32.0,66.0,30.0,30.0,37.0,32.0,30.0,49.0,65.0,47.0,39.0,46.0,50.0,44.0,68.0,42.0,26.0,27.0,24.0,54.0,25.0,24.0,59.0,24.0,41.0,44.0,56.0,67.0,23.0,37.0,38.0,68.0,29.0,56.0,62.0,38.0,58.0,51.0,59.0,46.602327243033585,63.0,58.0,52.0,36.0,23.0,43.0,51.0,47.0,37.0,25.0,71.0,35.0,59.0,33.0,30.0,62.0,68.0,28.0,50.0,53.0,52.0,66.0,37.0,56.0,65.0,33.0,29.0,64.0,30.0,27.0,44.0,37.0,40.0,57.0,65.0,52.0,68.0,70.0,51.0,58.0,35.0,32.0,51.0,46.0,51.0,58.0,71.0,50.0,52.0,45.0,37.0,58.0,65.0,45.0,55.0,47.0,51.0,38.0,65.0,58.0,50.0,57.0,68.0,72.0,26.0,47.0,46.0,45.0,69.0,32.0,55.0,50.0,59.0,53.0,33.0,39.0,61.0,65.0,48.0,71.0,29.0,66.0,45.0,66.0,66.0,45.0,27.0,25.0,51.0,42.0,56.0,60.0,50.0,54.0,49.0,35.0,33.0,70.0,27.0,41.0,68.0,43.0,66.0,53.0,47.0,59.0,43.0,49.0,71.0,63.0,35.0,61.0,56.0,58.0,41.0,34.0,34.0,59.0,33.0,36.0,25.0,49.0,35.0,45.0,63.0,30.0,65.0,31.0,32.0,66.0,70.0,48.0,62.0,70.0,58.0,70.0,41.0,61.0,44.0,57.0,40.0,48.0,32.0,47.0,32.0,36.0,32.0,29.0,70.0,37.0,58.0,60.0,28.0,55.0,64.0,70.0,24.0,43.0,63.0,63.0,33.0,28.0,25.0,39.0,40.0,25.0,40.0,53.0,71.0,26.0,41.0,66.0,44.0,55.0,62.0,27.0,27.0,32.0,49.0,37.0,55.0,45.0,25.0,48.0,40.0,55.0,36.0,56.0,49.0,44.0,42.0,27.0,53.0,30.0,35.0,41.0,49.0,26.0,38.0,39.0,43.0,67.0,55.0,34.0,49.0,67.0,58.0,31.0,69.0,37.0,48.0,63.0,71.0,62.0,46.0,56.0,65.0,46.602327243033585,55.0,60.0,71.0,40.0,40.0,70.0,26.0,70.0,65.0,71.0,51.0,66.0,51.0,46.602327243033585,50.0,41.0,55.0,25.0,62.0,45.0,67.0,33.0,66.0,40.0,26.0,56.0,34.0,66.0,46.0,40.0,44.0,24.0,41.0,56.0,26.0,71.0,55.0,38.0,43.0,26.0,52.0,29.0,60.0,70.0,53.0,40.0,43.0,53.0,46.602327243033585,39.0,54.0,48.0,29.0,24.0,49.0,65.0,51.0,59.0,62.0,28.0,57.0,56.0,48.0,23.0,41.0,26.0,49.0,67.0,71.0,44.0,53.0,67.0,39.0,25.0,68.0,56.0,48.0,60.0,61.0,55.0,28.0,28.0,60.0,68.0,44.0,55.0,25.0,53.0,51.0,58.0,72.0,45.0,40.0,54.0,60.0,41.0,40.0,40.0,56.0,48.0,49.0,46.0,24.0,57.0,40.0,55.0,46.0,59.0,64.0,61.0,68.0,29.0,33.0,60.0,23.0,39.0,67.0,26.0,38.0,61.0,37.0,38.0,37.0,26.0,33.0,28.0,63.0,28.0,37.0,71.0,59.0,58.0,62.0,44.0,44.0,62.0,46.0,50.0,46.602327243033585,43.0,65.0,36.0,50.0,39.0,25.0,44.0,39.0,31.0,71.0,40.0,36.0,54.0,25.0,50.0,43.0,35.0,53.0,68.0,62.0,49.0,52.0,41.0,36.0,54.0,38.0,66.0,24.0,32.0,69.0,31.0,51.0,42.0,61.0,58.0,40.0,44.0,30.0,57.0,37.0,65.0,39.0,46.602327243033585,40.0,36.0,23.0,56.0,31.0,34.0,66.0,70.0,50.0,50.0,33.0,56.0,39.0,41.0,29.0,53.0,70.0,30.0,35.0,22.0,32.0,49.0,25.0,49.0,26.0,58.0,55.0,68.0,56.0,38.0,36.0,64.0,28.0,53.0,50.0,25.0,41.0,59.0,72.0,47.0,65.0,58.0,25.0,44.0,37.0,23.0,36.0,40.0,61.0,43.0,36.0,41.0,46.0,59.0,58.0,25.0,66.0,57.0,51.0,26.0,50.0,52.0,53.0,65.0,27.0,54.0,38.0,56.0,58.0,64.0,42.0,23.0,48.0,54.0,44.0,44.0,39.0,43.0,45.0,68.0,59.0,40.0,60.0,54.0,42.0,24.0,50.0,37.0,24.0,37.0,68.0,44.0,62.0,58.0,44.0,58.0,41.0,22.0,71.0,24.0,38.0,41.0,72.0,64.0,53.0,51.0,66.0,72.0,48.0,54.0,27.0,37.0,44.0,24.0,46.0,55.0,42.0,25.0,47.0,64.0,55.0,55.0,71.0,64.0,25.0,47.0,27.0,44.0,37.0,53.0,27.0,38.0,68.0,32.0,52.0,62.0,30.0,42.0,54.0,54.0,62.0,48.0,30.0,39.0,54.0,71.0,36.0,24.0,47.0,50.0,65.0,52.0,49.0,65.0,24.0,43.0,43.0,29.0,38.0,41.0,32.0,27.0,51.0,39.0,45.0,40.0,38.0,37.0,43.0,68.0,67.0,36.0,55.0,49.0,64.0,29.0,48.0,31.0,64.0,62.0,47.0,58.0,64.0,64.0,41.0,23.0,46.0,37.0,60.0,57.0,57.0,54.0,40.0,48.0,53.0,36.0,24.0,66.0,24.0,38.0,25.0,57.0,44.0,37.0,59.0,49.0,43.0,28.0,28.0,33.0,34.0,46.602327243033585,63.0,51.0,47.0,31.0,40.0,22.0,69.0,31.0,26.0,45.0,33.0,44.0,57.0,71.0,70.0,55.0,46.602327243033585,57.0,38.0,40.0,56.0,34.0,33.0,33.0,32.0,46.602327243033585,40.0,66.0,63.0,58.0,50.0,60.0,68.0,60.0,68.0,33.0,55.0,62.0,34.0,22.0,64.0,66.0,65.0,68.0,68.0,59.0,24.0,62.0,45.0,64.0,24.0,46.0,58.0,43.0,62.0,43.0,63.0,53.0,39.0,59.0,61.0,50.0,49.0,23.0,66.0,55.0,47.0,36.0,51.0,57.0,49.0,39.0,36.0,29.0,58.0,41.0,70.0,49.0,50.0,62.0,39.0,28.0,43.0,40.0,37.0,65.0,72.0,61.0,33.0,61.0,46.602327243033585,61.0,41.0,49.0,40.0,60.0,23.0,51.0,59.0,37.0,29.0,63.0,47.0,49.0,31.0,57.0,33.0,40.0,50.0,62.0,23.0,36.0,58.0,60.0,31.0,23.0,44.0,43.0,68.0,51.0,55.0,37.0,67.0,69.0,43.0,72.0,33.0,64.0,37.0,31.0,59.0,29.0,39.0,37.0,51.0,22.0,52.0,69.0,28.0,43.0,38.0,32.0,23.0,62.0,64.0,48.0,25.0,63.0,34.0,37.0,55.0,30.0,25.0,41.0,40.0,45.0,53.0,51.0,60.0,23.0,33.0,40.0,68.0,22.0,51.0,40.0,47.0,52.0,35.0,39.0,27.0,26.0,29.0,46.602327243033585,39.0,63.0,45.0,30.0,51.0,23.0,51.0,43.0,42.0,62.0,72.0,28.0,65.0,49.0,41.0,46.602327243033585,59.0,62.0,54.0,29.0,57.0,32.0,46.0,59.0,57.0,48.0,44.0,44.0,24.0,36.0,55.0,68.0,61.0,55.0,59.0,38.0,26.0,52.0,38.0,38.0,60.0,65.0,70.0,47.0,45.0,38.0,71.0,48.0,46.0,66.0,38.0,61.0,51.0,59.0,45.0,57.0,67.0,67.0,37.0,31.0,46.602327243033585,32.0,53.0,58.0,23.0,44.0,51.0,54.0,29.0,46.602327243033585,51.0,58.0,57.0,58.0,30.0,29.0,37.0,47.0,31.0,43.0,61.0,50.0,46.602327243033585,30.0,54.0,57.0,59.0,47.0,47.0,47.0,60.0,50.0,64.0,42.0,54.0,42.0,30.0,70.0,39.0,25.0,59.0,39.0,59.0,60.0,57.0,55.0,35.0,24.0,54.0,46.0,36.0,65.0,37.0,46.0,48.0,50.0,55.0,36.0,24.0,62.0,25.0,49.0,36.0,60.0,48.0,46.602327243033585,48.0,64.0,55.0,31.0,72.0,67.0,24.0,33.0,66.0,31.0,24.0,40.0,54.0,49.0,42.0,58.0,38.0,49.0,32.0,65.0,54.0,48.0,26.0,58.0,57.0,62.0,45.0,68.0,33.0,48.0,67.0,71.0,61.0,60.0,52.0,44.0,56.0,63.0,46.602327243033585,50.0,46.602327243033585,51.0,70.0,49.0,68.0,24.0,30.0,62.0,27.0,53.0,45.0,66.0,52.0,24.0,49.0,47.0,49.0,51.0,27.0,30.0,53.0,55.0,62.0,30.0,36.0,61.0,70.0,59.0,64.0,48.0,60.0,52.0,53.0,46.0,71.0,25.0,66.0,51.0,47.0,30.0,41.0,51.0,49.0,56.0,51.0,38.0,56.0,49.0,35.0,59.0,53.0,46.602327243033585,45.0,71.0,49.0,39.0,38.0,60.0,68.0,37.0,24.0,27.0,70.0,28.0,32.0,61.0,68.0,47.0,42.0,37.0,58.0,72.0,64.0,27.0,38.0,43.0,58.0,29.0,44.0,57.0,56.0,49.0,30.0,32.0,52.0,46.602327243033585,47.0,58.0,32.0,42.0,29.0,70.0,57.0,71.0,68.0,52.0,68.0,66.0,64.0,70.0,51.0,58.0,59.0,29.0,51.0,46.0,53.0,65.0,44.0,46.0,35.0,49.0,72.0,44.0,24.0,64.0,34.0,31.0,70.0,26.0,32.0,22.0,48.0,28.0,41.0,32.0,25.0,45.0,43.0,72.0,62.0,25.0,68.0,45.0,27.0,38.0,57.0,63.0,29.0,48.0,47.0,38.0,23.0,37.0,44.0,31.0,28.0,55.0,28.0,43.0,25.0,69.0,41.0,53.0,71.0,31.0,67.0,40.0,51.0,62.0,60.0,38.0,67.0,50.0,42.0,31.0,49.0,37.0,28.0,62.0,48.0,35.0,49.0,56.0,40.0,56.0,51.0,36.0,65.0,27.0,66.0,55.0,63.0,30.0,52.0,51.0,35.0,51.0,37.0,48.0,23.0,40.0,53.0,28.0,36.0,28.0,26.0,53.0,30.0,68.0,49.0,45.0,38.0,26.0,24.0,31.0,55.0,61.0,47.0,35.0,42.0,43.0,53.0,62.0,40.0,37.0,37.0,46.0,26.0,25.0,68.0,53.0,46.0,61.0,45.0,40.0,28.0,46.602327243033585,57.0,56.0,26.0,34.0,23.0,44.0,56.0,46.0,49.0,45.0,69.0,25.0,38.0,54.0,66.0,30.0,61.0,58.0,71.0,43.0,66.0,38.0,60.0,44.0,24.0,29.0,30.0,60.0,38.0,26.0,24.0,23.0,70.0,23.0,31.0,61.0,57.0,49.0,32.0,71.0,48.0,49.0,27.0,72.0,58.0,66.0,25.0,54.0,50.0,36.0,47.0,66.0,34.0,60.0,31.0,42.0,47.0,62.0,63.0,61.0,40.0,38.0,36.0,45.0,69.0,24.0,29.0,36.0,36.0,35.0,28.0,62.0,24.0,39.0,47.0,41.0,68.0,70.0,44.0,64.0,56.0,48.0,44.0,38.0,63.0,61.0,42.0,25.0,33.0,40.0,72.0,35.0,28.0,65.0,24.0,23.0,55.0,68.0,70.0,46.0,36.0,66.0,42.0,70.0,26.0,59.0,59.0,57.0,32.0,71.0,37.0,54.0,39.0,66.0,32.0,59.0,38.0,49.0,24.0,64.0,43.0,31.0,60.0,68.0,26.0,38.0,58.0,51.0,62.0,32.0,45.0,27.0,28.0,53.0,23.0,60.0,53.0,28.0,32.0,25.0,33.0,23.0,25.0,44.0,68.0,49.0,51.0,60.0,37.0,27.0,38.0,66.0,48.0,67.0,54.0,44.0,59.0,61.0,31.0,44.0,45.0,33.0,35.0,67.0,49.0,66.0,47.0,58.0,68.0,39.0,48.0,44.0,58.0,36.0,44.0,25.0,71.0,68.0,40.0,51.0,28.0,29.0,35.0,25.0,35.0,42.0,28.0,46.602327243033585,44.0,49.0,53.0,41.0,34.0,27.0,31.0,36.0,32.0,71.0,29.0,66.0,45.0,28.0,60.0,51.0,27.0,32.0,30.0,43.0,50.0,30.0,40.0,30.0,40.0,45.0,70.0,64.0,47.0,54.0,23.0,51.0,51.0,56.0,38.0,29.0,48.0,23.0,49.0,56.0,52.0,63.0,51.0,34.0,54.0,50.0,48.0,59.0,45.0,64.0,31.0,35.0,24.0,64.0,51.0,58.0,37.0,29.0,31.0,63.0,38.0,27.0,48.0,37.0,35.0,55.0,53.0,63.0,64.0,47.0,40.0,37.0,57.0,28.0,53.0,56.0,54.0,71.0,71.0,37.0,59.0,42.0,64.0,37.0,58.0,57.0,43.0,66.0,50.0,31.0,23.0,47.0,30.0,40.0,49.0,23.0,45.0,72.0,30.0,65.0,58.0,71.0,58.0,47.0,60.0,61.0,27.0,68.0,25.0,53.0,48.0,36.0,41.0,27.0,68.0,27.0,61.0,68.0,61.0,56.0,48.0,70.0,66.0,69.0,54.0,48.0,72.0,58.0,32.0,47.0,63.0,46.0,36.0,25.0,56.0,57.0,54.0,30.0,69.0,47.0,26.0,43.0,49.0,64.0,27.0,54.0,55.0,50.0,49.0,24.0,25.0,64.0,44.0,68.0,45.0,48.0,37.0,22.0,63.0,70.0,70.0,48.0,40.0,43.0,55.0,32.0,42.0,70.0,71.0,63.0,50.0,24.0,53.0,60.0,58.0,36.0,39.0,58.0,25.0,52.0,26.0,36.0,31.0,71.0,41.0,32.0,34.0,48.0,67.0,71.0,30.0,68.0,45.0,38.0,33.0,37.0,32.0,51.0,55.0,61.0,44.0,46.0,66.0,69.0,34.0,46.0,59.0,63.0,45.0,39.0,57.0,54.0,60.0,55.0,38.0,40.0,42.0,24.0,58.0,61.0,30.0,42.0,63.0,66.0,24.0,35.0,40.0,42.0,33.0,41.0,48.0,38.0,63.0,58.0,25.0,38.0,68.0,64.0,27.0,49.0,58.0,26.0,52.0,71.0,40.0,71.0,39.0,58.0,40.0,59.0,29.0,46.602327243033585,58.0,57.0,39.0,39.0,70.0,48.0,25.0,67.0,27.0,53.0,54.0,72.0,34.0,51.0,58.0,71.0,62.0,63.0,62.0,64.0,45.0,27.0,30.0,57.0,58.0,52.0,42.0,62.0,30.0,62.0,32.0,46.0,57.0,36.0,46.0,69.0,32.0,42.0,57.0,39.0,60.0,50.0,38.0,30.0,25.0,39.0,63.0,26.0,43.0,40.0,45.0,44.0,65.0,25.0,57.0,67.0,23.0,22.0,50.0,29.0,48.0,26.0,35.0,46.602327243033585,28.0,66.0,67.0,64.0,50.0,34.0,66.0,40.0,60.0,64.0,53.0,62.0,32.0,37.0,44.0,47.0,43.0,60.0,54.0,30.0,50.0,33.0,59.0,31.0,27.0,55.0,36.0,46.602327243033585,67.0,35.0,23.0,27.0,52.0,34.0,25.0,63.0,32.0,72.0,37.0,40.0,55.0,50.0,24.0,25.0,33.0,37.0,45.0,24.0,26.0,51.0,37.0,35.0,63.0,58.0,61.0,59.0,59.0,39.0,38.0,45.0,56.0,43.0,50.0,23.0,39.0,63.0,71.0,26.0,53.0,59.0,71.0,46.602327243033585,48.0,58.0,41.0,24.0,31.0,43.0,57.0,68.0,34.0,30.0,37.0,62.0,48.0,42.0,33.0,34.0,43.0,32.0,58.0,44.0,58.0,25.0,24.0,66.0,67.0,30.0,23.0,35.0,46.0,35.0,36.0,60.0,23.0,46.602327243033585,55.0,70.0,62.0,24.0,64.0,46.0,42.0,25.0,63.0,44.0,69.0,51.0,60.0,72.0,56.0,35.0,26.0,39.0,33.0,30.0,37.0,45.0,39.0,29.0,43.0,57.0,39.0,40.0,50.0,29.0,52.0,58.0,68.0,45.0,29.0,24.0,70.0,40.0,54.0,71.0,56.0,36.0,69.0,61.0,37.0,68.0,57.0,61.0,60.0,66.0,65.0,62.0,48.0,60.0,32.0,35.0,66.0,56.0,63.0,27.0,50.0,61.0,46.602327243033585,51.0,45.0,51.0,73.0],\"xaxis\":\"x\",\"y\":[2563.0,7724.0,3359.0,8636.0,2064.0,4691.0,9739.0,4928.0,8213.0,7853.0,4094.0,7225.0,2133.0,8432.0,5174.0,6126.0,6089.0,3696.0,7473.0,2764.0,6303.0,4530.0,8104.0,9481.0,9564.0,7712.0,8796.0,8447.0,2887.0,8285.0,7859.0,3725.0,9836.0,3456.0,4553.0,3782.0,4250.0,9467.0,5236.0,9410.0,8999.0,3377.0,9922.0,4657.0,6249.0,9241.0,9290.0,4456.0,6175.0,9576.0,6265.0,7694.0,8151.0,9913.0,4759.0,7718.0,2000.0,9097.0,6415.0,7478.0,9525.0,5322.0,6912.0,5458.0,1250.0,4343.0,7360.0,6506.0,8705.0,9817.0,8994.0,7736.0,7947.0,7609.0,4554.0,7155.0,6100.0,8442.0,6215.0,5115.0,4623.0,9554.0,8921.0,8231.0,9582.0,6107.0,8703.0,6127.0,4773.0,8783.0,8507.0,8797.0,8726.0,5033.0,5517.0,9814.0,8292.0,3132.0,8943.0,6149.0,3927.0,4098.0,8096.0,5271.0,9668.0,6427.0,9258.0,8746.0,4277.0,2876.0,8099.0,9697.0,9823.0,7285.0,8046.0,7031.0,8753.0,8787.0,3542.0,3795.0,2782.0,7725.0,2272.0,8499.0,9841.0,5980.0,3142.0,3972.0,2625.0,7874.0,2101.0,6519.0,7021.0,7115.0,9396.0,3856.0,1172.0,8797.0,3235.0,2153.0,9175.0,9094.0,3718.0,8544.0,2387.0,2387.0,8281.0,8452.0,7954.0,4036.0,9549.0,7114.0,9485.0,7898.0,5979.0,2963.0,5139.0,8592.0,9914.0,8394.0,8493.0,9386.0,5497.0,9833.0,4911.0,8346.0,6054.0,3300.0,9498.0,6172.0,8121.0,2806.0,6269.0,2803.0,3403.0,8245.0,6797.0,2073.0,6913.0,8866.0,8033.0,8775.0,7375.0,9041.0,9154.0,9932.0,3775.0,1850.0,2257.0,6235.0,2523.0,9113.0,9705.0,2770.0,6943.0,4840.0,7802.0,5713.0,9032.0,5842.0,8283.0,8819.0,4468.0,4728.0,9012.0,5604.0,5824.0,5058.0,9467.0,8232.0,4606.0,7672.0,4627.0,9294.0,2501.0,2986.0,5887.0,4578.0,7837.0,2623.0,8655.0,7518.0,6167.0,2878.0,7779.0,6442.0,4140.0,6707.0,8799.0,3311.0,9317.0,8278.0,5917.0,7235.0,9449.0,6259.0,2103.0,7353.0,6748.0,7916.0,5186.0,9681.0,6502.0,8843.0,8376.0,8090.0,8499.0,3553.0,3888.0,5111.0,7285.0,3718.0,7911.0,5369.0,3618.0,7799.0,6660.0,4778.0,7816.0,8437.0,8683.0,6151.0,8878.0,5506.0,9239.0,4975.0,9892.0,6222.0,8129.0,3734.0,2354.0,2637.0,6421.0,5336.0,8185.0,4510.0,4074.0,6035.0,2502.0,2775.0,2082.0,2564.0,3176.0,6433.0,6699.0,8760.0,6041.0,7500.0,9264.0,2691.0,6332.0,7505.0,8816.0,9583.0,2890.0,6161.0,6998.0,3481.0,9332.0,6158.0,7478.0,7414.0,8313.0,1900.0,6791.0,6979.0,6429.0,2996.0,5467.0,5459.0,4775.0,9228.0,7614.0,2410.0,8738.0,7342.0,2094.0,9111.0,6237.0,3010.0,8792.0,3880.0,8688.0,8194.0,9499.0,6021.0,7232.0,2314.0,6790.0,5836.0,9991.0,5251.0,5779.0,3899.0,5740.0,3735.0,9577.0,9781.0,9271.0,8649.0,2325.0,6856.0,7112.0,5648.0,6638.0,9227.0,6635.0,8582.0,2344.0,1400.0,9875.0,2393.0,2124.0,7767.0,7591.0,9155.0,9219.0,9756.0,3859.0,3581.0,5583.0,6851.0,5435.0,4312.0,8536.0,4695.0,4637.0,8784.0,2884.0,3537.0,2332.0,4134.0,9982.0,2465.0,3693.0,2301.0,9303.0,9650.0,4915.0,9418.0,2751.0,2485.0,3256.0,7657.0,5011.0,7317.0,8126.0,2345.0,8156.0,8118.0,6313.0,9339.0,3799.0,2190.0,7690.0,9715.0,8109.0,7146.0,6096.0,5760.0,2568.0,4627.0,9650.0,8069.0,9044.0,6370.0,8366.0,6365.0,2912.0,5837.0,2648.0,3543.0,8239.0,6640.0,7089.0,6343.0,8042.0,2073.0,7909.0,5428.0,2803.0,3680.0,9054.0,9849.0,7239.0,8007.0,8248.0,2792.0,2397.0,7179.0,3331.0,8896.0,5661.0,8592.0,6683.0,9450.0,2544.0,8814.0,4245.0,8252.0,7949.0,7865.0,3160.0,3564.0,3095.0,2751.0,3856.0,8334.0,3482.0,8499.0,5115.0,4793.0,7754.0,4010.0,2345.0,4673.0,9501.0,8285.0,6526.0,2899.0,7386.0,2553.0,7374.0,3144.0,5918.0,5736.0,3721.0,4279.0,2368.0,2866.0,6954.0,7529.0,5501.0,4192.0,4917.0,2381.0,4893.0,2129.0,6123.0,2297.0,4641.0,9490.0,6267.0,8826.0,6277.0,2023.0,8132.0,8363.0,9424.0,4451.0,4563.0,8855.0,4213.0,8121.0,9117.0,6468.0,2803.0,8583.0,2452.0,8144.0,8734.0,7335.0,2301.0,2314.0,3090.0,3730.0,2563.0,5445.0,8972.0,7713.0,7874.0,3675.0,2155.0,6693.0,4341.0,3379.0,9789.0,5065.0,4245.0,7967.0,6150.0,8367.0,5777.0,6376.0,5257.0,6315.0,8266.0,9903.0,6759.0,2749.0,7233.0,4783.0,9863.0,4292.0,9024.0,8586.0,6854.0,3620.0,3630.0,7501.0,7818.0,3001.0,1988.0,3358.0,8312.0,4741.0,2964.0,5259.0,9125.0,4228.0,5678.0,5554.0,3564.0,9918.0,4320.0,2073.0,5027.0,5702.0,7832.0,3209.0,2997.0,2835.0,7771.0,7204.0,105.0,8696.0,7872.0,4650.0,4272.0,4886.0,7138.0,8877.0,8205.0,9677.0,6844.0,6791.0,9870.0,5741.0,9314.0,2353.0,3897.0,2556.0,6836.0,4353.0,7359.0,3881.0,9786.0,2051.0,7151.0,3103.0,5665.0,2884.0,7837.0,9222.0,4052.0,9449.0,7189.0,2543.0,4005.0,5836.0,4153.0,2870.0,9693.0,2129.0,8616.0,9840.0,3738.0,9391.0,3555.0,8926.0,9434.0,7844.0,3282.0,7945.0,9392.0,5341.0,2395.0,6379.0,5040.0,4247.0,9695.0,4288.0,8658.0,2492.0,2658.0,5118.0,5429.0,4689.0,5976.0,8703.0,8582.0,6868.0,8804.0,8221.0,9849.0,7663.0,3166.0,9001.0,3311.0,9131.0,9836.0,4828.0,5864.0,5535.0,8363.0,7890.0,7186.0,3021.0,8917.0,8125.0,9605.0,2314.0,9876.0,2953.0,5553.0,6580.0,6254.0,2702.0,7458.0,6916.0,7870.0,5842.0,8836.0,7357.0,3047.0,2801.0,2349.0,6190.0,9217.0,6173.0,2691.0,7775.0,2231.0,4368.0,6427.0,9401.0,7776.0,3382.0,8156.0,4753.0,3504.0,3646.0,8379.0,5965.0,7365.0,7952.0,8611.0,9991.0,4004.0,2406.0,5666.0,2781.0,3176.0,4519.0,4750.0,6334.0,4530.0,6680.0,8150.0,4496.0,2181.0,2114.0,5200.0,3504.0,9194.0,8926.0,2877.0,6204.0,6547.0,7352.0,9704.0,2527.0,7530.0,2951.0,6925.0,6200.0,5517.0,7895.0,5934.0,8994.0,9629.0,5146.0,7928.0,8869.0,6258.0,4368.0,7359.0,9494.0,5832.0,8763.0,5803.0,6374.0,8571.0,6515.0,6772.0,2648.0,4831.0,7241.0,9332.0,9164.0,9412.0,2944.0,7322.0,2083.0,7162.0,4710.0,8711.0,5891.0,2810.0,3492.0,7238.0,2720.0,8265.0,2623.0,7386.0,5934.0,2509.0,3770.0,6488.0,1606.0,8168.0,5868.0,3849.0,4713.0,4529.0,7800.0,9763.0,6142.0,3547.0,9962.0,5289.0,4570.0,4852.0,2117.0,6076.0,8296.0,3720.0,2116.0,2539.0,8434.0,4798.0,5891.0,3810.0,8218.0,9288.0,9798.0,7885.0,5191.0,7528.0,5121.0,3131.0,8117.0,4216.0,5328.0,5755.0,2761.0,9319.0,3877.0,7645.0,5005.0,2665.0,3696.0,9650.0,8624.0,2167.0,7945.0,2288.0,5435.0,8181.0,8383.0,3912.0,2056.0,5731.0,6681.0,7332.0,7597.0,7358.0,7507.0,4400.0,6955.0,7019.0,4751.0,9379.0,8518.0,8927.0,5261.0,5746.0,9279.0,5380.0,3592.0,9814.0,9997.0,8636.0,2984.0,3038.0,3901.0,4590.0,9194.0,8771.0,9415.0,9910.0,5816.0,1573.0,5247.0,2295.0,7334.0,3048.0,3041.0,8455.0,5236.0,5110.0,6606.0,8317.0,6886.0,3596.0,7850.0,8195.0,1443.0,7834.0,4282.0,2037.0,5322.0,7770.0,9844.0,9828.0,3536.0,8758.0,6048.0,6339.0,8993.0,2820.0,5151.0,8370.0,4154.0,2184.0,7643.0,3201.0,9584.0,4743.0,8098.0,4960.0,3756.0,6047.0,3114.0,7325.0,5377.0,5353.0,7962.0,8256.0,6355.0,3147.0,2750.0,7536.0,2227.0,5562.0,9144.0,7354.0,3904.0,2442.0,4597.0,6748.0,8188.0,8966.0,2103.0,6892.0,3869.0,8771.0,8634.0,5438.0,5836.0,9679.0,9017.0,6994.0,5094.0,5200.0,8743.0,4822.0,9649.0,4341.0,2523.0,5868.0,8817.0,4075.0,5266.0,8409.0,8513.0,8125.0,6596.0,9844.0,9066.0,7278.0,9946.0,9042.0,9564.0,9696.0,6849.0,5565.0,9399.0,7142.0,7820.0,6724.0,8605.0,5883.0,9120.0,4649.0,7877.0,4438.0,9202.0,8238.0,6797.0,9586.0,5637.0,7651.0,4831.0,6422.0,3426.0,6515.0,2859.0,7053.0,4768.0,2105.0,7686.0,4490.0,8154.0,9706.0,6536.0,4579.0,2710.0,2769.0,3538.0,7389.0,8499.0,8768.0,4731.0,3977.0,6005.0,9921.0,9152.0,4838.0,7788.0,5046.0,7775.0,6899.0,6778.0,7635.0,6969.0,4618.0,3541.0,8069.0,7770.0,2141.0,5400.0,5665.0,3383.0,8040.0,8938.0,7664.0,7605.0,7811.0,5380.0,3064.0,5429.0,3331.0,5506.0,3375.0,8713.0,8898.0,6737.0,5470.0,8052.0,3383.0,3839.0,4954.0,9297.0,9354.0,9589.0,5061.0,3210.0,6431.0,5515.0,4464.0,5118.0,6026.0,9808.0,7651.0,2665.0,3656.0,9938.0,9529.0,2379.0,1040.0,8853.0,4291.0,6421.0,8604.0,9483.0,6546.0,6633.0,2122.0,1903.0,7945.0,9623.0,7146.0,7317.0,3313.0,3360.0,3730.0,2714.0,2870.0,8131.0,8118.0,5825.0,3254.0,5695.0,4120.0,5672.0,8838.0,4275.0,5893.0,4159.0,6037.0,3305.0,9738.0,7653.0,5311.0,6420.0,5046.0,5937.0,7897.0,7779.0,2296.0,5319.0,6149.0,4801.0,7812.0,7167.0,4754.0,6225.0,5387.0,5428.0,2600.0,8323.0,7776.0,7894.0,7328.0,6760.0,3671.0,4240.0,7592.0,6690.0,7300.0,3191.0,6709.0,8234.0,5845.0,9780.0,7156.0,9539.0,6498.0,2301.0,9910.0,5991.0,4945.0,3541.0,6544.0,6998.0,6147.0,4545.0,6386.0,4872.0,7351.0,9498.0,2502.0,3455.0,6560.0,4181.0,4566.0,5541.0,8758.0,2901.0,8936.0,8544.0,2811.0,3235.0,4338.0,9194.0,7522.0,2591.0,4753.0,5626.0,3387.0,4366.0,5736.0,3423.0,4542.0,9731.0,4884.0,5987.0,3363.0,6246.0,3946.0,5941.0,3725.0,2055.0,6152.0,8663.0,4800.0,7054.0,8516.0,2538.0,7265.0,8689.0,2737.0,8082.0,9383.0,4912.0,3663.0,2775.0,5606.0,2378.0,5151.0,6494.0,9723.0,9145.0,1520.0,9150.0,8294.0,7210.0,7755.0,4995.0,9599.0,4210.0,7164.0,6830.0,7954.0,9853.0,9958.0,9008.0,7146.0,8435.0,2507.0,9849.0,2062.0,6526.0,4246.0,9411.0,6946.0,5776.0,6574.0,8534.0,7889.0,6361.0,9762.0,4131.0,4740.0,4470.0,8259.0,7792.0,7600.0,3194.0,8006.0,8575.0,6575.0,7128.0,9060.0,5933.0,5672.0,8958.0,8129.0,2988.0,985.0,5629.0,2178.0,4361.0,8781.0,7931.0,2803.0,7310.0,9945.0,6452.0,5180.0,9696.0,8827.0,8015.0,6980.0,9788.0,7841.0,9127.0,7217.0,2386.0,7354.0,9825.0,7049.0,6992.0,7338.0,2346.0,5614.0,9574.0,8297.0,5807.0,5676.0,9691.0,2414.0,2470.0,3984.0,6064.0,2721.0,5437.0,9292.0,4731.0,6902.0,6069.0,4896.0,4098.0,2854.0,3727.0,8789.0,6109.0,7618.0,9941.0,6829.0,8380.0,7558.0,8649.0,4713.0,3377.0,7714.0,5470.0,2103.0,6957.0,5868.0,4543.0,3177.0,5335.0,3348.0,9521.0,3519.0,9255.0,2964.0,8057.0,7312.0,5389.0,1040.0,9324.0,5842.0,7784.0,9436.0,9850.0,6325.0,8931.0,4510.0,6140.0,9878.0,8217.0,8716.0,2513.0,9388.0,7843.0,2378.0,1588.0,7042.0,7904.0,6686.0,9522.0,7242.0,9455.0,2843.0,3855.0,2893.0,3225.0,9255.0,4806.0,7920.0,7452.0,7663.0,9072.0,6545.0,3881.0,4839.0,8859.0,9290.0,9448.0,3779.0,2747.0,5640.0,4033.0,6044.0,5191.0,6538.0,2221.0,8903.0,2740.0,9850.0,7931.0,3370.0,8709.0,2471.0,2120.0,8361.0,2465.0,2318.0,4228.0,9980.0,6171.0,4740.0,4792.0,9786.0,9928.0,6503.0,9708.0,4668.0,5658.0,9683.0,3315.0,9622.0,8231.0,4624.0,2063.0,7211.0,5400.0,9849.0,3365.0,5833.0,5826.0,8169.0,7690.0,4345.0,3532.0,6115.0,6268.0,4343.0,5925.0,3411.0,2136.0,9381.0,8129.0,4229.0,4023.0,7333.0,8635.0,5732.0,6023.0,6411.0,9584.0,8403.0,9254.0,7673.0,3961.0,8279.0,9130.0,4140.0,8352.0,9436.0,3090.0,3710.0,9462.0,8056.0,2564.0,8448.0,4584.0,6738.0,2966.0,9883.0,7183.0,9589.0,8735.0,9736.0,3461.0,3934.0,6791.0,8033.0,6349.0,5235.0,4439.0,4782.0,3723.0,9888.0,4495.0,6122.0,2866.0,4043.0,5256.0,8942.0,5279.0,8184.0,3264.0,6577.0,6341.0,8898.0,6705.0,3001.0,4179.0,7935.0,5929.0,2949.0,2575.0,8082.0,5696.0,6477.0,8147.0,9017.0,3576.0,5510.0,8645.0,8246.0,5777.0,7841.0,4400.0,7831.0,8635.0,9778.0,7439.0,3375.0,5174.0,3834.0,7872.0,6924.0,9288.0,4569.0,9247.0,8745.0,5547.0,8536.0,8061.0,4268.0,4489.0,6119.0,2790.0,8129.0,5647.0,2763.0,9487.0,4549.0,3355.0,6119.0,5194.0,7265.0,3159.0,4349.0,4120.0,7383.0,6620.0,6214.0,6383.0,3445.0,8918.0,2649.0,4496.0,9677.0,8298.0,5550.0,2008.0,7808.0,4781.0,9005.0,7211.0,9970.0,7920.0,5256.0,5569.0,9801.0,8550.0,3399.0,5058.0,6264.0,8156.0,3725.0,8483.0,9846.0,7886.0,2951.0,9977.0,8446.0,2542.0,5196.0,4383.0,7724.0,9498.0,7932.0,4803.0,1602.0,9310.0,6062.0,5416.0,8239.0,4369.0,7551.0,3649.0,3679.0,7888.0,4745.0,6584.0,2328.0,9919.0,8351.0,4637.0,5760.0,6258.0,4901.0,8467.0,2866.0,8495.0,9812.0,7768.0,4522.0,8065.0,4140.0,2351.0,9941.0,5807.0,6214.0,6039.0,9896.0,3993.0,4153.0,3064.0,4111.0,8195.0,9786.0,6253.0,2560.0,8753.0,7728.0,8947.0,5185.0,3433.0,6553.0,2922.0,8259.0,4175.0,9796.0,3836.0,3375.0,5111.0,7256.0,9249.0,4071.0,2021.0,5276.0,2505.0,5801.0,2080.0,7313.0,4425.0,5206.0,3074.0,7113.0,5322.0,4181.0,9734.0,5339.0,5601.0,4076.0,7118.0,8144.0,8595.0,9487.0,2581.0,8444.0,9746.0,4947.0,8495.0,2538.0,3872.0,5718.0,5240.0,7392.0,6561.0,7523.0,4649.0,4617.0,3969.0,9194.0,9562.0,7453.0,6131.0,2953.0,2272.0,8655.0,2693.0,9138.0,4229.0,8855.0,6434.0,9859.0,3876.0,9571.0,5328.0,7851.0,6111.0,4435.0,8586.0,8882.0,3594.0,4242.0,9485.0,7045.0,8735.0,3683.0,3370.0,8620.0,6363.0,5665.0,3656.0,9922.0,3349.0,9684.0,9849.0,5840.0,2638.0,9365.0,9886.0,4480.0,2393.0,8568.0,2349.0,6743.0,7063.0,8929.0,5568.0,5037.0,6258.0,4730.0,5158.0,9942.0,8740.0,3237.0,4587.0,4195.0,5143.0,8016.0,6693.0,4184.0,3095.0,7685.0,9999.0,2990.0,9780.0,8657.0,3409.0,6958.0,4460.0,5080.0,8864.0,4435.0,9942.0,6411.0,6137.0,7370.0,6609.0,7316.0,9180.0,3983.0,8559.0,4644.0,3878.0,3881.0,7703.0,6422.0,5916.0,6939.0,6482.0,7366.0,9979.0,4338.0,4884.0,8450.0,9854.0,6191.0,5931.0,8771.0,7475.0,5887.0,6763.0,2581.0,9923.0,6258.0,8824.0,8564.0,9773.0,2766.0,9878.0,8209.0,5837.0,9840.0,4551.0,5375.0,7963.0,7066.0,7850.0,8752.0,7642.0,9856.0,6722.0,8284.0,6620.0,6037.0,7281.0,4651.0,7145.0,7712.0,7477.0,9534.0,5747.0,7281.0,5219.0,6161.0,8414.0,6106.0,2890.0,2182.0,4218.0,4402.0,5918.0,9596.0,7644.0,7164.0,3527.0,9835.0,5807.0,9183.0,1803.0,5435.0,7350.0,3480.0,9543.0,6485.0,3733.0,7337.0,8401.0,9545.0,5540.0,6853.0,8073.0,8482.0,8186.0,9554.0,6195.0,2432.0,4236.0,8792.0,6433.0,8815.0,5625.0,3856.0,5960.0,5046.0,2904.0,9545.0,5891.0,7523.0,2400.0,8826.0,8071.0,5859.0,5035.0,8686.0,4617.0,3688.0,3181.0,7265.0,4757.0,2701.0,4374.0,7009.0,7359.0,6687.0,7427.0,6791.0,8487.0,2365.0,2915.0,8747.0,4651.0,4559.0,8159.0,8354.0,8343.0,6615.0,6505.0,5741.0,9903.0,4036.0,2766.0,6831.0,7571.0,8680.0,8116.0,3818.0,4392.0,3959.0,5206.0,2167.0,7918.0,8797.0,4001.0,9448.0,3138.0,6715.0,5615.0,4776.0,8341.0,2600.0,9685.0,5387.0,2186.0,5743.0,9907.0,3763.0,2100.0,2073.0,5003.0,6546.0,5859.0,3505.0,9698.0,5456.0,8619.0,6952.0,2983.0,7744.0,7958.0,8824.0,5592.0,8653.0,8619.0,2103.0,2979.0,9571.0,3794.0,2208.0,9979.0,6360.0,3929.0,5061.0,5757.0,3574.0,4256.0,9360.0,9010.0,2334.0,9873.0,8307.0,9487.0,2551.0,4546.0,8334.0,2737.0,6241.0,8568.0,8674.0,3771.0,7104.0,2629.0,5682.0,7011.0,4883.0,4859.0,4748.0,6471.0,9751.0,5373.0,6465.0,6261.0,4595.0,5458.0,3115.0,5685.0,6417.0,6618.0,6343.0,9255.0,3260.0,3649.0,9228.0,8989.0,3660.0,4460.0,6736.0,9918.0,9775.0,8146.0,2227.0,3570.0,5328.0,4801.0,3897.0,8533.0,2395.0,3749.0,3115.0,6344.0,8567.0,9390.0,9993.0,9512.0,4229.0,7851.0,3423.0,7052.0,2188.0,7926.0,6948.0,9733.0,9487.0,4715.0,3241.0,8893.0,8750.0,7137.0,2706.0,9429.0,2988.0,4510.0,7306.0,3291.0,3319.0,3579.0,7967.0,7651.0,3194.0,4255.0,8293.0,6801.0,6849.0,4514.0,3179.0,8255.0,4840.0,4318.0,8394.0,5356.0,5445.0,8796.0,7305.0,3516.0,8752.0,2360.0,5832.0,7669.0,7615.0,3872.0,4502.0,2950.0,9840.0,6209.0,5938.0,2638.0,4464.0,4292.0,5885.0,8212.0,7726.0,1567.0,3539.0,7268.0,8343.0,7322.0,6315.0,6601.0,2009.0,8051.0,5723.0,5346.0,3242.0,8379.0,2723.0,3695.0,7953.0,9041.0,5859.0,2442.0,7735.0,9926.0,2117.0,9099.0,7278.0,2838.0,9669.0,6350.0,8601.0,9256.0,4762.0,4995.0,6376.0,9504.0,3541.0,7263.0,4251.0,8242.0,5781.0,2368.0,2022.0,3749.0,6258.0,9796.0,9870.0,9317.0,2962.0,2359.0,9572.0,5330.0,5751.0,6442.0,8145.0,3078.0,4830.0,2796.0,6378.0,9290.0,5799.0,4460.0,8269.0,5080.0,4242.0,9096.0,6370.0,9664.0,4872.0,4017.0,7952.0,8079.0,3336.0,8916.0,7845.0,5666.0,4373.0,8919.0,4163.0,4416.0,2202.0,4452.0,5466.0,9921.0,5812.0,8842.0,4492.0,8926.0,8781.0,6233.0,8926.0,6808.0,6727.0,5206.0,9178.0,3679.0,2175.0,9626.0,3568.0,9660.0,2346.0,3989.0,4574.0,6914.0,3158.0,8032.0,9259.0,9985.0,8134.0,5909.0,8560.0,4750.0,6425.0,3761.0,3305.0,3680.0,2130.0,2410.0,8444.0,3593.0,7045.0,5875.0,2465.0,8126.0,8825.0,5606.0,8449.0,2546.0,9485.0,4560.0,5212.0,8203.0,9698.0,5435.0,5113.0,4742.0,5535.0,4758.0,5612.0,8205.0,9673.0,8829.0,5917.0,8685.0,6332.0,8132.0,8177.0,4867.0,6596.0,2577.0,9849.0,6366.0,8426.0,8786.0,8928.0,8836.0,3619.0,8637.0,2650.0,5879.0,6553.0,9246.0,5156.0,9912.0,9750.0,4156.0,3074.0,5058.0,4357.0,5002.0,4163.0,8132.0,3293.0,5901.0,9787.0,9365.0,6445.0,5416.0,3638.0,4871.0,4812.0,8826.0,3579.0,5298.0,9894.0,6670.0,6829.0,7348.0,7946.0,8759.0,8398.0,6758.0,4490.0,9571.0,4361.0,8212.0,9817.0,5255.0,8151.0,9431.0,3831.0,5855.0,6778.0,9772.0,7058.0,3627.0,9564.0,9614.0,8247.0,2144.0,9708.0,6525.0,9763.0,7904.0,2942.0,8788.0,9766.0,8378.0,9344.0,9235.0,7325.0,2050.0,9097.0,5593.0,9762.0,9808.0,3403.0,4829.0,3759.0,7157.0,9697.0,9906.0,4762.0,3888.0,7181.0,3162.0,4552.0,6984.0,3075.0,9587.0,5855.0,5180.0,9156.0,9619.0,9206.0,4204.0,3390.0,5591.0,8741.0,8578.0,4534.0,4868.0,2212.0,6254.0,5997.0,9931.0,2082.0,4549.0,8859.0,3841.0,2689.0,3187.0,5598.0,6323.0,5438.0,9827.0,6020.0,2212.0,4463.0,7911.0,7425.0,5557.0,5158.0,3463.0,5385.0,3390.0,4184.0,7628.0,8278.0,6464.0,5201.0,8414.0,4869.0,8152.0,9932.0,4542.0,2136.0,2843.0,5548.0,2729.0,4911.0,7216.0,9519.0,8797.0,2879.0,7130.0,7346.0,8837.0,3176.0,9183.0,6401.0,9505.0,9991.0,8722.0,3000.0,4749.0,2544.0,9597.0,8297.0,6994.0,9034.0,9555.0,3642.0,3771.0,2301.0,6479.0,3454.0,3147.0,6504.0,8757.0,9299.0,3856.0,3609.0,3173.0,9039.0,9194.0,9334.0,2775.0,6681.0,9942.0,2349.0,2074.0,6251.0,9577.0,6037.0,6638.0,3394.0,2514.0,7639.0,5459.0,3305.0,4892.0,9657.0,9925.0,4871.0,4493.0,3332.0,9678.0,5421.0,3986.0,9374.0,3562.0,9960.0,3377.0,2876.0,6593.0,9130.0,8358.0,7818.0,7853.0,8796.0,7159.0,2404.0,9558.0,7855.0,9932.0,6837.0,9818.0,9683.0,4869.0,3095.0,6281.0,6411.0,9400.0,9782.0,2327.0,3955.0,5397.0,3807.0,6589.0,3959.0,3337.0,3603.0,2798.0,4627.0,2257.0,9532.0,4393.0,5016.0,3639.0,3817.0,3992.0,9847.0,6655.0,2122.0,9026.0,5194.0,4529.0,9078.0,9883.0,7159.0,8746.0,8867.0,4381.0,9745.0,7233.0,8918.0,6143.0,2979.0,7649.0,3083.0,7977.0,7917.0,7803.0,8233.0,5044.0,3291.0,2756.0,3756.0,2454.0,9917.0,3071.0,9349.0,4212.0,3787.0,4464.0,3630.0,9051.0,2117.0,2949.0,3886.0,2397.0,6647.0,7640.0,6090.0,5421.0,3640.0,2384.0,6851.0,7774.0,9574.0,3295.0,6214.0,5891.0,4740.0,9419.0,9802.0,8631.0,5489.0,5293.0,9276.0,6726.0,6336.0,8792.0,8992.0,7805.0,5681.0,9915.0,5232.0,9787.0,4927.0,6433.0,9941.0,2658.0,9696.0,6346.0,8403.0,7778.0,9344.0,7539.0,4438.0,5220.0,9564.0,6124.0,4627.0,2751.0,8090.0,2527.0,9449.0,5349.0,7833.0,5572.0,7119.0,9918.0,3433.0,2736.0,7049.0,9983.0,8137.0,8141.0,3145.0,3576.0,6463.0,8295.0,3193.0,3101.0,6433.0,5915.0,5976.0,5661.0,6107.0,3500.0,3185.0,9548.0,4995.0,2718.0,3965.0,5755.0,3287.0,1830.0,7225.0,5871.0,5757.0,8655.0,8236.0,6142.0,3144.0,8191.0,3397.0,6265.0,6264.0,9907.0,9693.0,5773.0,4560.0,8837.0,4246.0,8658.0,3730.0,6029.0,8771.0,6443.0,2377.0,6363.0,4959.0,5724.0,9825.0,6605.0,5775.0,7216.0,4368.0,4715.0,7685.0,9689.0,7248.0,6651.0,9627.0,6610.0,8444.0,2984.0,8445.0,7819.0,8542.0,6140.0,7583.0,5861.0,5837.0,5042.0,4505.0,8628.0,8414.0,9639.0,8323.0,3692.0,5837.0,9319.0,6286.0,7281.0,5802.0,8139.0,8152.0,4598.0,7748.0,8984.0,7171.0,2064.0,2074.0,4880.0,6194.0,8371.0,4061.0,2193.0,9813.0,9290.0,3156.0,4230.0,7244.0,2971.0,8492.0,3880.0,7355.0,9413.0,5130.0,5854.0,6573.0,2519.0,8939.0,9046.0,2638.0,2983.0,2294.0,9229.0,9981.0,8653.0,4059.0,7669.0,9557.0,5278.0,2345.0,6099.0,3152.0,7853.0,6797.0,9639.0,2441.0,6553.0,3018.0,2811.0,6252.0,5034.0,2216.0,6075.0,6348.0,7605.0,5521.0,3456.0,9263.0,8893.0,2080.0,2305.0,8823.0,6700.0,2812.0,8826.0,9344.0,5343.0,6761.0,8048.0,5139.0,3946.0,5866.0,6462.0,9578.0,8636.0,9697.0,3519.0,3001.0,7901.0,2868.0,8655.0,6119.0,6255.0,2114.0,8448.0,6188.0,5409.0,9373.0,9339.0,8249.0,8636.0,2212.0,9563.0,4033.0,6133.0,2021.0,8100.0,8591.0,7218.0,8800.0,7523.0,8116.0,6545.0,2796.0,5776.0,6281.0,7424.0,9994.0,9733.0,8370.0,9881.0,9893.0,4345.0,2977.0,3912.0,2236.0,8818.0,5035.0,2160.0,4787.0,4124.0,3819.0,5093.0,3958.0,4918.0,6353.0,9218.0,7145.0,4418.0,4025.0,3910.0,6377.0,7049.0,3343.0,8794.0,5339.0,9177.0,2160.0,8255.0,2585.0,7219.0,7200.0,8855.0,5604.0,8997.0,4382.0,6558.0,9912.0,9117.0,5332.0,4010.0,3735.0,3961.0,8896.0,3265.0,7369.0,7031.0,8457.0,8056.0,7055.0,5579.0,6332.0,6810.0,4978.0,2581.0,9841.0,2297.0,8486.0,9699.0,7663.0,5871.0,9641.0,8189.0,3480.0,7859.0,2389.0,8879.0,2796.0,8825.0,5010.0,1320.0,7814.0,9205.0,5813.0,3163.0,5102.0,2528.0,6608.0,9607.0,9275.0,9085.0,4972.0,5665.0,4423.0,2659.0,5562.0,8039.0,9907.0,5698.0,4280.0,2200.0,5486.0,5814.0,6776.0,3904.0,9564.0,7337.0,8790.0,7868.0,6830.0,8648.0,8266.0,6663.0,8967.0,4900.0,6408.0,2360.0,9851.0,4952.0,5339.0,9975.0,8542.0,6587.0,9752.0,2023.0,2563.0,7647.0,8564.0,8103.0,2187.0,6919.0,3233.0,2846.0,9892.0,4147.0,9999.0,4250.0,5319.0,4341.0,4926.0,3431.0,9851.0,6778.0,4235.0,2441.0,2102.0,5223.0,9751.0,4175.0,8028.0,6654.0,7937.0,8546.0,9454.0,2577.0,5659.0,2481.0,7932.0,6633.0,4987.0,4218.0,4563.0,7775.0,7910.0,9538.0,8671.0,3965.0,8919.0,8353.0,2227.0,9437.0,4163.0,3563.0,3832.0,3166.0,6139.0,2577.0,3745.0,6224.0,9346.0,6344.0,8142.0,9685.0,7627.0,6808.0,7742.0,3532.0,4911.0,4265.0,9855.0,2324.0,7949.0,5118.0,7138.0,8645.0,5104.0,7351.0,3178.0,1110.0,9547.0,1903.0,6829.0,8751.0,3969.0,3799.0,7116.0,4396.0,2186.0,8116.0,3897.0,2776.0,5266.0,1800.0,6999.0,6729.0,5247.0,6457.0,1262.0,3332.0,2471.0,5693.0,9660.0,8137.0,5033.0,9707.0,9582.0,2151.0,2152.0,6634.0,8963.0,7231.0,3377.0,9623.0,8184.0,9471.0,5453.0,6133.0,4999.0,5116.0,3785.0,8666.0,9554.0,6222.0,6943.0,9975.0,3759.0,8371.0,8837.0,2391.0,8252.0,7919.0,6188.0,2440.0,4774.0,3071.0,5235.0,2460.0,6774.0,5214.0,8588.0,8797.0,2763.0,6413.0,8870.0,5826.0,9886.0,7127.0,2345.0,8153.0,7585.0,9319.0,4097.0,7498.0,9434.0,7143.0,8049.0,3961.0,5160.0,9305.0,4570.0,9017.0,8424.0,4527.0,3485.0,8572.0,8380.0,3125.0,2568.0,9626.0,8311.0,7181.0,6459.0,3789.0,5145.0,2073.0,6347.0,6584.0,3209.0,3851.0,3399.0,4725.0,5326.0,9370.0,9088.0,2133.0,3778.0,5678.0,8199.0,9687.0,9480.0,4900.0,8626.0,4354.0,4090.0,8244.0,5570.0,5972.0,8372.0,4065.0,6550.0,8622.0,9681.0,9387.0,8839.0,4873.0,9265.0,9702.0,6033.0,2766.0,9252.0,3157.0,3368.0,8362.0,9717.0,8291.0,8296.0,6390.0,6158.0,6886.0,9407.0,7542.0,9817.0,4662.0,8381.0,2096.0,6581.0,5917.0,2876.0,7443.0,7054.0,9154.0,9831.0,4368.0,4715.0,9437.0,3480.0,3885.0,4938.0,8530.0,9985.0,8698.0,8699.0,6639.0,6939.0,8689.0,9063.0,5794.0,6673.0,4435.0,7924.0,8245.0,5693.0,9638.0,9936.0,7379.0,5713.0,3010.0,6823.0,4022.0,9855.0,6771.0,6591.0,3362.0,6274.0,9519.0,2477.0,2778.0,4563.0,8869.0,9571.0,7591.0,5256.0,2221.0,3160.0,4382.0,6845.0,2810.0,9650.0,9226.0,4505.0,7672.0,7297.0,8393.0,4885.0,6245.0,8245.0,9724.0,9218.0,5816.0,3346.0,8654.0,9887.0,3733.0,2334.0,8822.0,4643.0,8332.0,5080.0,9579.0,9841.0,2761.0,6184.0,6251.0,3087.0,8035.0,4353.0,5500.0,2366.0,5247.0,6271.0,6659.0,9789.0,7534.0,9986.0,8998.0,2857.0,2746.0,5737.0,5604.0,5793.0,5399.0,3353.0,5258.0,7665.0,7459.0,5209.0,9445.0,6493.0,3810.0,8256.0,8141.0,9953.0,2658.0,8184.0,5568.0,8471.0,9000.0,6571.0,3284.0,5743.0,6031.0,9528.0,8152.0,5859.0,4369.0,2257.0,6118.0,2763.0,3788.0,6482.0,3319.0,8725.0,9026.0,2988.0,6422.0,9851.0,4059.0,4756.0,4495.0,4907.0,2144.0,3818.0,8141.0,3115.0,2574.0,7732.0,7322.0,3872.0,6499.0,3332.0,7165.0,4425.0,9708.0,4372.0,2658.0,7507.0,7904.0,4871.0,2341.0,4100.0,8665.0,4382.0,8866.0,7981.0,7124.0,5614.0,5723.0,4381.0,9111.0,4617.0,5724.0,8823.0,3902.0,4837.0,9659.0,8729.0,9940.0,9681.0,7701.0,6438.0,7541.0,3133.0,4474.0,5360.0,6641.0,9527.0,3562.0,8510.0,6062.0,5955.0,3058.0,9787.0,8123.0,2200.0,4690.0,4878.0,4496.0,8439.0,5138.0,6299.0,5565.0,3985.0,6359.0,2021.0,2538.0,3945.0,2057.0,1770.0,9760.0,8117.0,8398.0,9412.0,9919.0,4132.0,7203.0,2181.0,4357.0,4255.0,5845.0,9630.0,4649.0,5232.0,5495.0,6817.0,9131.0,3004.0,5145.0,8109.0,4460.0,4628.0,8961.0,5760.0,3144.0,3463.0,1567.0,7469.0,9055.0,2862.0,6943.0,9958.0,4641.0,2668.0,2345.0,9088.0,4305.0,5318.0,6444.0,9589.0,2934.0,9380.0,2652.0,8014.0,8755.0,9066.0,2397.0,2113.0,8586.0,2083.0,5380.0,9844.0,3694.0,9397.0,4584.0,6223.0,4482.0,3427.0,7166.0,4452.0,4653.0,6677.0,4404.0,1590.0,5131.0,2957.0,2023.0,8687.0,3465.0,7807.0,6946.0,9028.0,5680.0,8248.0,4720.0,7789.0,5729.0,6459.0,5861.0,5801.0,4730.0,4941.0,8849.0,6525.0,2644.0,6597.0,5146.0,9777.0,4643.0,7828.0,5665.0,8568.0,6276.0,4050.0,4389.0,9735.0,2538.0,6340.0,3694.0,8473.0,3427.0,2674.0,5857.0,6507.0,2809.0,5603.0,6079.0,9548.0,8663.0,3280.0,5232.0,2980.0,5992.0,4280.0,7019.0,9606.0,8342.0,5191.0,8156.0,4286.0,8871.0,7669.0,9786.0,9592.0,8492.0,9716.0,3227.0,9971.0,4370.0,6986.0,7299.0,6561.0,2016.0,9087.0,8759.0,9942.0,5660.0,8921.0,2781.0,9152.0,7267.0,3760.0,8837.0,6931.0,4850.0,9546.0,4623.0,1970.0,6062.0,5535.0,9194.0,8834.0,9937.0,4768.0,8254.0,9558.0,5118.0,6529.0,8712.0,7659.0,6896.0,9650.0,8352.0,6201.0,3238.0,2983.0,9282.0,5548.0,2733.0,2819.0,6477.0,4346.0,7880.0,6148.0,9204.0,7477.0,6670.0,8852.0,6567.0,4743.0,8893.0,6790.0,7477.0,6623.0,7032.0,4179.0,6057.0,8712.0,3543.0,4265.0,6459.0,7984.0,4085.0,6458.0,6584.0,4651.0,6677.0,7467.0,3859.0,8616.0,6917.0,8639.0,3339.0,9733.0,9981.0,9149.0,8437.0,4179.0,5661.0,9044.0,6647.0,4551.0,4743.0,4144.0,9400.0,5138.0,6138.0,3128.0,8582.0,2357.0,6845.0,6892.0,4332.0,3363.0,9615.0,6728.0,9386.0,5750.0,5745.0,9173.0,2349.0,6451.0,8741.0,9313.0,6842.0,7157.0,6934.0,9844.0,2187.0,5572.0,2090.0,3187.0,3370.0,8443.0,9455.0,2256.0,9501.0,9985.0,7146.0,2406.0,6534.0,4900.0,2368.0,2105.0,8823.0,9584.0,4727.0,4649.0,3806.0,6211.0,3087.0,2221.0,3002.0,4120.0,6495.0,7864.0,8622.0,4496.0,8291.0,5071.0,9699.0,4186.0,8176.0,5017.0,9541.0,4198.0,2554.0,6135.0,2717.0,6508.0,5506.0,6933.0,6218.0,6226.0,2741.0,9409.0,9588.0,5774.0,5688.0,8812.0,8018.0,6272.0,9293.0,5726.0,4745.0,9548.0,8471.0,5969.0,6831.0,4713.0,5839.0,6236.0,3950.0,3232.0,5129.0,8838.0,9761.0,3637.0,3087.0,8307.0,4608.0,6586.0,2119.0,6039.0,8708.0,9852.0,3778.0,7877.0,4702.0,8010.0,5568.0,5346.0,6578.0,7059.0,2394.0,3083.0,8624.0,8317.0,9533.0,5035.0,5118.0,5719.0,5408.0,9533.0,2736.0,9531.0,9793.0,7712.0,7286.0,4224.0,2810.0,5372.0,9515.0,8353.0,6555.0,2135.0,7052.0,2631.0,2122.0,3047.0,3822.0,6955.0,9117.0,9183.0,9294.0,9572.0,4899.0,3791.0,5256.0,9817.0,8308.0,8899.0,7636.0,1072.0,2152.0,9434.0,4409.0,2377.0,5340.0,9340.0,6959.0,6254.0,5687.0,6134.0,3564.0,8049.0,9536.0,3136.0,6443.0,6586.0,8166.0,2877.0,2656.0,3759.0,9925.0,4755.0,6925.0,5926.0,8486.0,9716.0,9123.0,4195.0,5647.0,7915.0,9691.0,6753.0,3172.0,7375.0,8657.0,8528.0,8244.0,2021.0,4124.0,7363.0,3003.0,7174.0,8241.0,9314.0,6801.0,2890.0,5853.0,6402.0,3983.0,9927.0,4618.0,3068.0,2344.0,5617.0,5261.0,2912.0,8826.0,3675.0,9229.0,4145.0,7064.0,4795.0,5028.0,8141.0,4892.0,9539.0,9574.0,7853.0,5808.0,9281.0,6511.0,9468.0,9592.0,2761.0,4431.0,5615.0,9421.0,4123.0,8204.0,8368.0,2377.0,9735.0,4574.0,2297.0,9986.0,2971.0,5776.0,2950.0,5644.0,6949.0,4874.0,3901.0,9817.0,6514.0,9800.0,5840.0,6217.0,8116.0,7953.0,8035.0,7203.0,6642.0,2160.0,2451.0,5156.0,3532.0,8348.0,3603.0,4694.0,8036.0,6961.0,6056.0,7699.0,6519.0,9921.0,3609.0,2203.0,5438.0,8023.0,7356.0,3182.0,6148.0,6549.0,9768.0,7259.0,4042.0,8658.0,9868.0,7781.0,9431.0,9979.0,9892.0,8797.0,2227.0,8878.0,7822.0,6933.0,4089.0,3321.0,4557.0,8042.0,6963.0,7500.0,1240.0,8735.0,9231.0,9738.0,4762.0,9564.0,2393.0,7868.0,4418.0,8189.0,7746.0,8448.0,4368.0,7927.0,7874.0,3370.0,3170.0,9536.0,3705.0,2986.0,2805.0,5421.0,6623.0,4316.0,3699.0,8878.0,4542.0,7040.0,7694.0,8609.0,3642.0,6449.0,7979.0,5088.0,2297.0,6317.0,4119.0,9075.0,9895.0,3393.0,2496.0,7694.0,7447.0,7664.0,5886.0,8045.0,3539.0,9270.0,5970.0,2778.0,4129.0,2347.0,8126.0,6899.0,7114.0,5996.0,6211.0,8500.0,8878.0,5328.0,3188.0,6062.0,5813.0,3330.0,6255.0,7945.0,4489.0,4482.0,4513.0,6778.0,3579.0,2538.0,8712.0,8722.0,7111.0,2011.0,9752.0,3137.0,3858.0,6599.0,6128.0,8056.0,6179.0,7256.0,9447.0,2826.0,3215.0,2625.0,8131.0,6931.0,7078.0,5891.0,2887.0,9452.0,8907.0,8595.0,7590.0,4584.0,3818.0,8804.0,2907.0,3081.0,6998.0,2289.0,4936.0,6281.0,8707.0,5156.0,5794.0,7040.0,5029.0,5075.0,3510.0,9695.0,5958.0,5442.0,2176.0,9955.0,5326.0,6355.0,7461.0,1500.0,6894.0,8658.0,7488.0,7507.0,3118.0,8795.0,2803.0,3398.0,6208.0,6300.0,8381.0,2369.0,8659.0,2094.0,6626.0,9306.0,2320.0,1970.0,4389.0,5294.0,6268.0,3769.0,6195.0,3663.0,7162.0,3710.0,5598.0,6616.0,3689.0,8784.0,4138.0,9619.0,4377.0,9010.0,6693.0,4860.0,4283.0,9539.0,4736.0,7011.0,5197.0,9958.0,6742.0,8185.0,9817.0,9959.0,7498.0,8434.0,2678.0,8618.0,9188.0,9459.0,4699.0,5864.0,2008.0,9132.0,7312.0,9015.0,2361.0,3798.0,5339.0,9453.0,8521.0,8407.0,7894.0,2074.0,4623.0,7889.0,5854.0,4111.0,9799.0,7699.0,7487.0,2330.0,9683.0,8897.0,9247.0,9020.0,5467.0,8845.0,6599.0,4860.0,5729.0,8952.0,2316.0,6647.0,9012.0,7430.0,3865.0,6673.0,5741.0,2175.0,9613.0,3399.0,4816.0,8858.0,9227.0,6972.0,9829.0,6421.0,5486.0,9912.0,3390.0,9267.0,5146.0,4148.0,8408.0,4355.0,9497.0,2746.0,9925.0,6040.0,4737.0,4130.0,2453.0,9256.0,9028.0,3504.0,7021.0,6923.0,7985.0,8692.0,5863.0,4565.0,4832.0,8707.0,2255.0,2151.0,9759.0,9154.0,2640.0,5233.0,2201.0,5428.0,6748.0,5266.0,4169.0,7773.0,3010.0,8836.0,6338.0,6156.0,8248.0,9892.0,8682.0,9973.0,6011.0,2349.0,5554.0,5625.0,8422.0,3851.0,2250.0,5435.0,9414.0,8119.0,9072.0,4822.0,5888.0,5310.0,3777.0,6693.0,7875.0,2154.0],\"yaxis\":\"y\",\"type\":\"scattergl\"}],                        {\"template\":{\"data\":{\"bar\":[{\"error_x\":{\"color\":\"#2a3f5f\"},\"error_y\":{\"color\":\"#2a3f5f\"},\"marker\":{\"line\":{\"color\":\"#E5ECF6\",\"width\":0.5},\"pattern\":{\"fillmode\":\"overlay\",\"size\":10,\"solidity\":0.2}},\"type\":\"bar\"}],\"barpolar\":[{\"marker\":{\"line\":{\"color\":\"#E5ECF6\",\"width\":0.5},\"pattern\":{\"fillmode\":\"overlay\",\"size\":10,\"solidity\":0.2}},\"type\":\"barpolar\"}],\"carpet\":[{\"aaxis\":{\"endlinecolor\":\"#2a3f5f\",\"gridcolor\":\"white\",\"linecolor\":\"white\",\"minorgridcolor\":\"white\",\"startlinecolor\":\"#2a3f5f\"},\"baxis\":{\"endlinecolor\":\"#2a3f5f\",\"gridcolor\":\"white\",\"linecolor\":\"white\",\"minorgridcolor\":\"white\",\"startlinecolor\":\"#2a3f5f\"},\"type\":\"carpet\"}],\"choropleth\":[{\"colorbar\":{\"outlinewidth\":0,\"ticks\":\"\"},\"type\":\"choropleth\"}],\"contour\":[{\"colorbar\":{\"outlinewidth\":0,\"ticks\":\"\"},\"colorscale\":[[0.0,\"#0d0887\"],[0.1111111111111111,\"#46039f\"],[0.2222222222222222,\"#7201a8\"],[0.3333333333333333,\"#9c179e\"],[0.4444444444444444,\"#bd3786\"],[0.5555555555555556,\"#d8576b\"],[0.6666666666666666,\"#ed7953\"],[0.7777777777777778,\"#fb9f3a\"],[0.8888888888888888,\"#fdca26\"],[1.0,\"#f0f921\"]],\"type\":\"contour\"}],\"contourcarpet\":[{\"colorbar\":{\"outlinewidth\":0,\"ticks\":\"\"},\"type\":\"contourcarpet\"}],\"heatmap\":[{\"colorbar\":{\"outlinewidth\":0,\"ticks\":\"\"},\"colorscale\":[[0.0,\"#0d0887\"],[0.1111111111111111,\"#46039f\"],[0.2222222222222222,\"#7201a8\"],[0.3333333333333333,\"#9c179e\"],[0.4444444444444444,\"#bd3786\"],[0.5555555555555556,\"#d8576b\"],[0.6666666666666666,\"#ed7953\"],[0.7777777777777778,\"#fb9f3a\"],[0.8888888888888888,\"#fdca26\"],[1.0,\"#f0f921\"]],\"type\":\"heatmap\"}],\"heatmapgl\":[{\"colorbar\":{\"outlinewidth\":0,\"ticks\":\"\"},\"colorscale\":[[0.0,\"#0d0887\"],[0.1111111111111111,\"#46039f\"],[0.2222222222222222,\"#7201a8\"],[0.3333333333333333,\"#9c179e\"],[0.4444444444444444,\"#bd3786\"],[0.5555555555555556,\"#d8576b\"],[0.6666666666666666,\"#ed7953\"],[0.7777777777777778,\"#fb9f3a\"],[0.8888888888888888,\"#fdca26\"],[1.0,\"#f0f921\"]],\"type\":\"heatmapgl\"}],\"histogram\":[{\"marker\":{\"pattern\":{\"fillmode\":\"overlay\",\"size\":10,\"solidity\":0.2}},\"type\":\"histogram\"}],\"histogram2d\":[{\"colorbar\":{\"outlinewidth\":0,\"ticks\":\"\"},\"colorscale\":[[0.0,\"#0d0887\"],[0.1111111111111111,\"#46039f\"],[0.2222222222222222,\"#7201a8\"],[0.3333333333333333,\"#9c179e\"],[0.4444444444444444,\"#bd3786\"],[0.5555555555555556,\"#d8576b\"],[0.6666666666666666,\"#ed7953\"],[0.7777777777777778,\"#fb9f3a\"],[0.8888888888888888,\"#fdca26\"],[1.0,\"#f0f921\"]],\"type\":\"histogram2d\"}],\"histogram2dcontour\":[{\"colorbar\":{\"outlinewidth\":0,\"ticks\":\"\"},\"colorscale\":[[0.0,\"#0d0887\"],[0.1111111111111111,\"#46039f\"],[0.2222222222222222,\"#7201a8\"],[0.3333333333333333,\"#9c179e\"],[0.4444444444444444,\"#bd3786\"],[0.5555555555555556,\"#d8576b\"],[0.6666666666666666,\"#ed7953\"],[0.7777777777777778,\"#fb9f3a\"],[0.8888888888888888,\"#fdca26\"],[1.0,\"#f0f921\"]],\"type\":\"histogram2dcontour\"}],\"mesh3d\":[{\"colorbar\":{\"outlinewidth\":0,\"ticks\":\"\"},\"type\":\"mesh3d\"}],\"parcoords\":[{\"line\":{\"colorbar\":{\"outlinewidth\":0,\"ticks\":\"\"}},\"type\":\"parcoords\"}],\"pie\":[{\"automargin\":true,\"type\":\"pie\"}],\"scatter\":[{\"marker\":{\"colorbar\":{\"outlinewidth\":0,\"ticks\":\"\"}},\"type\":\"scatter\"}],\"scatter3d\":[{\"line\":{\"colorbar\":{\"outlinewidth\":0,\"ticks\":\"\"}},\"marker\":{\"colorbar\":{\"outlinewidth\":0,\"ticks\":\"\"}},\"type\":\"scatter3d\"}],\"scattercarpet\":[{\"marker\":{\"colorbar\":{\"outlinewidth\":0,\"ticks\":\"\"}},\"type\":\"scattercarpet\"}],\"scattergeo\":[{\"marker\":{\"colorbar\":{\"outlinewidth\":0,\"ticks\":\"\"}},\"type\":\"scattergeo\"}],\"scattergl\":[{\"marker\":{\"colorbar\":{\"outlinewidth\":0,\"ticks\":\"\"}},\"type\":\"scattergl\"}],\"scattermapbox\":[{\"marker\":{\"colorbar\":{\"outlinewidth\":0,\"ticks\":\"\"}},\"type\":\"scattermapbox\"}],\"scatterpolar\":[{\"marker\":{\"colorbar\":{\"outlinewidth\":0,\"ticks\":\"\"}},\"type\":\"scatterpolar\"}],\"scatterpolargl\":[{\"marker\":{\"colorbar\":{\"outlinewidth\":0,\"ticks\":\"\"}},\"type\":\"scatterpolargl\"}],\"scatterternary\":[{\"marker\":{\"colorbar\":{\"outlinewidth\":0,\"ticks\":\"\"}},\"type\":\"scatterternary\"}],\"surface\":[{\"colorbar\":{\"outlinewidth\":0,\"ticks\":\"\"},\"colorscale\":[[0.0,\"#0d0887\"],[0.1111111111111111,\"#46039f\"],[0.2222222222222222,\"#7201a8\"],[0.3333333333333333,\"#9c179e\"],[0.4444444444444444,\"#bd3786\"],[0.5555555555555556,\"#d8576b\"],[0.6666666666666666,\"#ed7953\"],[0.7777777777777778,\"#fb9f3a\"],[0.8888888888888888,\"#fdca26\"],[1.0,\"#f0f921\"]],\"type\":\"surface\"}],\"table\":[{\"cells\":{\"fill\":{\"color\":\"#EBF0F8\"},\"line\":{\"color\":\"white\"}},\"header\":{\"fill\":{\"color\":\"#C8D4E3\"},\"line\":{\"color\":\"white\"}},\"type\":\"table\"}]},\"layout\":{\"annotationdefaults\":{\"arrowcolor\":\"#2a3f5f\",\"arrowhead\":0,\"arrowwidth\":1},\"autotypenumbers\":\"strict\",\"coloraxis\":{\"colorbar\":{\"outlinewidth\":0,\"ticks\":\"\"}},\"colorscale\":{\"diverging\":[[0,\"#8e0152\"],[0.1,\"#c51b7d\"],[0.2,\"#de77ae\"],[0.3,\"#f1b6da\"],[0.4,\"#fde0ef\"],[0.5,\"#f7f7f7\"],[0.6,\"#e6f5d0\"],[0.7,\"#b8e186\"],[0.8,\"#7fbc41\"],[0.9,\"#4d9221\"],[1,\"#276419\"]],\"sequential\":[[0.0,\"#0d0887\"],[0.1111111111111111,\"#46039f\"],[0.2222222222222222,\"#7201a8\"],[0.3333333333333333,\"#9c179e\"],[0.4444444444444444,\"#bd3786\"],[0.5555555555555556,\"#d8576b\"],[0.6666666666666666,\"#ed7953\"],[0.7777777777777778,\"#fb9f3a\"],[0.8888888888888888,\"#fdca26\"],[1.0,\"#f0f921\"]],\"sequentialminus\":[[0.0,\"#0d0887\"],[0.1111111111111111,\"#46039f\"],[0.2222222222222222,\"#7201a8\"],[0.3333333333333333,\"#9c179e\"],[0.4444444444444444,\"#bd3786\"],[0.5555555555555556,\"#d8576b\"],[0.6666666666666666,\"#ed7953\"],[0.7777777777777778,\"#fb9f3a\"],[0.8888888888888888,\"#fdca26\"],[1.0,\"#f0f921\"]]},\"colorway\":[\"#636efa\",\"#EF553B\",\"#00cc96\",\"#ab63fa\",\"#FFA15A\",\"#19d3f3\",\"#FF6692\",\"#B6E880\",\"#FF97FF\",\"#FECB52\"],\"font\":{\"color\":\"#2a3f5f\"},\"geo\":{\"bgcolor\":\"white\",\"lakecolor\":\"white\",\"landcolor\":\"#E5ECF6\",\"showlakes\":true,\"showland\":true,\"subunitcolor\":\"white\"},\"hoverlabel\":{\"align\":\"left\"},\"hovermode\":\"closest\",\"mapbox\":{\"style\":\"light\"},\"paper_bgcolor\":\"white\",\"plot_bgcolor\":\"#E5ECF6\",\"polar\":{\"angularaxis\":{\"gridcolor\":\"white\",\"linecolor\":\"white\",\"ticks\":\"\"},\"bgcolor\":\"#E5ECF6\",\"radialaxis\":{\"gridcolor\":\"white\",\"linecolor\":\"white\",\"ticks\":\"\"}},\"scene\":{\"xaxis\":{\"backgroundcolor\":\"#E5ECF6\",\"gridcolor\":\"white\",\"gridwidth\":2,\"linecolor\":\"white\",\"showbackground\":true,\"ticks\":\"\",\"zerolinecolor\":\"white\"},\"yaxis\":{\"backgroundcolor\":\"#E5ECF6\",\"gridcolor\":\"white\",\"gridwidth\":2,\"linecolor\":\"white\",\"showbackground\":true,\"ticks\":\"\",\"zerolinecolor\":\"white\"},\"zaxis\":{\"backgroundcolor\":\"#E5ECF6\",\"gridcolor\":\"white\",\"gridwidth\":2,\"linecolor\":\"white\",\"showbackground\":true,\"ticks\":\"\",\"zerolinecolor\":\"white\"}},\"shapedefaults\":{\"line\":{\"color\":\"#2a3f5f\"}},\"ternary\":{\"aaxis\":{\"gridcolor\":\"white\",\"linecolor\":\"white\",\"ticks\":\"\"},\"baxis\":{\"gridcolor\":\"white\",\"linecolor\":\"white\",\"ticks\":\"\"},\"bgcolor\":\"#E5ECF6\",\"caxis\":{\"gridcolor\":\"white\",\"linecolor\":\"white\",\"ticks\":\"\"}},\"title\":{\"x\":0.05},\"xaxis\":{\"automargin\":true,\"gridcolor\":\"white\",\"linecolor\":\"white\",\"ticks\":\"\",\"title\":{\"standoff\":15},\"zerolinecolor\":\"white\",\"zerolinewidth\":2},\"yaxis\":{\"automargin\":true,\"gridcolor\":\"white\",\"linecolor\":\"white\",\"ticks\":\"\",\"title\":{\"standoff\":15},\"zerolinecolor\":\"white\",\"zerolinewidth\":2}}},\"xaxis\":{\"anchor\":\"y\",\"domain\":[0.0,1.0],\"title\":{\"text\":\"x\"}},\"yaxis\":{\"anchor\":\"x\",\"domain\":[0.0,1.0],\"title\":{\"text\":\"y\"}},\"legend\":{\"tracegroupgap\":0},\"margin\":{\"t\":60}},                        {\"responsive\": true}                    ).then(function(){\n",
              "                            \n",
              "var gd = document.getElementById('e97f8289-53f6-4c5c-983c-8a4ef8796bf4');\n",
              "var x = new MutationObserver(function (mutations, observer) {{\n",
              "        var display = window.getComputedStyle(gd).display;\n",
              "        if (!display || display === 'none') {{\n",
              "            console.log([gd, 'removed!']);\n",
              "            Plotly.purge(gd);\n",
              "            observer.disconnect();\n",
              "        }}\n",
              "}});\n",
              "\n",
              "// Listen for the removal of the full notebook cells\n",
              "var notebookContainer = gd.closest('#notebook-container');\n",
              "if (notebookContainer) {{\n",
              "    x.observe(notebookContainer, {childList: true});\n",
              "}}\n",
              "\n",
              "// Listen for the clearing of the current output cell\n",
              "var outputEl = gd.closest('.output');\n",
              "if (outputEl) {{\n",
              "    x.observe(outputEl, {childList: true});\n",
              "}}\n",
              "\n",
              "                        })                };                            </script>        </div>\n",
              "</body>\n",
              "</html>"
            ]
          },
          "metadata": {}
        }
      ]
    },
    {
      "cell_type": "code",
      "source": [
        "df2[:400].plot.scatter(x = 'users_income', y = 'users_age', s = 100);"
      ],
      "metadata": {
        "colab": {
          "base_uri": "https://localhost:8080/",
          "height": 280
        },
        "id": "9TMKLJxKzyUg",
        "outputId": "2ec69fa4-67c9-4996-a88f-04eb4402ea7d"
      },
      "execution_count": 24,
      "outputs": [
        {
          "output_type": "display_data",
          "data": {
            "text/plain": [
              "<Figure size 432x288 with 1 Axes>"
            ],
            "image/png": "[encoded data removed]"
          },
          "metadata": {
            "needs_background": "light"
          }
        }
      ]
    },
    {
      "cell_type": "code",
      "source": [
        "df3 = df2.assign(Brands=df2.brand2.str.split(',')).explode('Brands')\n",
        "df3[['clients','Brands']].head()"
      ],
      "metadata": {
        "colab": {
          "base_uri": "https://localhost:8080/",
          "height": 206
        },
        "id": "c4iEb_v-z-Zo",
        "outputId": "d7114f74-0299-4d16-b740-508c9714686d"
      },
      "execution_count": 25,
      "outputs": [
        {
          "output_type": "execute_result",
          "data": {
            "text/plain": [
              "                    clients          Brands\n",
              "0  5dcd9af338a50560dc9cdaf2       John Lobb\n",
              "0  5dcd9af338a50560dc9cdaf2    Louis Feraud\n",
              "0  5dcd9af338a50560dc9cdaf2  Gentle Monster\n",
              "0  5dcd9af338a50560dc9cdaf2    Karam Beirut\n",
              "1  5dcd3c2fadfef4341ce48fbb       Asian Wok"
            ],
            "text/html": [
              "\n",
              "  <div id=\"df-680d598f-14c5-4af8-8e14-6b6b76b05519\">\n",
              "    <div class=\"colab-df-container\">\n",
              "      <div>\n",
              "<style scoped>\n",
              "    .dataframe tbody tr th:only-of-type {\n",
              "        vertical-align: middle;\n",
              "    }\n",
              "\n",
              "    .dataframe tbody tr th {\n",
              "        vertical-align: top;\n",
              "    }\n",
              "\n",
              "    .dataframe thead th {\n",
              "        text-align: right;\n",
              "    }\n",
              "</style>\n",
              "<table border=\"1\" class=\"dataframe\">\n",
              "  <thead>\n",
              "    <tr style=\"text-align: right;\">\n",
              "      <th></th>\n",
              "      <th>clients</th>\n",
              "      <th>Brands</th>\n",
              "    </tr>\n",
              "  </thead>\n",
              "  <tbody>\n",
              "    <tr>\n",
              "      <th>0</th>\n",
              "      <td>5dcd9af338a50560dc9cdaf2</td>\n",
              "      <td>John Lobb</td>\n",
              "    </tr>\n",
              "    <tr>\n",
              "      <th>0</th>\n",
              "      <td>5dcd9af338a50560dc9cdaf2</td>\n",
              "      <td>Louis Feraud</td>\n",
              "    </tr>\n",
              "    <tr>\n",
              "      <th>0</th>\n",
              "      <td>5dcd9af338a50560dc9cdaf2</td>\n",
              "      <td>Gentle Monster</td>\n",
              "    </tr>\n",
              "    <tr>\n",
              "      <th>0</th>\n",
              "      <td>5dcd9af338a50560dc9cdaf2</td>\n",
              "      <td>Karam Beirut</td>\n",
              "    </tr>\n",
              "    <tr>\n",
              "      <th>1</th>\n",
              "      <td>5dcd3c2fadfef4341ce48fbb</td>\n",
              "      <td>Asian Wok</td>\n",
              "    </tr>\n",
              "  </tbody>\n",
              "</table>\n",
              "</div>\n",
              "      <button class=\"colab-df-convert\" onclick=\"convertToInteractive('df-680d598f-14c5-4af8-8e14-6b6b76b05519')\"\n",
              "              title=\"Convert this dataframe to an interactive table.\"\n",
              "              style=\"display:none;\">\n",
              "        \n",
              "  <svg xmlns=\"http://www.w3.org/2000/svg\" height=\"24px\"viewBox=\"0 0 24 24\"\n",
              "       width=\"24px\">\n",
              "    <path d=\"M0 0h24v24H0V0z\" fill=\"none\"/>\n",
              "    <path d=\"M18.56 5.44l.94 2.06.94-2.06 2.06-.94-2.06-.94-.94-2.06-.94 2.06-2.06.94zm-11 1L8.5 8.5l.94-2.06 2.06-.94-2.06-.94L8.5 2.5l-.94 2.06-2.06.94zm10 10l.94 2.06.94-2.06 2.06-.94-2.06-.94-.94-2.06-.94 2.06-2.06.94z\"/><path d=\"M17.41 7.96l-1.37-1.37c-.4-.4-.92-.59-1.43-.59-.52 0-1.04.2-1.43.59L10.3 9.45l-7.72 7.72c-.78.78-.78 2.05 0 2.83L4 21.41c.39.39.9.59 1.41.59.51 0 1.02-.2 1.41-.59l7.78-7.78 2.81-2.81c.8-.78.8-2.07 0-2.86zM5.41 20L4 18.59l7.72-7.72 1.47 1.35L5.41 20z\"/>\n",
              "  </svg>\n",
              "      </button>\n",
              "      \n",
              "  <style>\n",
              "    .colab-df-container {\n",
              "      display:flex;\n",
              "      flex-wrap:wrap;\n",
              "      gap: 12px;\n",
              "    }\n",
              "\n",
              "    .colab-df-convert {\n",
              "      background-color: #E8F0FE;\n",
              "      border: none;\n",
              "      border-radius: 50%;\n",
              "      cursor: pointer;\n",
              "      display: none;\n",
              "      fill: #1967D2;\n",
              "      height: 32px;\n",
              "      padding: 0 0 0 0;\n",
              "      width: 32px;\n",
              "    }\n",
              "\n",
              "    .colab-df-convert:hover {\n",
              "      background-color: #E2EBFA;\n",
              "      box-shadow: 0px 1px 2px rgba(60, 64, 67, 0.3), 0px 1px 3px 1px rgba(60, 64, 67, 0.15);\n",
              "      fill: #174EA6;\n",
              "    }\n",
              "\n",
              "    [theme=dark] .colab-df-convert {\n",
              "      background-color: #3B4455;\n",
              "      fill: #D2E3FC;\n",
              "    }\n",
              "\n",
              "    [theme=dark] .colab-df-convert:hover {\n",
              "      background-color: #434B5C;\n",
              "      box-shadow: 0px 1px 3px 1px rgba(0, 0, 0, 0.15);\n",
              "      filter: drop-shadow(0px 1px 2px rgba(0, 0, 0, 0.3));\n",
              "      fill: #FFFFFF;\n",
              "    }\n",
              "  </style>\n",
              "\n",
              "      <script>\n",
              "        const buttonEl =\n",
              "          document.querySelector('#df-680d598f-14c5-4af8-8e14-6b6b76b05519 button.colab-df-convert');\n",
              "        buttonEl.style.display =\n",
              "          google.colab.kernel.accessAllowed ? 'block' : 'none';\n",
              "\n",
              "        async function convertToInteractive(key) {\n",
              "          const element = document.querySelector('#df-680d598f-14c5-4af8-8e14-6b6b76b05519');\n",
              "          const dataTable =\n",
              "            await google.colab.kernel.invokeFunction('convertToInteractive',\n",
              "                                                     [key], {});\n",
              "          if (!dataTable) return;\n",
              "\n",
              "          const docLinkHtml = 'Like what you see? Visit the ' +\n",
              "            '<a target=\"_blank\" href=https://colab.research.google.com/notebooks/data_table.ipynb>data table notebook</a>'\n",
              "            + ' to learn more about interactive tables.';\n",
              "          element.innerHTML = '';\n",
              "          dataTable['output_type'] = 'display_data';\n",
              "          await google.colab.output.renderOutput(dataTable, element);\n",
              "          const docLink = document.createElement('div');\n",
              "          docLink.innerHTML = docLinkHtml;\n",
              "          element.appendChild(docLink);\n",
              "        }\n",
              "      </script>\n",
              "    </div>\n",
              "  </div>\n",
              "  "
            ]
          },
          "metadata": {},
          "execution_count": 25
        }
      ]
    },
    {
      "cell_type": "code",
      "source": [
        "l2=df3.Brands.unique()"
      ],
      "metadata": {
        "id": "s_LqvUoe1M17"
      },
      "execution_count": 26,
      "outputs": []
    },
    {
      "cell_type": "code",
      "source": [
        "for i in l2:\n",
        "  df2.loc[df2.brand2.str.contains(i,case=False),i]=1\n",
        "  df2.loc[df2[i].isnull(),i]=0"
      ],
      "metadata": {
        "colab": {
          "base_uri": "https://localhost:8080/"
        },
        "id": "qTnD5NZU1dgp",
        "outputId": "e795ed91-de45-4220-928f-321926e0728a"
      },
      "execution_count": 27,
      "outputs": [
        {
          "output_type": "stream",
          "name": "stderr",
          "text": [
            "/usr/local/lib/python3.7/dist-packages/pandas/core/indexing.py:1684: SettingWithCopyWarning:\n",
            "\n",
            "\n",
            "A value is trying to be set on a copy of a slice from a DataFrame.\n",
            "Try using .loc[row_indexer,col_indexer] = value instead\n",
            "\n",
            "See the caveats in the documentation: https://pandas.pydata.org/pandas-docs/stable/user_guide/indexing.html#returning-a-view-versus-a-copy\n",
            "\n",
            "/usr/local/lib/python3.7/dist-packages/pandas/core/indexing.py:1817: SettingWithCopyWarning:\n",
            "\n",
            "\n",
            "A value is trying to be set on a copy of a slice from a DataFrame.\n",
            "Try using .loc[row_indexer,col_indexer] = value instead\n",
            "\n",
            "See the caveats in the documentation: https://pandas.pydata.org/pandas-docs/stable/user_guide/indexing.html#returning-a-view-versus-a-copy\n",
            "\n",
            "/usr/local/lib/python3.7/dist-packages/pandas/core/indexing.py:1684: PerformanceWarning:\n",
            "\n",
            "DataFrame is highly fragmented.  This is usually the result of calling `frame.insert` many times, which has poor performance.  Consider joining all columns at once using pd.concat(axis=1) instead.  To get a de-fragmented frame, use `newframe = frame.copy()`\n",
            "\n",
            "/usr/local/lib/python3.7/dist-packages/ipykernel_launcher.py:2: UserWarning:\n",
            "\n",
            "This pattern has match groups. To actually get the groups, use str.extract.\n",
            "\n"
          ]
        }
      ]
    },
    {
      "cell_type": "code",
      "source": [
        "# import pandas as pd\n",
        "# df4=pd.read_csv('/content/output.csv')\n",
        "dff=df2[l2]"
      ],
      "metadata": {
        "id": "WJiAnam1KRTD"
      },
      "execution_count": 28,
      "outputs": []
    },
    {
      "cell_type": "code",
      "source": [
        "from sklearn.preprocessing import StandardScaler\n",
        "scalar = StandardScaler()\n",
        "df_scaled = pd.DataFrame(scalar.fit_transform(dff), columns=dff.columns)\n",
        "df_scaled"
      ],
      "metadata": {
        "colab": {
          "base_uri": "https://localhost:8080/",
          "height": 523
        },
        "id": "-tZyZ9R4O8w9",
        "outputId": "01fef4dc-f872-43dd-bd40-228c3fa727d8"
      },
      "execution_count": 29,
      "outputs": [
        {
          "output_type": "execute_result",
          "data": {
            "text/plain": [
              "      John Lobb  Louis Feraud  Gentle Monster  Karam Beirut  Asian Wok  \\\n",
              "0      9.749309      9.471693        9.701366      9.095881  -0.101036   \n",
              "1     -0.102571     -0.105578        9.701366     -0.109940   9.897454   \n",
              "2     -0.102571      9.471693       -0.103078     -0.109940  -0.101036   \n",
              "3     -0.102571     -0.105578       -0.103078     -0.109940  -0.101036   \n",
              "4     -0.102571     -0.105578       -0.103078     -0.109940  -0.101036   \n",
              "...         ...           ...             ...           ...        ...   \n",
              "9792  -0.102571     -0.105578       -0.103078     -0.109940  -0.101036   \n",
              "9793  -0.102571     -0.105578       -0.103078     -0.109940  -0.101036   \n",
              "9794  -0.102571     -0.105578       -0.103078     -0.109940  -0.101036   \n",
              "9795  -0.102571     -0.105578       -0.103078     -0.109940  -0.101036   \n",
              "9796  -0.102571     -0.105578       -0.103078     -0.109940  -0.101036   \n",
              "\n",
              "       KOI THE  Roger Vivier   Cartier     Levi's       IRO  ...  La Senza  \\\n",
              "0    -0.103583     -0.103583 -0.147642  -0.098954 -0.214256  ... -0.107537   \n",
              "1     9.654114      9.654114  6.773153  10.105757  4.667303  ... -0.107537   \n",
              "2    -0.103583     -0.103583 -0.147642  -0.098954 -0.214256  ... -0.107537   \n",
              "3    -0.103583     -0.103583 -0.147642  -0.098954 -0.214256  ... -0.107537   \n",
              "4    -0.103583     -0.103583 -0.147642  -0.098954 -0.214256  ... -0.107537   \n",
              "...        ...           ...       ...        ...       ...  ...       ...   \n",
              "9792 -0.103583     -0.103583  6.773153  -0.098954 -0.214256  ... -0.107537   \n",
              "9793 -0.103583     -0.103583 -0.147642  -0.098954 -0.214256  ... -0.107537   \n",
              "9794 -0.103583     -0.103583 -0.147642  -0.098954 -0.214256  ... -0.107537   \n",
              "9795 -0.103583     -0.103583 -0.147642  -0.098954 -0.214256  ... -0.107537   \n",
              "9796 -0.103583     -0.103583 -0.147642  -0.098954 -0.214256  ... -0.107537   \n",
              "\n",
              "      Lobby Gents Salon  Caha Capo   TWG Tea   Bershka  Illy Café    ARAMEX  \\\n",
              "0             -0.093552  -0.102062 -0.098426 -0.102062  -0.104085 -0.089585   \n",
              "1             -0.093552  -0.102062 -0.098426 -0.102062  -0.104085 -0.089585   \n",
              "2             -0.093552  -0.102062 -0.098426 -0.102062  -0.104085 -0.089585   \n",
              "3             -0.093552  -0.102062 -0.098426 -0.102062  -0.104085 -0.089585   \n",
              "4             -0.093552  -0.102062 -0.098426 -0.102062  -0.104085 -0.089585   \n",
              "...                 ...        ...       ...       ...        ...       ...   \n",
              "9792          -0.093552  -0.102062 -0.098426 -0.102062  -0.104085 -0.089585   \n",
              "9793          -0.093552  -0.102062 -0.098426 -0.102062  -0.104085 -0.089585   \n",
              "9794          -0.093552  -0.102062 -0.098426 -0.102062  -0.104085 -0.089585   \n",
              "9795          10.689192  -0.102062 -0.098426 -0.102062  -0.104085 -0.089585   \n",
              "9796          -0.093552  -0.102062 -0.098426 -0.102062  -0.104085 -0.089585   \n",
              "\n",
              "       Zoppini  Better Life      Besh  \n",
              "0    -0.108504    -0.097896 -0.098426  \n",
              "1    -0.108504    -0.097896 -0.098426  \n",
              "2    -0.108504    -0.097896 -0.098426  \n",
              "3    -0.108504    -0.097896 -0.098426  \n",
              "4    -0.108504    -0.097896 -0.098426  \n",
              "...        ...          ...       ...  \n",
              "9792 -0.108504    -0.097896 -0.098426  \n",
              "9793 -0.108504    -0.097896 -0.098426  \n",
              "9794 -0.108504    -0.097896 -0.098426  \n",
              "9795 -0.108504    -0.097896 -0.098426  \n",
              "9796 -0.108504    -0.097896 -0.098426  \n",
              "\n",
              "[9797 rows x 2052 columns]"
            ],
            "text/html": [
              "\n",
              "  <div id=\"df-183c052a-09fb-4cf5-93ee-f2797f9ad9f5\">\n",
              "    <div class=\"colab-df-container\">\n",
              "      <div>\n",
              "<style scoped>\n",
              "    .dataframe tbody tr th:only-of-type {\n",
              "        vertical-align: middle;\n",
              "    }\n",
              "\n",
              "    .dataframe tbody tr th {\n",
              "        vertical-align: top;\n",
              "    }\n",
              "\n",
              "    .dataframe thead th {\n",
              "        text-align: right;\n",
              "    }\n",
              "</style>\n",
              "<table border=\"1\" class=\"dataframe\">\n",
              "  <thead>\n",
              "    <tr style=\"text-align: right;\">\n",
              "      <th></th>\n",
              "      <th>John Lobb</th>\n",
              "      <th>Louis Feraud</th>\n",
              "      <th>Gentle Monster</th>\n",
              "      <th>Karam Beirut</th>\n",
              "      <th>Asian Wok</th>\n",
              "      <th>KOI THE</th>\n",
              "      <th>Roger Vivier</th>\n",
              "      <th>Cartier</th>\n",
              "      <th>Levi's</th>\n",
              "      <th>IRO</th>\n",
              "      <th>...</th>\n",
              "      <th>La Senza</th>\n",
              "      <th>Lobby Gents Salon</th>\n",
              "      <th>Caha Capo</th>\n",
              "      <th>TWG Tea</th>\n",
              "      <th>Bershka</th>\n",
              "      <th>Illy Café</th>\n",
              "      <th>ARAMEX</th>\n",
              "      <th>Zoppini</th>\n",
              "      <th>Better Life</th>\n",
              "      <th>Besh</th>\n",
              "    </tr>\n",
              "  </thead>\n",
              "  <tbody>\n",
              "    <tr>\n",
              "      <th>0</th>\n",
              "      <td>9.749309</td>\n",
              "      <td>9.471693</td>\n",
              "      <td>9.701366</td>\n",
              "      <td>9.095881</td>\n",
              "      <td>-0.101036</td>\n",
              "      <td>-0.103583</td>\n",
              "      <td>-0.103583</td>\n",
              "      <td>-0.147642</td>\n",
              "      <td>-0.098954</td>\n",
              "      <td>-0.214256</td>\n",
              "      <td>...</td>\n",
              "      <td>-0.107537</td>\n",
              "      <td>-0.093552</td>\n",
              "      <td>-0.102062</td>\n",
              "      <td>-0.098426</td>\n",
              "      <td>-0.102062</td>\n",
              "      <td>-0.104085</td>\n",
              "      <td>-0.089585</td>\n",
              "      <td>-0.108504</td>\n",
              "      <td>-0.097896</td>\n",
              "      <td>-0.098426</td>\n",
              "    </tr>\n",
              "    <tr>\n",
              "      <th>1</th>\n",
              "      <td>-0.102571</td>\n",
              "      <td>-0.105578</td>\n",
              "      <td>9.701366</td>\n",
              "      <td>-0.109940</td>\n",
              "      <td>9.897454</td>\n",
              "      <td>9.654114</td>\n",
              "      <td>9.654114</td>\n",
              "      <td>6.773153</td>\n",
              "      <td>10.105757</td>\n",
              "      <td>4.667303</td>\n",
              "      <td>...</td>\n",
              "      <td>-0.107537</td>\n",
              "      <td>-0.093552</td>\n",
              "      <td>-0.102062</td>\n",
              "      <td>-0.098426</td>\n",
              "      <td>-0.102062</td>\n",
              "      <td>-0.104085</td>\n",
              "      <td>-0.089585</td>\n",
              "      <td>-0.108504</td>\n",
              "      <td>-0.097896</td>\n",
              "      <td>-0.098426</td>\n",
              "    </tr>\n",
              "    <tr>\n",
              "      <th>2</th>\n",
              "      <td>-0.102571</td>\n",
              "      <td>9.471693</td>\n",
              "      <td>-0.103078</td>\n",
              "      <td>-0.109940</td>\n",
              "      <td>-0.101036</td>\n",
              "      <td>-0.103583</td>\n",
              "      <td>-0.103583</td>\n",
              "      <td>-0.147642</td>\n",
              "      <td>-0.098954</td>\n",
              "      <td>-0.214256</td>\n",
              "      <td>...</td>\n",
              "      <td>-0.107537</td>\n",
              "      <td>-0.093552</td>\n",
              "      <td>-0.102062</td>\n",
              "      <td>-0.098426</td>\n",
              "      <td>-0.102062</td>\n",
              "      <td>-0.104085</td>\n",
              "      <td>-0.089585</td>\n",
              "      <td>-0.108504</td>\n",
              "      <td>-0.097896</td>\n",
              "      <td>-0.098426</td>\n",
              "    </tr>\n",
              "    <tr>\n",
              "      <th>3</th>\n",
              "      <td>-0.102571</td>\n",
              "      <td>-0.105578</td>\n",
              "      <td>-0.103078</td>\n",
              "      <td>-0.109940</td>\n",
              "      <td>-0.101036</td>\n",
              "      <td>-0.103583</td>\n",
              "      <td>-0.103583</td>\n",
              "      <td>-0.147642</td>\n",
              "      <td>-0.098954</td>\n",
              "      <td>-0.214256</td>\n",
              "      <td>...</td>\n",
              "      <td>-0.107537</td>\n",
              "      <td>-0.093552</td>\n",
              "      <td>-0.102062</td>\n",
              "      <td>-0.098426</td>\n",
              "      <td>-0.102062</td>\n",
              "      <td>-0.104085</td>\n",
              "      <td>-0.089585</td>\n",
              "      <td>-0.108504</td>\n",
              "      <td>-0.097896</td>\n",
              "      <td>-0.098426</td>\n",
              "    </tr>\n",
              "    <tr>\n",
              "      <th>4</th>\n",
              "      <td>-0.102571</td>\n",
              "      <td>-0.105578</td>\n",
              "      <td>-0.103078</td>\n",
              "      <td>-0.109940</td>\n",
              "      <td>-0.101036</td>\n",
              "      <td>-0.103583</td>\n",
              "      <td>-0.103583</td>\n",
              "      <td>-0.147642</td>\n",
              "      <td>-0.098954</td>\n",
              "      <td>-0.214256</td>\n",
              "      <td>...</td>\n",
              "      <td>-0.107537</td>\n",
              "      <td>-0.093552</td>\n",
              "      <td>-0.102062</td>\n",
              "      <td>-0.098426</td>\n",
              "      <td>-0.102062</td>\n",
              "      <td>-0.104085</td>\n",
              "      <td>-0.089585</td>\n",
              "      <td>-0.108504</td>\n",
              "      <td>-0.097896</td>\n",
              "      <td>-0.098426</td>\n",
              "    </tr>\n",
              "    <tr>\n",
              "      <th>...</th>\n",
              "      <td>...</td>\n",
              "      <td>...</td>\n",
              "      <td>...</td>\n",
              "      <td>...</td>\n",
              "      <td>...</td>\n",
              "      <td>...</td>\n",
              "      <td>...</td>\n",
              "      <td>...</td>\n",
              "      <td>...</td>\n",
              "      <td>...</td>\n",
              "      <td>...</td>\n",
              "      <td>...</td>\n",
              "      <td>...</td>\n",
              "      <td>...</td>\n",
              "      <td>...</td>\n",
              "      <td>...</td>\n",
              "      <td>...</td>\n",
              "      <td>...</td>\n",
              "      <td>...</td>\n",
              "      <td>...</td>\n",
              "      <td>...</td>\n",
              "    </tr>\n",
              "    <tr>\n",
              "      <th>9792</th>\n",
              "      <td>-0.102571</td>\n",
              "      <td>-0.105578</td>\n",
              "      <td>-0.103078</td>\n",
              "      <td>-0.109940</td>\n",
              "      <td>-0.101036</td>\n",
              "      <td>-0.103583</td>\n",
              "      <td>-0.103583</td>\n",
              "      <td>6.773153</td>\n",
              "      <td>-0.098954</td>\n",
              "      <td>-0.214256</td>\n",
              "      <td>...</td>\n",
              "      <td>-0.107537</td>\n",
              "      <td>-0.093552</td>\n",
              "      <td>-0.102062</td>\n",
              "      <td>-0.098426</td>\n",
              "      <td>-0.102062</td>\n",
              "      <td>-0.104085</td>\n",
              "      <td>-0.089585</td>\n",
              "      <td>-0.108504</td>\n",
              "      <td>-0.097896</td>\n",
              "      <td>-0.098426</td>\n",
              "    </tr>\n",
              "    <tr>\n",
              "      <th>9793</th>\n",
              "      <td>-0.102571</td>\n",
              "      <td>-0.105578</td>\n",
              "      <td>-0.103078</td>\n",
              "      <td>-0.109940</td>\n",
              "      <td>-0.101036</td>\n",
              "      <td>-0.103583</td>\n",
              "      <td>-0.103583</td>\n",
              "      <td>-0.147642</td>\n",
              "      <td>-0.098954</td>\n",
              "      <td>-0.214256</td>\n",
              "      <td>...</td>\n",
              "      <td>-0.107537</td>\n",
              "      <td>-0.093552</td>\n",
              "      <td>-0.102062</td>\n",
              "      <td>-0.098426</td>\n",
              "      <td>-0.102062</td>\n",
              "      <td>-0.104085</td>\n",
              "      <td>-0.089585</td>\n",
              "      <td>-0.108504</td>\n",
              "      <td>-0.097896</td>\n",
              "      <td>-0.098426</td>\n",
              "    </tr>\n",
              "    <tr>\n",
              "      <th>9794</th>\n",
              "      <td>-0.102571</td>\n",
              "      <td>-0.105578</td>\n",
              "      <td>-0.103078</td>\n",
              "      <td>-0.109940</td>\n",
              "      <td>-0.101036</td>\n",
              "      <td>-0.103583</td>\n",
              "      <td>-0.103583</td>\n",
              "      <td>-0.147642</td>\n",
              "      <td>-0.098954</td>\n",
              "      <td>-0.214256</td>\n",
              "      <td>...</td>\n",
              "      <td>-0.107537</td>\n",
              "      <td>-0.093552</td>\n",
              "      <td>-0.102062</td>\n",
              "      <td>-0.098426</td>\n",
              "      <td>-0.102062</td>\n",
              "      <td>-0.104085</td>\n",
              "      <td>-0.089585</td>\n",
              "      <td>-0.108504</td>\n",
              "      <td>-0.097896</td>\n",
              "      <td>-0.098426</td>\n",
              "    </tr>\n",
              "    <tr>\n",
              "      <th>9795</th>\n",
              "      <td>-0.102571</td>\n",
              "      <td>-0.105578</td>\n",
              "      <td>-0.103078</td>\n",
              "      <td>-0.109940</td>\n",
              "      <td>-0.101036</td>\n",
              "      <td>-0.103583</td>\n",
              "      <td>-0.103583</td>\n",
              "      <td>-0.147642</td>\n",
              "      <td>-0.098954</td>\n",
              "      <td>-0.214256</td>\n",
              "      <td>...</td>\n",
              "      <td>-0.107537</td>\n",
              "      <td>10.689192</td>\n",
              "      <td>-0.102062</td>\n",
              "      <td>-0.098426</td>\n",
              "      <td>-0.102062</td>\n",
              "      <td>-0.104085</td>\n",
              "      <td>-0.089585</td>\n",
              "      <td>-0.108504</td>\n",
              "      <td>-0.097896</td>\n",
              "      <td>-0.098426</td>\n",
              "    </tr>\n",
              "    <tr>\n",
              "      <th>9796</th>\n",
              "      <td>-0.102571</td>\n",
              "      <td>-0.105578</td>\n",
              "      <td>-0.103078</td>\n",
              "      <td>-0.109940</td>\n",
              "      <td>-0.101036</td>\n",
              "      <td>-0.103583</td>\n",
              "      <td>-0.103583</td>\n",
              "      <td>-0.147642</td>\n",
              "      <td>-0.098954</td>\n",
              "      <td>-0.214256</td>\n",
              "      <td>...</td>\n",
              "      <td>-0.107537</td>\n",
              "      <td>-0.093552</td>\n",
              "      <td>-0.102062</td>\n",
              "      <td>-0.098426</td>\n",
              "      <td>-0.102062</td>\n",
              "      <td>-0.104085</td>\n",
              "      <td>-0.089585</td>\n",
              "      <td>-0.108504</td>\n",
              "      <td>-0.097896</td>\n",
              "      <td>-0.098426</td>\n",
              "    </tr>\n",
              "  </tbody>\n",
              "</table>\n",
              "<p>9797 rows × 2052 columns</p>\n",
              "</div>\n",
              "      <button class=\"colab-df-convert\" onclick=\"convertToInteractive('df-183c052a-09fb-4cf5-93ee-f2797f9ad9f5')\"\n",
              "              title=\"Convert this dataframe to an interactive table.\"\n",
              "              style=\"display:none;\">\n",
              "        \n",
              "  <svg xmlns=\"http://www.w3.org/2000/svg\" height=\"24px\"viewBox=\"0 0 24 24\"\n",
              "       width=\"24px\">\n",
              "    <path d=\"M0 0h24v24H0V0z\" fill=\"none\"/>\n",
              "    <path d=\"M18.56 5.44l.94 2.06.94-2.06 2.06-.94-2.06-.94-.94-2.06-.94 2.06-2.06.94zm-11 1L8.5 8.5l.94-2.06 2.06-.94-2.06-.94L8.5 2.5l-.94 2.06-2.06.94zm10 10l.94 2.06.94-2.06 2.06-.94-2.06-.94-.94-2.06-.94 2.06-2.06.94z\"/><path d=\"M17.41 7.96l-1.37-1.37c-.4-.4-.92-.59-1.43-.59-.52 0-1.04.2-1.43.59L10.3 9.45l-7.72 7.72c-.78.78-.78 2.05 0 2.83L4 21.41c.39.39.9.59 1.41.59.51 0 1.02-.2 1.41-.59l7.78-7.78 2.81-2.81c.8-.78.8-2.07 0-2.86zM5.41 20L4 18.59l7.72-7.72 1.47 1.35L5.41 20z\"/>\n",
              "  </svg>\n",
              "      </button>\n",
              "      \n",
              "  <style>\n",
              "    .colab-df-container {\n",
              "      display:flex;\n",
              "      flex-wrap:wrap;\n",
              "      gap: 12px;\n",
              "    }\n",
              "\n",
              "    .colab-df-convert {\n",
              "      background-color: #E8F0FE;\n",
              "      border: none;\n",
              "      border-radius: 50%;\n",
              "      cursor: pointer;\n",
              "      display: none;\n",
              "      fill: #1967D2;\n",
              "      height: 32px;\n",
              "      padding: 0 0 0 0;\n",
              "      width: 32px;\n",
              "    }\n",
              "\n",
              "    .colab-df-convert:hover {\n",
              "      background-color: #E2EBFA;\n",
              "      box-shadow: 0px 1px 2px rgba(60, 64, 67, 0.3), 0px 1px 3px 1px rgba(60, 64, 67, 0.15);\n",
              "      fill: #174EA6;\n",
              "    }\n",
              "\n",
              "    [theme=dark] .colab-df-convert {\n",
              "      background-color: #3B4455;\n",
              "      fill: #D2E3FC;\n",
              "    }\n",
              "\n",
              "    [theme=dark] .colab-df-convert:hover {\n",
              "      background-color: #434B5C;\n",
              "      box-shadow: 0px 1px 3px 1px rgba(0, 0, 0, 0.15);\n",
              "      filter: drop-shadow(0px 1px 2px rgba(0, 0, 0, 0.3));\n",
              "      fill: #FFFFFF;\n",
              "    }\n",
              "  </style>\n",
              "\n",
              "      <script>\n",
              "        const buttonEl =\n",
              "          document.querySelector('#df-183c052a-09fb-4cf5-93ee-f2797f9ad9f5 button.colab-df-convert');\n",
              "        buttonEl.style.display =\n",
              "          google.colab.kernel.accessAllowed ? 'block' : 'none';\n",
              "\n",
              "        async function convertToInteractive(key) {\n",
              "          const element = document.querySelector('#df-183c052a-09fb-4cf5-93ee-f2797f9ad9f5');\n",
              "          const dataTable =\n",
              "            await google.colab.kernel.invokeFunction('convertToInteractive',\n",
              "                                                     [key], {});\n",
              "          if (!dataTable) return;\n",
              "\n",
              "          const docLinkHtml = 'Like what you see? Visit the ' +\n",
              "            '<a target=\"_blank\" href=https://colab.research.google.com/notebooks/data_table.ipynb>data table notebook</a>'\n",
              "            + ' to learn more about interactive tables.';\n",
              "          element.innerHTML = '';\n",
              "          dataTable['output_type'] = 'display_data';\n",
              "          await google.colab.output.renderOutput(dataTable, element);\n",
              "          const docLink = document.createElement('div');\n",
              "          docLink.innerHTML = docLinkHtml;\n",
              "          element.appendChild(docLink);\n",
              "        }\n",
              "      </script>\n",
              "    </div>\n",
              "  </div>\n",
              "  "
            ]
          },
          "metadata": {},
          "execution_count": 29
        }
      ]
    },
    {
      "cell_type": "code",
      "source": [
        "# df1=df_scaled[11:]\n",
        "# dfa=df_scaled[:11]"
      ],
      "metadata": {
        "id": "ZoT2Ws6Rhy6m"
      },
      "execution_count": 30,
      "outputs": []
    },
    {
      "cell_type": "code",
      "source": [
        "# # from sklearn.decomposition import PCA\n",
        "# # pca = PCA(n_components=1500)\n",
        "# # principalComponents = pca.fit_transform(df1)\n",
        "# # principalDf = pd.DataFrame(data = principalComponents)#, columns = ['principal component 1', 'principal component 2'])\n",
        "for i in dff[:1]:\n",
        "  if dff[:1][i].isin([1]).any().any():\n",
        "    print(dff[:1][i])"
      ],
      "metadata": {
        "colab": {
          "base_uri": "https://localhost:8080/"
        },
        "id": "O3oNPHlXPFST",
        "outputId": "d4bec28c-d3a1-4ffb-93af-a6965e82b72d"
      },
      "execution_count": 31,
      "outputs": [
        {
          "output_type": "stream",
          "name": "stdout",
          "text": [
            "0    1.0\n",
            "Name: John Lobb, dtype: float64\n",
            "0    1.0\n",
            "Name: Louis Feraud, dtype: float64\n",
            "0    1.0\n",
            "Name: Gentle Monster, dtype: float64\n",
            "0    1.0\n",
            "Name: Karam Beirut, dtype: float64\n"
          ]
        }
      ]
    },
    {
      "cell_type": "code",
      "source": [
        "import matplotlib.pyplot as plt\n",
        "from sklearn.neighbors import NearestNeighbors\n",
        "nbrs = NearestNeighbors(n_neighbors=5, algorithm='ball_tree',leaf_size=3).fit(dff)\n",
        "distances, indices = nbrs.kneighbors(dff[:1])\n",
        "indices\n"
      ],
      "metadata": {
        "colab": {
          "base_uri": "https://localhost:8080/"
        },
        "id": "6Y94mz8U89G-",
        "outputId": "52f9dc36-5f30-43c3-d838-2f7ed25080c6"
      },
      "execution_count": 59,
      "outputs": [
        {
          "output_type": "execute_result",
          "data": {
            "text/plain": [
              "array([[   0, 3058, 2248, 3060, 1339]])"
            ]
          },
          "metadata": {},
          "execution_count": 59
        }
      ]
    },
    {
      "cell_type": "code",
      "source": [
        "dff.iloc[indices.tolist()[0]]"
      ],
      "metadata": {
        "colab": {
          "base_uri": "https://localhost:8080/",
          "height": 315
        },
        "id": "9LIsmKIB98uG",
        "outputId": "438e32c4-e871-46fc-ad16-3c30c14f92c5"
      },
      "execution_count": 60,
      "outputs": [
        {
          "output_type": "execute_result",
          "data": {
            "text/plain": [
              "      John Lobb  Louis Feraud  Gentle Monster  Karam Beirut  Asian Wok  \\\n",
              "0           1.0           1.0             1.0           1.0        0.0   \n",
              "3127        0.0           0.0             0.0           1.0        0.0   \n",
              "2296        0.0           1.0             0.0           0.0        0.0   \n",
              "3130        0.0           0.0             1.0           0.0        0.0   \n",
              "1361        0.0           0.0             1.0           0.0        0.0   \n",
              "\n",
              "      KOI THE  Roger Vivier  Cartier  Levi's  IRO  ...  La Senza  \\\n",
              "0         0.0           0.0      0.0     0.0  0.0  ...       0.0   \n",
              "3127      0.0           0.0      0.0     0.0  0.0  ...       0.0   \n",
              "2296      0.0           0.0      0.0     0.0  0.0  ...       0.0   \n",
              "3130      0.0           0.0      0.0     0.0  0.0  ...       0.0   \n",
              "1361      0.0           0.0      0.0     0.0  0.0  ...       0.0   \n",
              "\n",
              "      Lobby Gents Salon  Caha Capo  TWG Tea  Bershka  Illy Café  ARAMEX  \\\n",
              "0                   0.0        0.0      0.0      0.0        0.0     0.0   \n",
              "3127                0.0        0.0      0.0      0.0        0.0     0.0   \n",
              "2296                0.0        0.0      0.0      0.0        0.0     0.0   \n",
              "3130                0.0        0.0      0.0      0.0        0.0     0.0   \n",
              "1361                0.0        0.0      0.0      0.0        0.0     0.0   \n",
              "\n",
              "      Zoppini  Better Life  Besh  \n",
              "0         0.0          0.0   0.0  \n",
              "3127      0.0          0.0   0.0  \n",
              "2296      0.0          0.0   0.0  \n",
              "3130      0.0          0.0   0.0  \n",
              "1361      0.0          0.0   0.0  \n",
              "\n",
              "[5 rows x 2052 columns]"
            ],
            "text/html": [
              "\n",
              "  <div id=\"df-7fc353f4-e94d-4269-99ee-83e49239e10c\">\n",
              "    <div class=\"colab-df-container\">\n",
              "      <div>\n",
              "<style scoped>\n",
              "    .dataframe tbody tr th:only-of-type {\n",
              "        vertical-align: middle;\n",
              "    }\n",
              "\n",
              "    .dataframe tbody tr th {\n",
              "        vertical-align: top;\n",
              "    }\n",
              "\n",
              "    .dataframe thead th {\n",
              "        text-align: right;\n",
              "    }\n",
              "</style>\n",
              "<table border=\"1\" class=\"dataframe\">\n",
              "  <thead>\n",
              "    <tr style=\"text-align: right;\">\n",
              "      <th></th>\n",
              "      <th>John Lobb</th>\n",
              "      <th>Louis Feraud</th>\n",
              "      <th>Gentle Monster</th>\n",
              "      <th>Karam Beirut</th>\n",
              "      <th>Asian Wok</th>\n",
              "      <th>KOI THE</th>\n",
              "      <th>Roger Vivier</th>\n",
              "      <th>Cartier</th>\n",
              "      <th>Levi's</th>\n",
              "      <th>IRO</th>\n",
              "      <th>...</th>\n",
              "      <th>La Senza</th>\n",
              "      <th>Lobby Gents Salon</th>\n",
              "      <th>Caha Capo</th>\n",
              "      <th>TWG Tea</th>\n",
              "      <th>Bershka</th>\n",
              "      <th>Illy Café</th>\n",
              "      <th>ARAMEX</th>\n",
              "      <th>Zoppini</th>\n",
              "      <th>Better Life</th>\n",
              "      <th>Besh</th>\n",
              "    </tr>\n",
              "  </thead>\n",
              "  <tbody>\n",
              "    <tr>\n",
              "      <th>0</th>\n",
              "      <td>1.0</td>\n",
              "      <td>1.0</td>\n",
              "      <td>1.0</td>\n",
              "      <td>1.0</td>\n",
              "      <td>0.0</td>\n",
              "      <td>0.0</td>\n",
              "      <td>0.0</td>\n",
              "      <td>0.0</td>\n",
              "      <td>0.0</td>\n",
              "      <td>0.0</td>\n",
              "      <td>...</td>\n",
              "      <td>0.0</td>\n",
              "      <td>0.0</td>\n",
              "      <td>0.0</td>\n",
              "      <td>0.0</td>\n",
              "      <td>0.0</td>\n",
              "      <td>0.0</td>\n",
              "      <td>0.0</td>\n",
              "      <td>0.0</td>\n",
              "      <td>0.0</td>\n",
              "      <td>0.0</td>\n",
              "    </tr>\n",
              "    <tr>\n",
              "      <th>3127</th>\n",
              "      <td>0.0</td>\n",
              "      <td>0.0</td>\n",
              "      <td>0.0</td>\n",
              "      <td>1.0</td>\n",
              "      <td>0.0</td>\n",
              "      <td>0.0</td>\n",
              "      <td>0.0</td>\n",
              "      <td>0.0</td>\n",
              "      <td>0.0</td>\n",
              "      <td>0.0</td>\n",
              "      <td>...</td>\n",
              "      <td>0.0</td>\n",
              "      <td>0.0</td>\n",
              "      <td>0.0</td>\n",
              "      <td>0.0</td>\n",
              "      <td>0.0</td>\n",
              "      <td>0.0</td>\n",
              "      <td>0.0</td>\n",
              "      <td>0.0</td>\n",
              "      <td>0.0</td>\n",
              "      <td>0.0</td>\n",
              "    </tr>\n",
              "    <tr>\n",
              "      <th>2296</th>\n",
              "      <td>0.0</td>\n",
              "      <td>1.0</td>\n",
              "      <td>0.0</td>\n",
              "      <td>0.0</td>\n",
              "      <td>0.0</td>\n",
              "      <td>0.0</td>\n",
              "      <td>0.0</td>\n",
              "      <td>0.0</td>\n",
              "      <td>0.0</td>\n",
              "      <td>0.0</td>\n",
              "      <td>...</td>\n",
              "      <td>0.0</td>\n",
              "      <td>0.0</td>\n",
              "      <td>0.0</td>\n",
              "      <td>0.0</td>\n",
              "      <td>0.0</td>\n",
              "      <td>0.0</td>\n",
              "      <td>0.0</td>\n",
              "      <td>0.0</td>\n",
              "      <td>0.0</td>\n",
              "      <td>0.0</td>\n",
              "    </tr>\n",
              "    <tr>\n",
              "      <th>3130</th>\n",
              "      <td>0.0</td>\n",
              "      <td>0.0</td>\n",
              "      <td>1.0</td>\n",
              "      <td>0.0</td>\n",
              "      <td>0.0</td>\n",
              "      <td>0.0</td>\n",
              "      <td>0.0</td>\n",
              "      <td>0.0</td>\n",
              "      <td>0.0</td>\n",
              "      <td>0.0</td>\n",
              "      <td>...</td>\n",
              "      <td>0.0</td>\n",
              "      <td>0.0</td>\n",
              "      <td>0.0</td>\n",
              "      <td>0.0</td>\n",
              "      <td>0.0</td>\n",
              "      <td>0.0</td>\n",
              "      <td>0.0</td>\n",
              "      <td>0.0</td>\n",
              "      <td>0.0</td>\n",
              "      <td>0.0</td>\n",
              "    </tr>\n",
              "    <tr>\n",
              "      <th>1361</th>\n",
              "      <td>0.0</td>\n",
              "      <td>0.0</td>\n",
              "      <td>1.0</td>\n",
              "      <td>0.0</td>\n",
              "      <td>0.0</td>\n",
              "      <td>0.0</td>\n",
              "      <td>0.0</td>\n",
              "      <td>0.0</td>\n",
              "      <td>0.0</td>\n",
              "      <td>0.0</td>\n",
              "      <td>...</td>\n",
              "      <td>0.0</td>\n",
              "      <td>0.0</td>\n",
              "      <td>0.0</td>\n",
              "      <td>0.0</td>\n",
              "      <td>0.0</td>\n",
              "      <td>0.0</td>\n",
              "      <td>0.0</td>\n",
              "      <td>0.0</td>\n",
              "      <td>0.0</td>\n",
              "      <td>0.0</td>\n",
              "    </tr>\n",
              "  </tbody>\n",
              "</table>\n",
              "<p>5 rows × 2052 columns</p>\n",
              "</div>\n",
              "      <button class=\"colab-df-convert\" onclick=\"convertToInteractive('df-7fc353f4-e94d-4269-99ee-83e49239e10c')\"\n",
              "              title=\"Convert this dataframe to an interactive table.\"\n",
              "              style=\"display:none;\">\n",
              "        \n",
              "  <svg xmlns=\"http://www.w3.org/2000/svg\" height=\"24px\"viewBox=\"0 0 24 24\"\n",
              "       width=\"24px\">\n",
              "    <path d=\"M0 0h24v24H0V0z\" fill=\"none\"/>\n",
              "    <path d=\"M18.56 5.44l.94 2.06.94-2.06 2.06-.94-2.06-.94-.94-2.06-.94 2.06-2.06.94zm-11 1L8.5 8.5l.94-2.06 2.06-.94-2.06-.94L8.5 2.5l-.94 2.06-2.06.94zm10 10l.94 2.06.94-2.06 2.06-.94-2.06-.94-.94-2.06-.94 2.06-2.06.94z\"/><path d=\"M17.41 7.96l-1.37-1.37c-.4-.4-.92-.59-1.43-.59-.52 0-1.04.2-1.43.59L10.3 9.45l-7.72 7.72c-.78.78-.78 2.05 0 2.83L4 21.41c.39.39.9.59 1.41.59.51 0 1.02-.2 1.41-.59l7.78-7.78 2.81-2.81c.8-.78.8-2.07 0-2.86zM5.41 20L4 18.59l7.72-7.72 1.47 1.35L5.41 20z\"/>\n",
              "  </svg>\n",
              "      </button>\n",
              "      \n",
              "  <style>\n",
              "    .colab-df-container {\n",
              "      display:flex;\n",
              "      flex-wrap:wrap;\n",
              "      gap: 12px;\n",
              "    }\n",
              "\n",
              "    .colab-df-convert {\n",
              "      background-color: #E8F0FE;\n",
              "      border: none;\n",
              "      border-radius: 50%;\n",
              "      cursor: pointer;\n",
              "      display: none;\n",
              "      fill: #1967D2;\n",
              "      height: 32px;\n",
              "      padding: 0 0 0 0;\n",
              "      width: 32px;\n",
              "    }\n",
              "\n",
              "    .colab-df-convert:hover {\n",
              "      background-color: #E2EBFA;\n",
              "      box-shadow: 0px 1px 2px rgba(60, 64, 67, 0.3), 0px 1px 3px 1px rgba(60, 64, 67, 0.15);\n",
              "      fill: #174EA6;\n",
              "    }\n",
              "\n",
              "    [theme=dark] .colab-df-convert {\n",
              "      background-color: #3B4455;\n",
              "      fill: #D2E3FC;\n",
              "    }\n",
              "\n",
              "    [theme=dark] .colab-df-convert:hover {\n",
              "      background-color: #434B5C;\n",
              "      box-shadow: 0px 1px 3px 1px rgba(0, 0, 0, 0.15);\n",
              "      filter: drop-shadow(0px 1px 2px rgba(0, 0, 0, 0.3));\n",
              "      fill: #FFFFFF;\n",
              "    }\n",
              "  </style>\n",
              "\n",
              "      <script>\n",
              "        const buttonEl =\n",
              "          document.querySelector('#df-7fc353f4-e94d-4269-99ee-83e49239e10c button.colab-df-convert');\n",
              "        buttonEl.style.display =\n",
              "          google.colab.kernel.accessAllowed ? 'block' : 'none';\n",
              "\n",
              "        async function convertToInteractive(key) {\n",
              "          const element = document.querySelector('#df-7fc353f4-e94d-4269-99ee-83e49239e10c');\n",
              "          const dataTable =\n",
              "            await google.colab.kernel.invokeFunction('convertToInteractive',\n",
              "                                                     [key], {});\n",
              "          if (!dataTable) return;\n",
              "\n",
              "          const docLinkHtml = 'Like what you see? Visit the ' +\n",
              "            '<a target=\"_blank\" href=https://colab.research.google.com/notebooks/data_table.ipynb>data table notebook</a>'\n",
              "            + ' to learn more about interactive tables.';\n",
              "          element.innerHTML = '';\n",
              "          dataTable['output_type'] = 'display_data';\n",
              "          await google.colab.output.renderOutput(dataTable, element);\n",
              "          const docLink = document.createElement('div');\n",
              "          docLink.innerHTML = docLinkHtml;\n",
              "          element.appendChild(docLink);\n",
              "        }\n",
              "      </script>\n",
              "    </div>\n",
              "  </div>\n",
              "  "
            ]
          },
          "metadata": {},
          "execution_count": 60
        }
      ]
    },
    {
      "cell_type": "code",
      "source": [
        "from scipy import spatial\n",
        "for i,j in enumerate(indices):\n",
        "  List1=dff.iloc[i]\n",
        "  print('I value',i)\n",
        "  for k in j:\n",
        "    List2=dff.iloc[k]\n",
        "    print('K value',k)\n",
        "  result = 1 - spatial.distance.cosine(List1, List2)\n",
        "print(result)"
      ],
      "metadata": {
        "id": "xWX_MZ9hLuF1",
        "colab": {
          "base_uri": "https://localhost:8080/"
        },
        "outputId": "091f6a41-8ff8-49ba-bf95-08eb1dbb2bb4"
      },
      "execution_count": 61,
      "outputs": [
        {
          "output_type": "stream",
          "name": "stdout",
          "text": [
            "I value 0\n",
            "K value 0\n",
            "K value 3058\n",
            "K value 2248\n",
            "K value 3060\n",
            "K value 1339\n",
            "0.28867513459481287\n"
          ]
        }
      ]
    },
    {
      "cell_type": "code",
      "source": [
        "from numpy.linalg import norm\n",
        "for i,j in enumerate(indices):\n",
        "  A=dff.iloc[i]\n",
        "  print('Initiative index',i)\n",
        "  for k in j:\n",
        "    print('indices',k)\n",
        "    B=dff.iloc[k]\n",
        "    cosine=np.dot(A,B)/(norm(A)*norm(B))\n",
        "    print('Cosine scores are',cosine)"
      ],
      "metadata": {
        "id": "aJXSW-gkG3Kw",
        "colab": {
          "base_uri": "https://localhost:8080/"
        },
        "outputId": "d1f5af6b-ea16-4607-e6ea-51649684a40f"
      },
      "execution_count": 62,
      "outputs": [
        {
          "output_type": "stream",
          "name": "stdout",
          "text": [
            "Initiative index 0\n",
            "indices 0\n",
            "Cosine scores are 1.0\n",
            "indices 3058\n",
            "Cosine scores are 0.2886751345948129\n",
            "indices 2248\n",
            "Cosine scores are 0.2886751345948129\n",
            "indices 3060\n",
            "Cosine scores are 0.2886751345948129\n",
            "indices 1339\n",
            "Cosine scores are 0.2886751345948129\n"
          ]
        }
      ]
    },
    {
      "cell_type": "code",
      "source": [
        "dff[3:4]"
      ],
      "metadata": {
        "id": "AQ8HmuKKI104",
        "colab": {
          "base_uri": "https://localhost:8080/",
          "height": 189
        },
        "outputId": "2930282c-9b2a-4983-96e5-4337142fd11e"
      },
      "execution_count": 63,
      "outputs": [
        {
          "output_type": "execute_result",
          "data": {
            "text/plain": [
              "   John Lobb  Louis Feraud  Gentle Monster  Karam Beirut  Asian Wok  KOI THE  \\\n",
              "3        0.0           0.0             0.0           0.0        0.0      0.0   \n",
              "\n",
              "   Roger Vivier  Cartier  Levi's  IRO  ...  La Senza  Lobby Gents Salon  \\\n",
              "3           0.0      0.0     0.0  0.0  ...       0.0                0.0   \n",
              "\n",
              "   Caha Capo  TWG Tea  Bershka  Illy Café  ARAMEX  Zoppini  Better Life  Besh  \n",
              "3        0.0      0.0      0.0        0.0     0.0      0.0          0.0   0.0  \n",
              "\n",
              "[1 rows x 2052 columns]"
            ],
            "text/html": [
              "\n",
              "  <div id=\"df-a1721712-7001-4679-96b0-4ab9552c54cf\">\n",
              "    <div class=\"colab-df-container\">\n",
              "      <div>\n",
              "<style scoped>\n",
              "    .dataframe tbody tr th:only-of-type {\n",
              "        vertical-align: middle;\n",
              "    }\n",
              "\n",
              "    .dataframe tbody tr th {\n",
              "        vertical-align: top;\n",
              "    }\n",
              "\n",
              "    .dataframe thead th {\n",
              "        text-align: right;\n",
              "    }\n",
              "</style>\n",
              "<table border=\"1\" class=\"dataframe\">\n",
              "  <thead>\n",
              "    <tr style=\"text-align: right;\">\n",
              "      <th></th>\n",
              "      <th>John Lobb</th>\n",
              "      <th>Louis Feraud</th>\n",
              "      <th>Gentle Monster</th>\n",
              "      <th>Karam Beirut</th>\n",
              "      <th>Asian Wok</th>\n",
              "      <th>KOI THE</th>\n",
              "      <th>Roger Vivier</th>\n",
              "      <th>Cartier</th>\n",
              "      <th>Levi's</th>\n",
              "      <th>IRO</th>\n",
              "      <th>...</th>\n",
              "      <th>La Senza</th>\n",
              "      <th>Lobby Gents Salon</th>\n",
              "      <th>Caha Capo</th>\n",
              "      <th>TWG Tea</th>\n",
              "      <th>Bershka</th>\n",
              "      <th>Illy Café</th>\n",
              "      <th>ARAMEX</th>\n",
              "      <th>Zoppini</th>\n",
              "      <th>Better Life</th>\n",
              "      <th>Besh</th>\n",
              "    </tr>\n",
              "  </thead>\n",
              "  <tbody>\n",
              "    <tr>\n",
              "      <th>3</th>\n",
              "      <td>0.0</td>\n",
              "      <td>0.0</td>\n",
              "      <td>0.0</td>\n",
              "      <td>0.0</td>\n",
              "      <td>0.0</td>\n",
              "      <td>0.0</td>\n",
              "      <td>0.0</td>\n",
              "      <td>0.0</td>\n",
              "      <td>0.0</td>\n",
              "      <td>0.0</td>\n",
              "      <td>...</td>\n",
              "      <td>0.0</td>\n",
              "      <td>0.0</td>\n",
              "      <td>0.0</td>\n",
              "      <td>0.0</td>\n",
              "      <td>0.0</td>\n",
              "      <td>0.0</td>\n",
              "      <td>0.0</td>\n",
              "      <td>0.0</td>\n",
              "      <td>0.0</td>\n",
              "      <td>0.0</td>\n",
              "    </tr>\n",
              "  </tbody>\n",
              "</table>\n",
              "<p>1 rows × 2052 columns</p>\n",
              "</div>\n",
              "      <button class=\"colab-df-convert\" onclick=\"convertToInteractive('df-a1721712-7001-4679-96b0-4ab9552c54cf')\"\n",
              "              title=\"Convert this dataframe to an interactive table.\"\n",
              "              style=\"display:none;\">\n",
              "        \n",
              "  <svg xmlns=\"http://www.w3.org/2000/svg\" height=\"24px\"viewBox=\"0 0 24 24\"\n",
              "       width=\"24px\">\n",
              "    <path d=\"M0 0h24v24H0V0z\" fill=\"none\"/>\n",
              "    <path d=\"M18.56 5.44l.94 2.06.94-2.06 2.06-.94-2.06-.94-.94-2.06-.94 2.06-2.06.94zm-11 1L8.5 8.5l.94-2.06 2.06-.94-2.06-.94L8.5 2.5l-.94 2.06-2.06.94zm10 10l.94 2.06.94-2.06 2.06-.94-2.06-.94-.94-2.06-.94 2.06-2.06.94z\"/><path d=\"M17.41 7.96l-1.37-1.37c-.4-.4-.92-.59-1.43-.59-.52 0-1.04.2-1.43.59L10.3 9.45l-7.72 7.72c-.78.78-.78 2.05 0 2.83L4 21.41c.39.39.9.59 1.41.59.51 0 1.02-.2 1.41-.59l7.78-7.78 2.81-2.81c.8-.78.8-2.07 0-2.86zM5.41 20L4 18.59l7.72-7.72 1.47 1.35L5.41 20z\"/>\n",
              "  </svg>\n",
              "      </button>\n",
              "      \n",
              "  <style>\n",
              "    .colab-df-container {\n",
              "      display:flex;\n",
              "      flex-wrap:wrap;\n",
              "      gap: 12px;\n",
              "    }\n",
              "\n",
              "    .colab-df-convert {\n",
              "      background-color: #E8F0FE;\n",
              "      border: none;\n",
              "      border-radius: 50%;\n",
              "      cursor: pointer;\n",
              "      display: none;\n",
              "      fill: #1967D2;\n",
              "      height: 32px;\n",
              "      padding: 0 0 0 0;\n",
              "      width: 32px;\n",
              "    }\n",
              "\n",
              "    .colab-df-convert:hover {\n",
              "      background-color: #E2EBFA;\n",
              "      box-shadow: 0px 1px 2px rgba(60, 64, 67, 0.3), 0px 1px 3px 1px rgba(60, 64, 67, 0.15);\n",
              "      fill: #174EA6;\n",
              "    }\n",
              "\n",
              "    [theme=dark] .colab-df-convert {\n",
              "      background-color: #3B4455;\n",
              "      fill: #D2E3FC;\n",
              "    }\n",
              "\n",
              "    [theme=dark] .colab-df-convert:hover {\n",
              "      background-color: #434B5C;\n",
              "      box-shadow: 0px 1px 3px 1px rgba(0, 0, 0, 0.15);\n",
              "      filter: drop-shadow(0px 1px 2px rgba(0, 0, 0, 0.3));\n",
              "      fill: #FFFFFF;\n",
              "    }\n",
              "  </style>\n",
              "\n",
              "      <script>\n",
              "        const buttonEl =\n",
              "          document.querySelector('#df-a1721712-7001-4679-96b0-4ab9552c54cf button.colab-df-convert');\n",
              "        buttonEl.style.display =\n",
              "          google.colab.kernel.accessAllowed ? 'block' : 'none';\n",
              "\n",
              "        async function convertToInteractive(key) {\n",
              "          const element = document.querySelector('#df-a1721712-7001-4679-96b0-4ab9552c54cf');\n",
              "          const dataTable =\n",
              "            await google.colab.kernel.invokeFunction('convertToInteractive',\n",
              "                                                     [key], {});\n",
              "          if (!dataTable) return;\n",
              "\n",
              "          const docLinkHtml = 'Like what you see? Visit the ' +\n",
              "            '<a target=\"_blank\" href=https://colab.research.google.com/notebooks/data_table.ipynb>data table notebook</a>'\n",
              "            + ' to learn more about interactive tables.';\n",
              "          element.innerHTML = '';\n",
              "          dataTable['output_type'] = 'display_data';\n",
              "          await google.colab.output.renderOutput(dataTable, element);\n",
              "          const docLink = document.createElement('div');\n",
              "          docLink.innerHTML = docLinkHtml;\n",
              "          element.appendChild(docLink);\n",
              "        }\n",
              "      </script>\n",
              "    </div>\n",
              "  </div>\n",
              "  "
            ]
          },
          "metadata": {},
          "execution_count": 63
        }
      ]
    },
    {
      "cell_type": "code",
      "source": [
        "df[3:4]"
      ],
      "metadata": {
        "id": "MZIUE2NHJCTf",
        "colab": {
          "base_uri": "https://localhost:8080/",
          "height": 197
        },
        "outputId": "2dbc7522-435b-4c2e-d3a0-13669779a79c"
      },
      "execution_count": 64,
      "outputs": [
        {
          "output_type": "execute_result",
          "data": {
            "text/plain": [
              "                    clients First_name Last_Name gender_details  \\\n",
              "3  5dcd968938a50560dc9b76bd      Randy      Pete           male   \n",
              "\n",
              "  marital_status  users_age user_study         birth_day user_city  \\\n",
              "3        married         66        NaN  18-05-1969 12:42       NaN   \n",
              "\n",
              "  users_county users_country  users_income  \\\n",
              "3          NaN           NaN        8636.0   \n",
              "\n",
              "                                             tenants       views  \\\n",
              "3  Jo Malone,Abercrombie & Fitch,Occhiali Optics,...  15-12-2021   \n",
              "\n",
              "                                               brand  \\\n",
              "3  Tag  Heuer,Jo Malone,Vogue,Abercrombie & Fitch...   \n",
              "\n",
              "                                              brand2  \n",
              "3  Birkenstock,Vogue,Abercrombie & Fitch,Abercrom...  "
            ],
            "text/html": [
              "\n",
              "  <div id=\"df-8248b9c6-d006-4299-b6fa-16eb4ccf1cb9\">\n",
              "    <div class=\"colab-df-container\">\n",
              "      <div>\n",
              "<style scoped>\n",
              "    .dataframe tbody tr th:only-of-type {\n",
              "        vertical-align: middle;\n",
              "    }\n",
              "\n",
              "    .dataframe tbody tr th {\n",
              "        vertical-align: top;\n",
              "    }\n",
              "\n",
              "    .dataframe thead th {\n",
              "        text-align: right;\n",
              "    }\n",
              "</style>\n",
              "<table border=\"1\" class=\"dataframe\">\n",
              "  <thead>\n",
              "    <tr style=\"text-align: right;\">\n",
              "      <th></th>\n",
              "      <th>clients</th>\n",
              "      <th>First_name</th>\n",
              "      <th>Last_Name</th>\n",
              "      <th>gender_details</th>\n",
              "      <th>marital_status</th>\n",
              "      <th>users_age</th>\n",
              "      <th>user_study</th>\n",
              "      <th>birth_day</th>\n",
              "      <th>user_city</th>\n",
              "      <th>users_county</th>\n",
              "      <th>users_country</th>\n",
              "      <th>users_income</th>\n",
              "      <th>tenants</th>\n",
              "      <th>views</th>\n",
              "      <th>brand</th>\n",
              "      <th>brand2</th>\n",
              "    </tr>\n",
              "  </thead>\n",
              "  <tbody>\n",
              "    <tr>\n",
              "      <th>3</th>\n",
              "      <td>5dcd968938a50560dc9b76bd</td>\n",
              "      <td>Randy</td>\n",
              "      <td>Pete</td>\n",
              "      <td>male</td>\n",
              "      <td>married</td>\n",
              "      <td>66</td>\n",
              "      <td>NaN</td>\n",
              "      <td>18-05-1969 12:42</td>\n",
              "      <td>NaN</td>\n",
              "      <td>NaN</td>\n",
              "      <td>NaN</td>\n",
              "      <td>8636.0</td>\n",
              "      <td>Jo Malone,Abercrombie &amp; Fitch,Occhiali Optics,...</td>\n",
              "      <td>15-12-2021</td>\n",
              "      <td>Tag  Heuer,Jo Malone,Vogue,Abercrombie &amp; Fitch...</td>\n",
              "      <td>Birkenstock,Vogue,Abercrombie &amp; Fitch,Abercrom...</td>\n",
              "    </tr>\n",
              "  </tbody>\n",
              "</table>\n",
              "</div>\n",
              "      <button class=\"colab-df-convert\" onclick=\"convertToInteractive('df-8248b9c6-d006-4299-b6fa-16eb4ccf1cb9')\"\n",
              "              title=\"Convert this dataframe to an interactive table.\"\n",
              "              style=\"display:none;\">\n",
              "        \n",
              "  <svg xmlns=\"http://www.w3.org/2000/svg\" height=\"24px\"viewBox=\"0 0 24 24\"\n",
              "       width=\"24px\">\n",
              "    <path d=\"M0 0h24v24H0V0z\" fill=\"none\"/>\n",
              "    <path d=\"M18.56 5.44l.94 2.06.94-2.06 2.06-.94-2.06-.94-.94-2.06-.94 2.06-2.06.94zm-11 1L8.5 8.5l.94-2.06 2.06-.94-2.06-.94L8.5 2.5l-.94 2.06-2.06.94zm10 10l.94 2.06.94-2.06 2.06-.94-2.06-.94-.94-2.06-.94 2.06-2.06.94z\"/><path d=\"M17.41 7.96l-1.37-1.37c-.4-.4-.92-.59-1.43-.59-.52 0-1.04.2-1.43.59L10.3 9.45l-7.72 7.72c-.78.78-.78 2.05 0 2.83L4 21.41c.39.39.9.59 1.41.59.51 0 1.02-.2 1.41-.59l7.78-7.78 2.81-2.81c.8-.78.8-2.07 0-2.86zM5.41 20L4 18.59l7.72-7.72 1.47 1.35L5.41 20z\"/>\n",
              "  </svg>\n",
              "      </button>\n",
              "      \n",
              "  <style>\n",
              "    .colab-df-container {\n",
              "      display:flex;\n",
              "      flex-wrap:wrap;\n",
              "      gap: 12px;\n",
              "    }\n",
              "\n",
              "    .colab-df-convert {\n",
              "      background-color: #E8F0FE;\n",
              "      border: none;\n",
              "      border-radius: 50%;\n",
              "      cursor: pointer;\n",
              "      display: none;\n",
              "      fill: #1967D2;\n",
              "      height: 32px;\n",
              "      padding: 0 0 0 0;\n",
              "      width: 32px;\n",
              "    }\n",
              "\n",
              "    .colab-df-convert:hover {\n",
              "      background-color: #E2EBFA;\n",
              "      box-shadow: 0px 1px 2px rgba(60, 64, 67, 0.3), 0px 1px 3px 1px rgba(60, 64, 67, 0.15);\n",
              "      fill: #174EA6;\n",
              "    }\n",
              "\n",
              "    [theme=dark] .colab-df-convert {\n",
              "      background-color: #3B4455;\n",
              "      fill: #D2E3FC;\n",
              "    }\n",
              "\n",
              "    [theme=dark] .colab-df-convert:hover {\n",
              "      background-color: #434B5C;\n",
              "      box-shadow: 0px 1px 3px 1px rgba(0, 0, 0, 0.15);\n",
              "      filter: drop-shadow(0px 1px 2px rgba(0, 0, 0, 0.3));\n",
              "      fill: #FFFFFF;\n",
              "    }\n",
              "  </style>\n",
              "\n",
              "      <script>\n",
              "        const buttonEl =\n",
              "          document.querySelector('#df-8248b9c6-d006-4299-b6fa-16eb4ccf1cb9 button.colab-df-convert');\n",
              "        buttonEl.style.display =\n",
              "          google.colab.kernel.accessAllowed ? 'block' : 'none';\n",
              "\n",
              "        async function convertToInteractive(key) {\n",
              "          const element = document.querySelector('#df-8248b9c6-d006-4299-b6fa-16eb4ccf1cb9');\n",
              "          const dataTable =\n",
              "            await google.colab.kernel.invokeFunction('convertToInteractive',\n",
              "                                                     [key], {});\n",
              "          if (!dataTable) return;\n",
              "\n",
              "          const docLinkHtml = 'Like what you see? Visit the ' +\n",
              "            '<a target=\"_blank\" href=https://colab.research.google.com/notebooks/data_table.ipynb>data table notebook</a>'\n",
              "            + ' to learn more about interactive tables.';\n",
              "          element.innerHTML = '';\n",
              "          dataTable['output_type'] = 'display_data';\n",
              "          await google.colab.output.renderOutput(dataTable, element);\n",
              "          const docLink = document.createElement('div');\n",
              "          docLink.innerHTML = docLinkHtml;\n",
              "          element.appendChild(docLink);\n",
              "        }\n",
              "      </script>\n",
              "    </div>\n",
              "  </div>\n",
              "  "
            ]
          },
          "metadata": {},
          "execution_count": 64
        }
      ]
    },
    {
      "cell_type": "code",
      "source": [
        "from numpy.linalg import norm\n",
        "import numpy as np\n",
        "A=[1,0,0,0,0,0,0]\n",
        "B= [0,0,0,0,0,0,1] \n",
        "cosine=np.dot(A,B)/(norm(A)*norm(B))\n",
        "print('Cosine scores are',cosine)"
      ],
      "metadata": {
        "id": "UNcEl3VGJ6j4",
        "colab": {
          "base_uri": "https://localhost:8080/"
        },
        "outputId": "f3ae4778-dd25-4121-87c9-85f6f47b0f71"
      },
      "execution_count": 38,
      "outputs": [
        {
          "output_type": "stream",
          "name": "stdout",
          "text": [
            "Cosine scores are 0.0\n"
          ]
        }
      ]
    },
    {
      "cell_type": "markdown",
      "source": [
        "# **KNN MODEL KD TREE ALGORITHM**"
      ],
      "metadata": {
        "id": "MSu7G7n-2Ylt"
      }
    },
    {
      "cell_type": "code",
      "source": [
        "l1=df3['clients'].unique()\n",
        "skill=pd.DataFrame()\n",
        "skill=df3.drop_duplicates()\n",
        "skill['values']=np.nan"
      ],
      "metadata": {
        "id": "3ER1r-UK2fks"
      },
      "execution_count": 39,
      "outputs": []
    },
    {
      "cell_type": "code",
      "source": [
        "for i in l1:\n",
        "  df3.loc[df3['clients']==i,'values']=df3.loc[df3['clients']==i,\"Brands\"].count()"
      ],
      "metadata": {
        "colab": {
          "base_uri": "https://localhost:8080/",
          "height": 328
        },
        "id": "N3pAGj1vgtqm",
        "outputId": "09c26524-622b-4ef3-c87e-75adae421734"
      },
      "execution_count": 40,
      "outputs": [
        {
          "output_type": "error",
          "ename": "KeyboardInterrupt",
          "evalue": "ignored",
          "traceback": [
            "\u001b[0;31m---------------------------------------------------------------------------\u001b[0m",
            "\u001b[0;31mKeyboardInterrupt\u001b[0m                         Traceback (most recent call last)",
            "\u001b[0;32m<ipython-input-40-7948499e7839>\u001b[0m in \u001b[0;36m<module>\u001b[0;34m()\u001b[0m\n\u001b[1;32m      1\u001b[0m \u001b[0;32mfor\u001b[0m \u001b[0mi\u001b[0m \u001b[0;32min\u001b[0m \u001b[0ml1\u001b[0m\u001b[0;34m:\u001b[0m\u001b[0;34m\u001b[0m\u001b[0;34m\u001b[0m\u001b[0m\n\u001b[0;32m----> 2\u001b[0;31m   \u001b[0mdf3\u001b[0m\u001b[0;34m.\u001b[0m\u001b[0mloc\u001b[0m\u001b[0;34m[\u001b[0m\u001b[0mdf3\u001b[0m\u001b[0;34m[\u001b[0m\u001b[0;34m'clients'\u001b[0m\u001b[0;34m]\u001b[0m\u001b[0;34m==\u001b[0m\u001b[0mi\u001b[0m\u001b[0;34m,\u001b[0m\u001b[0;34m'values'\u001b[0m\u001b[0;34m]\u001b[0m\u001b[0;34m=\u001b[0m\u001b[0mdf3\u001b[0m\u001b[0;34m.\u001b[0m\u001b[0mloc\u001b[0m\u001b[0;34m[\u001b[0m\u001b[0mdf3\u001b[0m\u001b[0;34m[\u001b[0m\u001b[0;34m'clients'\u001b[0m\u001b[0;34m]\u001b[0m\u001b[0;34m==\u001b[0m\u001b[0mi\u001b[0m\u001b[0;34m,\u001b[0m\u001b[0;34m\"Brands\"\u001b[0m\u001b[0;34m]\u001b[0m\u001b[0;34m.\u001b[0m\u001b[0mcount\u001b[0m\u001b[0;34m(\u001b[0m\u001b[0;34m)\u001b[0m\u001b[0;34m\u001b[0m\u001b[0;34m\u001b[0m\u001b[0m\n\u001b[0m",
            "\u001b[0;32m/usr/local/lib/python3.7/dist-packages/pandas/core/ops/common.py\u001b[0m in \u001b[0;36mnew_method\u001b[0;34m(self, other)\u001b[0m\n\u001b[1;32m     67\u001b[0m         \u001b[0mother\u001b[0m \u001b[0;34m=\u001b[0m \u001b[0mitem_from_zerodim\u001b[0m\u001b[0;34m(\u001b[0m\u001b[0mother\u001b[0m\u001b[0;34m)\u001b[0m\u001b[0;34m\u001b[0m\u001b[0;34m\u001b[0m\u001b[0m\n\u001b[1;32m     68\u001b[0m \u001b[0;34m\u001b[0m\u001b[0m\n\u001b[0;32m---> 69\u001b[0;31m         \u001b[0;32mreturn\u001b[0m \u001b[0mmethod\u001b[0m\u001b[0;34m(\u001b[0m\u001b[0mself\u001b[0m\u001b[0;34m,\u001b[0m \u001b[0mother\u001b[0m\u001b[0;34m)\u001b[0m\u001b[0;34m\u001b[0m\u001b[0;34m\u001b[0m\u001b[0m\n\u001b[0m\u001b[1;32m     70\u001b[0m \u001b[0;34m\u001b[0m\u001b[0m\n\u001b[1;32m     71\u001b[0m     \u001b[0;32mreturn\u001b[0m \u001b[0mnew_method\u001b[0m\u001b[0;34m\u001b[0m\u001b[0;34m\u001b[0m\u001b[0m\n",
            "\u001b[0;32m/usr/local/lib/python3.7/dist-packages/pandas/core/arraylike.py\u001b[0m in \u001b[0;36m__eq__\u001b[0;34m(self, other)\u001b[0m\n\u001b[1;32m     30\u001b[0m     \u001b[0;34m@\u001b[0m\u001b[0munpack_zerodim_and_defer\u001b[0m\u001b[0;34m(\u001b[0m\u001b[0;34m\"__eq__\"\u001b[0m\u001b[0;34m)\u001b[0m\u001b[0;34m\u001b[0m\u001b[0;34m\u001b[0m\u001b[0m\n\u001b[1;32m     31\u001b[0m     \u001b[0;32mdef\u001b[0m \u001b[0m__eq__\u001b[0m\u001b[0;34m(\u001b[0m\u001b[0mself\u001b[0m\u001b[0;34m,\u001b[0m \u001b[0mother\u001b[0m\u001b[0;34m)\u001b[0m\u001b[0;34m:\u001b[0m\u001b[0;34m\u001b[0m\u001b[0;34m\u001b[0m\u001b[0m\n\u001b[0;32m---> 32\u001b[0;31m         \u001b[0;32mreturn\u001b[0m \u001b[0mself\u001b[0m\u001b[0;34m.\u001b[0m\u001b[0m_cmp_method\u001b[0m\u001b[0;34m(\u001b[0m\u001b[0mother\u001b[0m\u001b[0;34m,\u001b[0m \u001b[0moperator\u001b[0m\u001b[0;34m.\u001b[0m\u001b[0meq\u001b[0m\u001b[0;34m)\u001b[0m\u001b[0;34m\u001b[0m\u001b[0;34m\u001b[0m\u001b[0m\n\u001b[0m\u001b[1;32m     33\u001b[0m \u001b[0;34m\u001b[0m\u001b[0m\n\u001b[1;32m     34\u001b[0m     \u001b[0;34m@\u001b[0m\u001b[0munpack_zerodim_and_defer\u001b[0m\u001b[0;34m(\u001b[0m\u001b[0;34m\"__ne__\"\u001b[0m\u001b[0;34m)\u001b[0m\u001b[0;34m\u001b[0m\u001b[0;34m\u001b[0m\u001b[0m\n",
            "\u001b[0;32m/usr/local/lib/python3.7/dist-packages/pandas/core/series.py\u001b[0m in \u001b[0;36m_cmp_method\u001b[0;34m(self, other, op)\u001b[0m\n\u001b[1;32m   5500\u001b[0m \u001b[0;34m\u001b[0m\u001b[0m\n\u001b[1;32m   5501\u001b[0m         \u001b[0;32mwith\u001b[0m \u001b[0mnp\u001b[0m\u001b[0;34m.\u001b[0m\u001b[0merrstate\u001b[0m\u001b[0;34m(\u001b[0m\u001b[0mall\u001b[0m\u001b[0;34m=\u001b[0m\u001b[0;34m\"ignore\"\u001b[0m\u001b[0;34m)\u001b[0m\u001b[0;34m:\u001b[0m\u001b[0;34m\u001b[0m\u001b[0;34m\u001b[0m\u001b[0m\n\u001b[0;32m-> 5502\u001b[0;31m             \u001b[0mres_values\u001b[0m \u001b[0;34m=\u001b[0m \u001b[0mops\u001b[0m\u001b[0;34m.\u001b[0m\u001b[0mcomparison_op\u001b[0m\u001b[0;34m(\u001b[0m\u001b[0mlvalues\u001b[0m\u001b[0;34m,\u001b[0m \u001b[0mrvalues\u001b[0m\u001b[0;34m,\u001b[0m \u001b[0mop\u001b[0m\u001b[0;34m)\u001b[0m\u001b[0;34m\u001b[0m\u001b[0;34m\u001b[0m\u001b[0m\n\u001b[0m\u001b[1;32m   5503\u001b[0m \u001b[0;34m\u001b[0m\u001b[0m\n\u001b[1;32m   5504\u001b[0m         \u001b[0;32mreturn\u001b[0m \u001b[0mself\u001b[0m\u001b[0;34m.\u001b[0m\u001b[0m_construct_result\u001b[0m\u001b[0;34m(\u001b[0m\u001b[0mres_values\u001b[0m\u001b[0;34m,\u001b[0m \u001b[0mname\u001b[0m\u001b[0;34m=\u001b[0m\u001b[0mres_name\u001b[0m\u001b[0;34m)\u001b[0m\u001b[0;34m\u001b[0m\u001b[0;34m\u001b[0m\u001b[0m\n",
            "\u001b[0;32m/usr/local/lib/python3.7/dist-packages/pandas/core/ops/array_ops.py\u001b[0m in \u001b[0;36mcomparison_op\u001b[0;34m(left, right, op)\u001b[0m\n\u001b[1;32m    282\u001b[0m \u001b[0;34m\u001b[0m\u001b[0m\n\u001b[1;32m    283\u001b[0m     \u001b[0;32melif\u001b[0m \u001b[0mis_object_dtype\u001b[0m\u001b[0;34m(\u001b[0m\u001b[0mlvalues\u001b[0m\u001b[0;34m.\u001b[0m\u001b[0mdtype\u001b[0m\u001b[0;34m)\u001b[0m \u001b[0;32mor\u001b[0m \u001b[0misinstance\u001b[0m\u001b[0;34m(\u001b[0m\u001b[0mrvalues\u001b[0m\u001b[0;34m,\u001b[0m \u001b[0mstr\u001b[0m\u001b[0;34m)\u001b[0m\u001b[0;34m:\u001b[0m\u001b[0;34m\u001b[0m\u001b[0;34m\u001b[0m\u001b[0m\n\u001b[0;32m--> 284\u001b[0;31m         \u001b[0mres_values\u001b[0m \u001b[0;34m=\u001b[0m \u001b[0mcomp_method_OBJECT_ARRAY\u001b[0m\u001b[0;34m(\u001b[0m\u001b[0mop\u001b[0m\u001b[0;34m,\u001b[0m \u001b[0mlvalues\u001b[0m\u001b[0;34m,\u001b[0m \u001b[0mrvalues\u001b[0m\u001b[0;34m)\u001b[0m\u001b[0;34m\u001b[0m\u001b[0;34m\u001b[0m\u001b[0m\n\u001b[0m\u001b[1;32m    285\u001b[0m \u001b[0;34m\u001b[0m\u001b[0m\n\u001b[1;32m    286\u001b[0m     \u001b[0;32melse\u001b[0m\u001b[0;34m:\u001b[0m\u001b[0;34m\u001b[0m\u001b[0;34m\u001b[0m\u001b[0m\n",
            "\u001b[0;32m/usr/local/lib/python3.7/dist-packages/pandas/core/ops/array_ops.py\u001b[0m in \u001b[0;36mcomp_method_OBJECT_ARRAY\u001b[0;34m(op, x, y)\u001b[0m\n\u001b[1;32m     71\u001b[0m         \u001b[0mresult\u001b[0m \u001b[0;34m=\u001b[0m \u001b[0mlibops\u001b[0m\u001b[0;34m.\u001b[0m\u001b[0mvec_compare\u001b[0m\u001b[0;34m(\u001b[0m\u001b[0mx\u001b[0m\u001b[0;34m.\u001b[0m\u001b[0mravel\u001b[0m\u001b[0;34m(\u001b[0m\u001b[0;34m)\u001b[0m\u001b[0;34m,\u001b[0m \u001b[0my\u001b[0m\u001b[0;34m.\u001b[0m\u001b[0mravel\u001b[0m\u001b[0;34m(\u001b[0m\u001b[0;34m)\u001b[0m\u001b[0;34m,\u001b[0m \u001b[0mop\u001b[0m\u001b[0;34m)\u001b[0m\u001b[0;34m\u001b[0m\u001b[0;34m\u001b[0m\u001b[0m\n\u001b[1;32m     72\u001b[0m     \u001b[0;32melse\u001b[0m\u001b[0;34m:\u001b[0m\u001b[0;34m\u001b[0m\u001b[0;34m\u001b[0m\u001b[0m\n\u001b[0;32m---> 73\u001b[0;31m         \u001b[0mresult\u001b[0m \u001b[0;34m=\u001b[0m \u001b[0mlibops\u001b[0m\u001b[0;34m.\u001b[0m\u001b[0mscalar_compare\u001b[0m\u001b[0;34m(\u001b[0m\u001b[0mx\u001b[0m\u001b[0;34m.\u001b[0m\u001b[0mravel\u001b[0m\u001b[0;34m(\u001b[0m\u001b[0;34m)\u001b[0m\u001b[0;34m,\u001b[0m \u001b[0my\u001b[0m\u001b[0;34m,\u001b[0m \u001b[0mop\u001b[0m\u001b[0;34m)\u001b[0m\u001b[0;34m\u001b[0m\u001b[0;34m\u001b[0m\u001b[0m\n\u001b[0m\u001b[1;32m     74\u001b[0m     \u001b[0;32mreturn\u001b[0m \u001b[0mresult\u001b[0m\u001b[0;34m.\u001b[0m\u001b[0mreshape\u001b[0m\u001b[0;34m(\u001b[0m\u001b[0mx\u001b[0m\u001b[0;34m.\u001b[0m\u001b[0mshape\u001b[0m\u001b[0;34m)\u001b[0m\u001b[0;34m\u001b[0m\u001b[0;34m\u001b[0m\u001b[0m\n\u001b[1;32m     75\u001b[0m \u001b[0;34m\u001b[0m\u001b[0m\n",
            "\u001b[0;31mKeyboardInterrupt\u001b[0m: "
          ]
        }
      ]
    },
    {
      "cell_type": "code",
      "source": [
        "df3['values']"
      ],
      "metadata": {
        "id": "g8e6y6-Omt9I"
      },
      "execution_count": null,
      "outputs": []
    },
    {
      "cell_type": "code",
      "source": [
        "univSkills = df3.pivot_table(values=\"values\", columns=\"Brands\", index=[\"clients\"])\n",
        "univSkills.fillna(0,axis=1,inplace=True)"
      ],
      "metadata": {
        "id": "HS9iAkZKoCII"
      },
      "execution_count": null,
      "outputs": []
    },
    {
      "cell_type": "code",
      "source": [
        "univSkills.shape"
      ],
      "metadata": {
        "id": "gONzFOOj3yPi"
      },
      "execution_count": null,
      "outputs": []
    },
    {
      "cell_type": "code",
      "source": [
        "univSkills.sum(axis=1)"
      ],
      "metadata": {
        "id": "GptiSus84fBB"
      },
      "execution_count": null,
      "outputs": []
    },
    {
      "cell_type": "code",
      "source": [
        "# univSkills = univSkills.div(univSkills.sum(axis=1), axis=0)\n",
        "# univSkills.fillna(0, inplace=True )"
      ],
      "metadata": {
        "id": "L7Ju1q-p5BRh"
      },
      "execution_count": null,
      "outputs": []
    },
    {
      "cell_type": "code",
      "source": [
        "univSkills.sum(axis=1)"
      ],
      "metadata": {
        "id": "g4ewxkyh5RxS"
      },
      "execution_count": null,
      "outputs": []
    },
    {
      "cell_type": "code",
      "source": [
        "import pandas as pd\n",
        "from sklearn.neighbors import KDTree"
      ],
      "metadata": {
        "id": "G9QbLH4Q5VdZ"
      },
      "execution_count": 48,
      "outputs": []
    },
    {
      "cell_type": "code",
      "source": [
        "tree = KDTree(dff,leaf_size=5)"
      ],
      "metadata": {
        "id": "rKvailY66FeK"
      },
      "execution_count": 49,
      "outputs": []
    },
    {
      "cell_type": "code",
      "source": [
        "dist, ind = tree.query(dff[:1], k=5)"
      ],
      "metadata": {
        "id": "Q6QAMH3e6GED"
      },
      "execution_count": 50,
      "outputs": []
    },
    {
      "cell_type": "code",
      "source": [
        "ind"
      ],
      "metadata": {
        "colab": {
          "base_uri": "https://localhost:8080/"
        },
        "id": "ZcCqnadB6JrJ",
        "outputId": "be376763-f857-4915-a293-0a4409bfa2ee"
      },
      "execution_count": 51,
      "outputs": [
        {
          "output_type": "execute_result",
          "data": {
            "text/plain": [
              "array([[   0, 6716, 8374, 1511, 1651]])"
            ]
          },
          "metadata": {},
          "execution_count": 51
        }
      ]
    },
    {
      "cell_type": "code",
      "source": [
        "dff.iloc[ind.tolist()[0]]"
      ],
      "metadata": {
        "colab": {
          "base_uri": "https://localhost:8080/",
          "height": 315
        },
        "id": "Y13N0LhA6LhR",
        "outputId": "85c220f2-3176-4e29-b96d-6929119fc7b8"
      },
      "execution_count": 52,
      "outputs": [
        {
          "output_type": "execute_result",
          "data": {
            "text/plain": [
              "      John Lobb  Louis Feraud  Gentle Monster  Karam Beirut  Asian Wok  \\\n",
              "0           1.0           1.0             1.0           1.0        0.0   \n",
              "6863        1.0           0.0             0.0           0.0        0.0   \n",
              "8547        1.0           1.0             0.0           0.0        0.0   \n",
              "1536        1.0           0.0             0.0           0.0        0.0   \n",
              "1680        1.0           0.0             0.0           0.0        0.0   \n",
              "\n",
              "      KOI THE  Roger Vivier  Cartier  Levi's  IRO  ...  La Senza  \\\n",
              "0         0.0           0.0      0.0     0.0  0.0  ...       0.0   \n",
              "6863      0.0           0.0      0.0     0.0  0.0  ...       0.0   \n",
              "8547      0.0           0.0      0.0     0.0  0.0  ...       0.0   \n",
              "1536      0.0           0.0      0.0     0.0  0.0  ...       0.0   \n",
              "1680      0.0           0.0      0.0     0.0  0.0  ...       0.0   \n",
              "\n",
              "      Lobby Gents Salon  Caha Capo  TWG Tea  Bershka  Illy Café  ARAMEX  \\\n",
              "0                   0.0        0.0      0.0      0.0        0.0     0.0   \n",
              "6863                0.0        0.0      0.0      0.0        0.0     0.0   \n",
              "8547                0.0        0.0      0.0      0.0        0.0     0.0   \n",
              "1536                0.0        0.0      0.0      0.0        0.0     0.0   \n",
              "1680                0.0        0.0      0.0      0.0        0.0     0.0   \n",
              "\n",
              "      Zoppini  Better Life  Besh  \n",
              "0         0.0          0.0   0.0  \n",
              "6863      0.0          0.0   0.0  \n",
              "8547      0.0          0.0   0.0  \n",
              "1536      0.0          0.0   0.0  \n",
              "1680      0.0          0.0   0.0  \n",
              "\n",
              "[5 rows x 2052 columns]"
            ],
            "text/html": [
              "\n",
              "  <div id=\"df-eb98d1cb-aa77-4535-8d84-1a358b3c757f\">\n",
              "    <div class=\"colab-df-container\">\n",
              "      <div>\n",
              "<style scoped>\n",
              "    .dataframe tbody tr th:only-of-type {\n",
              "        vertical-align: middle;\n",
              "    }\n",
              "\n",
              "    .dataframe tbody tr th {\n",
              "        vertical-align: top;\n",
              "    }\n",
              "\n",
              "    .dataframe thead th {\n",
              "        text-align: right;\n",
              "    }\n",
              "</style>\n",
              "<table border=\"1\" class=\"dataframe\">\n",
              "  <thead>\n",
              "    <tr style=\"text-align: right;\">\n",
              "      <th></th>\n",
              "      <th>John Lobb</th>\n",
              "      <th>Louis Feraud</th>\n",
              "      <th>Gentle Monster</th>\n",
              "      <th>Karam Beirut</th>\n",
              "      <th>Asian Wok</th>\n",
              "      <th>KOI THE</th>\n",
              "      <th>Roger Vivier</th>\n",
              "      <th>Cartier</th>\n",
              "      <th>Levi's</th>\n",
              "      <th>IRO</th>\n",
              "      <th>...</th>\n",
              "      <th>La Senza</th>\n",
              "      <th>Lobby Gents Salon</th>\n",
              "      <th>Caha Capo</th>\n",
              "      <th>TWG Tea</th>\n",
              "      <th>Bershka</th>\n",
              "      <th>Illy Café</th>\n",
              "      <th>ARAMEX</th>\n",
              "      <th>Zoppini</th>\n",
              "      <th>Better Life</th>\n",
              "      <th>Besh</th>\n",
              "    </tr>\n",
              "  </thead>\n",
              "  <tbody>\n",
              "    <tr>\n",
              "      <th>0</th>\n",
              "      <td>1.0</td>\n",
              "      <td>1.0</td>\n",
              "      <td>1.0</td>\n",
              "      <td>1.0</td>\n",
              "      <td>0.0</td>\n",
              "      <td>0.0</td>\n",
              "      <td>0.0</td>\n",
              "      <td>0.0</td>\n",
              "      <td>0.0</td>\n",
              "      <td>0.0</td>\n",
              "      <td>...</td>\n",
              "      <td>0.0</td>\n",
              "      <td>0.0</td>\n",
              "      <td>0.0</td>\n",
              "      <td>0.0</td>\n",
              "      <td>0.0</td>\n",
              "      <td>0.0</td>\n",
              "      <td>0.0</td>\n",
              "      <td>0.0</td>\n",
              "      <td>0.0</td>\n",
              "      <td>0.0</td>\n",
              "    </tr>\n",
              "    <tr>\n",
              "      <th>6863</th>\n",
              "      <td>1.0</td>\n",
              "      <td>0.0</td>\n",
              "      <td>0.0</td>\n",
              "      <td>0.0</td>\n",
              "      <td>0.0</td>\n",
              "      <td>0.0</td>\n",
              "      <td>0.0</td>\n",
              "      <td>0.0</td>\n",
              "      <td>0.0</td>\n",
              "      <td>0.0</td>\n",
              "      <td>...</td>\n",
              "      <td>0.0</td>\n",
              "      <td>0.0</td>\n",
              "      <td>0.0</td>\n",
              "      <td>0.0</td>\n",
              "      <td>0.0</td>\n",
              "      <td>0.0</td>\n",
              "      <td>0.0</td>\n",
              "      <td>0.0</td>\n",
              "      <td>0.0</td>\n",
              "      <td>0.0</td>\n",
              "    </tr>\n",
              "    <tr>\n",
              "      <th>8547</th>\n",
              "      <td>1.0</td>\n",
              "      <td>1.0</td>\n",
              "      <td>0.0</td>\n",
              "      <td>0.0</td>\n",
              "      <td>0.0</td>\n",
              "      <td>0.0</td>\n",
              "      <td>0.0</td>\n",
              "      <td>0.0</td>\n",
              "      <td>0.0</td>\n",
              "      <td>0.0</td>\n",
              "      <td>...</td>\n",
              "      <td>0.0</td>\n",
              "      <td>0.0</td>\n",
              "      <td>0.0</td>\n",
              "      <td>0.0</td>\n",
              "      <td>0.0</td>\n",
              "      <td>0.0</td>\n",
              "      <td>0.0</td>\n",
              "      <td>0.0</td>\n",
              "      <td>0.0</td>\n",
              "      <td>0.0</td>\n",
              "    </tr>\n",
              "    <tr>\n",
              "      <th>1536</th>\n",
              "      <td>1.0</td>\n",
              "      <td>0.0</td>\n",
              "      <td>0.0</td>\n",
              "      <td>0.0</td>\n",
              "      <td>0.0</td>\n",
              "      <td>0.0</td>\n",
              "      <td>0.0</td>\n",
              "      <td>0.0</td>\n",
              "      <td>0.0</td>\n",
              "      <td>0.0</td>\n",
              "      <td>...</td>\n",
              "      <td>0.0</td>\n",
              "      <td>0.0</td>\n",
              "      <td>0.0</td>\n",
              "      <td>0.0</td>\n",
              "      <td>0.0</td>\n",
              "      <td>0.0</td>\n",
              "      <td>0.0</td>\n",
              "      <td>0.0</td>\n",
              "      <td>0.0</td>\n",
              "      <td>0.0</td>\n",
              "    </tr>\n",
              "    <tr>\n",
              "      <th>1680</th>\n",
              "      <td>1.0</td>\n",
              "      <td>0.0</td>\n",
              "      <td>0.0</td>\n",
              "      <td>0.0</td>\n",
              "      <td>0.0</td>\n",
              "      <td>0.0</td>\n",
              "      <td>0.0</td>\n",
              "      <td>0.0</td>\n",
              "      <td>0.0</td>\n",
              "      <td>0.0</td>\n",
              "      <td>...</td>\n",
              "      <td>0.0</td>\n",
              "      <td>0.0</td>\n",
              "      <td>0.0</td>\n",
              "      <td>0.0</td>\n",
              "      <td>0.0</td>\n",
              "      <td>0.0</td>\n",
              "      <td>0.0</td>\n",
              "      <td>0.0</td>\n",
              "      <td>0.0</td>\n",
              "      <td>0.0</td>\n",
              "    </tr>\n",
              "  </tbody>\n",
              "</table>\n",
              "<p>5 rows × 2052 columns</p>\n",
              "</div>\n",
              "      <button class=\"colab-df-convert\" onclick=\"convertToInteractive('df-eb98d1cb-aa77-4535-8d84-1a358b3c757f')\"\n",
              "              title=\"Convert this dataframe to an interactive table.\"\n",
              "              style=\"display:none;\">\n",
              "        \n",
              "  <svg xmlns=\"http://www.w3.org/2000/svg\" height=\"24px\"viewBox=\"0 0 24 24\"\n",
              "       width=\"24px\">\n",
              "    <path d=\"M0 0h24v24H0V0z\" fill=\"none\"/>\n",
              "    <path d=\"M18.56 5.44l.94 2.06.94-2.06 2.06-.94-2.06-.94-.94-2.06-.94 2.06-2.06.94zm-11 1L8.5 8.5l.94-2.06 2.06-.94-2.06-.94L8.5 2.5l-.94 2.06-2.06.94zm10 10l.94 2.06.94-2.06 2.06-.94-2.06-.94-.94-2.06-.94 2.06-2.06.94z\"/><path d=\"M17.41 7.96l-1.37-1.37c-.4-.4-.92-.59-1.43-.59-.52 0-1.04.2-1.43.59L10.3 9.45l-7.72 7.72c-.78.78-.78 2.05 0 2.83L4 21.41c.39.39.9.59 1.41.59.51 0 1.02-.2 1.41-.59l7.78-7.78 2.81-2.81c.8-.78.8-2.07 0-2.86zM5.41 20L4 18.59l7.72-7.72 1.47 1.35L5.41 20z\"/>\n",
              "  </svg>\n",
              "      </button>\n",
              "      \n",
              "  <style>\n",
              "    .colab-df-container {\n",
              "      display:flex;\n",
              "      flex-wrap:wrap;\n",
              "      gap: 12px;\n",
              "    }\n",
              "\n",
              "    .colab-df-convert {\n",
              "      background-color: #E8F0FE;\n",
              "      border: none;\n",
              "      border-radius: 50%;\n",
              "      cursor: pointer;\n",
              "      display: none;\n",
              "      fill: #1967D2;\n",
              "      height: 32px;\n",
              "      padding: 0 0 0 0;\n",
              "      width: 32px;\n",
              "    }\n",
              "\n",
              "    .colab-df-convert:hover {\n",
              "      background-color: #E2EBFA;\n",
              "      box-shadow: 0px 1px 2px rgba(60, 64, 67, 0.3), 0px 1px 3px 1px rgba(60, 64, 67, 0.15);\n",
              "      fill: #174EA6;\n",
              "    }\n",
              "\n",
              "    [theme=dark] .colab-df-convert {\n",
              "      background-color: #3B4455;\n",
              "      fill: #D2E3FC;\n",
              "    }\n",
              "\n",
              "    [theme=dark] .colab-df-convert:hover {\n",
              "      background-color: #434B5C;\n",
              "      box-shadow: 0px 1px 3px 1px rgba(0, 0, 0, 0.15);\n",
              "      filter: drop-shadow(0px 1px 2px rgba(0, 0, 0, 0.3));\n",
              "      fill: #FFFFFF;\n",
              "    }\n",
              "  </style>\n",
              "\n",
              "      <script>\n",
              "        const buttonEl =\n",
              "          document.querySelector('#df-eb98d1cb-aa77-4535-8d84-1a358b3c757f button.colab-df-convert');\n",
              "        buttonEl.style.display =\n",
              "          google.colab.kernel.accessAllowed ? 'block' : 'none';\n",
              "\n",
              "        async function convertToInteractive(key) {\n",
              "          const element = document.querySelector('#df-eb98d1cb-aa77-4535-8d84-1a358b3c757f');\n",
              "          const dataTable =\n",
              "            await google.colab.kernel.invokeFunction('convertToInteractive',\n",
              "                                                     [key], {});\n",
              "          if (!dataTable) return;\n",
              "\n",
              "          const docLinkHtml = 'Like what you see? Visit the ' +\n",
              "            '<a target=\"_blank\" href=https://colab.research.google.com/notebooks/data_table.ipynb>data table notebook</a>'\n",
              "            + ' to learn more about interactive tables.';\n",
              "          element.innerHTML = '';\n",
              "          dataTable['output_type'] = 'display_data';\n",
              "          await google.colab.output.renderOutput(dataTable, element);\n",
              "          const docLink = document.createElement('div');\n",
              "          docLink.innerHTML = docLinkHtml;\n",
              "          element.appendChild(docLink);\n",
              "        }\n",
              "      </script>\n",
              "    </div>\n",
              "  </div>\n",
              "  "
            ]
          },
          "metadata": {},
          "execution_count": 52
        }
      ]
    },
    {
      "cell_type": "code",
      "source": [
        "print(df.loc[df['clients']=='5dcd135dadfef4341ce3b6d3','brand2'])"
      ],
      "metadata": {
        "colab": {
          "base_uri": "https://localhost:8080/"
        },
        "id": "euaoMVhC6R6J",
        "outputId": "b1b6e826-7e36-4046-9fc1-199e7e786c80"
      },
      "execution_count": 53,
      "outputs": [
        {
          "output_type": "stream",
          "name": "stdout",
          "text": [
            "498    Aeropostale,Samra Jewellery,Bose,Kiehl's,Roger...\n",
            "658         A-Cold-Wall*,Taqado Mexican Kitchen,Fujiyama\n",
            "Name: brand2, dtype: object\n"
          ]
        }
      ]
    },
    {
      "cell_type": "code",
      "source": [
        "from numpy.linalg import norm\n",
        "for i,j in enumerate(ind):\n",
        "  A=dff.iloc[i]\n",
        "  print('Initiative index',i)\n",
        "  for k in j:\n",
        "    print('indices',k)\n",
        "    B=dff.iloc[k]\n",
        "    cosine=np.dot(A,B)/(norm(A)*norm(B))\n",
        "    print('Cosine scores are',cosine)"
      ],
      "metadata": {
        "colab": {
          "base_uri": "https://localhost:8080/"
        },
        "id": "iSNeyVgm655n",
        "outputId": "0cb241a2-6ee9-4e0e-c9b1-fea512c68aea"
      },
      "execution_count": 54,
      "outputs": [
        {
          "output_type": "stream",
          "name": "stdout",
          "text": [
            "Initiative index 0\n",
            "indices 0\n",
            "Cosine scores are 1.0\n",
            "indices 6716\n",
            "Cosine scores are 0.2886751345948129\n",
            "indices 8374\n",
            "Cosine scores are 0.4472135954999579\n",
            "indices 1511\n",
            "Cosine scores are 0.2886751345948129\n",
            "indices 1651\n",
            "Cosine scores are 0.2886751345948129\n"
          ]
        }
      ]
    },
    {
      "cell_type": "code",
      "source": [
        ""
      ],
      "metadata": {
        "id": "dHT_apO4-IDK"
      },
      "execution_count": 54,
      "outputs": []
    }
  ]
}